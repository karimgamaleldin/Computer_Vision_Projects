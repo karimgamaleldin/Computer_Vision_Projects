{
  "nbformat": 4,
  "nbformat_minor": 0,
  "metadata": {
    "colab": {
      "provenance": [],
      "gpuType": "T4"
    },
    "kernelspec": {
      "name": "python3",
      "display_name": "Python 3"
    },
    "language_info": {
      "name": "python"
    },
    "accelerator": "GPU",
    "widgets": {
      "application/vnd.jupyter.widget-state+json": {
        "2e89b52684e7466ea09af576761f2d70": {
          "model_module": "@jupyter-widgets/controls",
          "model_name": "HBoxModel",
          "model_module_version": "1.5.0",
          "state": {
            "_dom_classes": [],
            "_model_module": "@jupyter-widgets/controls",
            "_model_module_version": "1.5.0",
            "_model_name": "HBoxModel",
            "_view_count": null,
            "_view_module": "@jupyter-widgets/controls",
            "_view_module_version": "1.5.0",
            "_view_name": "HBoxView",
            "box_style": "",
            "children": [
              "IPY_MODEL_d5ea09caf6ca4b83a245cecbed3db5a9",
              "IPY_MODEL_be633a0d27a34356a51f75aa423b5ca4",
              "IPY_MODEL_2cb3853cae8b472d8d0bf4f29e3894c8"
            ],
            "layout": "IPY_MODEL_c9dae49b69024cf7aa84de5ad1bd514c"
          }
        },
        "d5ea09caf6ca4b83a245cecbed3db5a9": {
          "model_module": "@jupyter-widgets/controls",
          "model_name": "HTMLModel",
          "model_module_version": "1.5.0",
          "state": {
            "_dom_classes": [],
            "_model_module": "@jupyter-widgets/controls",
            "_model_module_version": "1.5.0",
            "_model_name": "HTMLModel",
            "_view_count": null,
            "_view_module": "@jupyter-widgets/controls",
            "_view_module_version": "1.5.0",
            "_view_name": "HTMLView",
            "description": "",
            "description_tooltip": null,
            "layout": "IPY_MODEL_f033c15a301b40db85b39a0786a8bc45",
            "placeholder": "​",
            "style": "IPY_MODEL_b635c86591a442f9bbc8f4153fbdd51c",
            "value": "Dl Completed...: 100%"
          }
        },
        "be633a0d27a34356a51f75aa423b5ca4": {
          "model_module": "@jupyter-widgets/controls",
          "model_name": "FloatProgressModel",
          "model_module_version": "1.5.0",
          "state": {
            "_dom_classes": [],
            "_model_module": "@jupyter-widgets/controls",
            "_model_module_version": "1.5.0",
            "_model_name": "FloatProgressModel",
            "_view_count": null,
            "_view_module": "@jupyter-widgets/controls",
            "_view_module_version": "1.5.0",
            "_view_name": "ProgressView",
            "bar_style": "success",
            "description": "",
            "description_tooltip": null,
            "layout": "IPY_MODEL_27e8ddb1bfd74ee99c6db3d86c54e325",
            "max": 1,
            "min": 0,
            "orientation": "horizontal",
            "style": "IPY_MODEL_1073515145ff439e8e313e1deed10d88",
            "value": 1
          }
        },
        "2cb3853cae8b472d8d0bf4f29e3894c8": {
          "model_module": "@jupyter-widgets/controls",
          "model_name": "HTMLModel",
          "model_module_version": "1.5.0",
          "state": {
            "_dom_classes": [],
            "_model_module": "@jupyter-widgets/controls",
            "_model_module_version": "1.5.0",
            "_model_name": "HTMLModel",
            "_view_count": null,
            "_view_module": "@jupyter-widgets/controls",
            "_view_module_version": "1.5.0",
            "_view_name": "HTMLView",
            "description": "",
            "description_tooltip": null,
            "layout": "IPY_MODEL_a6084de0f63f490d931229c5c3dcfd5d",
            "placeholder": "​",
            "style": "IPY_MODEL_cff88616e9984db985c0732939e8e3e7",
            "value": " 1/1 [00:17&lt;00:00, 15.48s/ url]"
          }
        },
        "c9dae49b69024cf7aa84de5ad1bd514c": {
          "model_module": "@jupyter-widgets/base",
          "model_name": "LayoutModel",
          "model_module_version": "1.2.0",
          "state": {
            "_model_module": "@jupyter-widgets/base",
            "_model_module_version": "1.2.0",
            "_model_name": "LayoutModel",
            "_view_count": null,
            "_view_module": "@jupyter-widgets/base",
            "_view_module_version": "1.2.0",
            "_view_name": "LayoutView",
            "align_content": null,
            "align_items": null,
            "align_self": null,
            "border": null,
            "bottom": null,
            "display": null,
            "flex": null,
            "flex_flow": null,
            "grid_area": null,
            "grid_auto_columns": null,
            "grid_auto_flow": null,
            "grid_auto_rows": null,
            "grid_column": null,
            "grid_gap": null,
            "grid_row": null,
            "grid_template_areas": null,
            "grid_template_columns": null,
            "grid_template_rows": null,
            "height": null,
            "justify_content": null,
            "justify_items": null,
            "left": null,
            "margin": null,
            "max_height": null,
            "max_width": null,
            "min_height": null,
            "min_width": null,
            "object_fit": null,
            "object_position": null,
            "order": null,
            "overflow": null,
            "overflow_x": null,
            "overflow_y": null,
            "padding": null,
            "right": null,
            "top": null,
            "visibility": null,
            "width": null
          }
        },
        "f033c15a301b40db85b39a0786a8bc45": {
          "model_module": "@jupyter-widgets/base",
          "model_name": "LayoutModel",
          "model_module_version": "1.2.0",
          "state": {
            "_model_module": "@jupyter-widgets/base",
            "_model_module_version": "1.2.0",
            "_model_name": "LayoutModel",
            "_view_count": null,
            "_view_module": "@jupyter-widgets/base",
            "_view_module_version": "1.2.0",
            "_view_name": "LayoutView",
            "align_content": null,
            "align_items": null,
            "align_self": null,
            "border": null,
            "bottom": null,
            "display": null,
            "flex": null,
            "flex_flow": null,
            "grid_area": null,
            "grid_auto_columns": null,
            "grid_auto_flow": null,
            "grid_auto_rows": null,
            "grid_column": null,
            "grid_gap": null,
            "grid_row": null,
            "grid_template_areas": null,
            "grid_template_columns": null,
            "grid_template_rows": null,
            "height": null,
            "justify_content": null,
            "justify_items": null,
            "left": null,
            "margin": null,
            "max_height": null,
            "max_width": null,
            "min_height": null,
            "min_width": null,
            "object_fit": null,
            "object_position": null,
            "order": null,
            "overflow": null,
            "overflow_x": null,
            "overflow_y": null,
            "padding": null,
            "right": null,
            "top": null,
            "visibility": null,
            "width": null
          }
        },
        "b635c86591a442f9bbc8f4153fbdd51c": {
          "model_module": "@jupyter-widgets/controls",
          "model_name": "DescriptionStyleModel",
          "model_module_version": "1.5.0",
          "state": {
            "_model_module": "@jupyter-widgets/controls",
            "_model_module_version": "1.5.0",
            "_model_name": "DescriptionStyleModel",
            "_view_count": null,
            "_view_module": "@jupyter-widgets/base",
            "_view_module_version": "1.2.0",
            "_view_name": "StyleView",
            "description_width": ""
          }
        },
        "27e8ddb1bfd74ee99c6db3d86c54e325": {
          "model_module": "@jupyter-widgets/base",
          "model_name": "LayoutModel",
          "model_module_version": "1.2.0",
          "state": {
            "_model_module": "@jupyter-widgets/base",
            "_model_module_version": "1.2.0",
            "_model_name": "LayoutModel",
            "_view_count": null,
            "_view_module": "@jupyter-widgets/base",
            "_view_module_version": "1.2.0",
            "_view_name": "LayoutView",
            "align_content": null,
            "align_items": null,
            "align_self": null,
            "border": null,
            "bottom": null,
            "display": null,
            "flex": null,
            "flex_flow": null,
            "grid_area": null,
            "grid_auto_columns": null,
            "grid_auto_flow": null,
            "grid_auto_rows": null,
            "grid_column": null,
            "grid_gap": null,
            "grid_row": null,
            "grid_template_areas": null,
            "grid_template_columns": null,
            "grid_template_rows": null,
            "height": null,
            "justify_content": null,
            "justify_items": null,
            "left": null,
            "margin": null,
            "max_height": null,
            "max_width": null,
            "min_height": null,
            "min_width": null,
            "object_fit": null,
            "object_position": null,
            "order": null,
            "overflow": null,
            "overflow_x": null,
            "overflow_y": null,
            "padding": null,
            "right": null,
            "top": null,
            "visibility": null,
            "width": "20px"
          }
        },
        "1073515145ff439e8e313e1deed10d88": {
          "model_module": "@jupyter-widgets/controls",
          "model_name": "ProgressStyleModel",
          "model_module_version": "1.5.0",
          "state": {
            "_model_module": "@jupyter-widgets/controls",
            "_model_module_version": "1.5.0",
            "_model_name": "ProgressStyleModel",
            "_view_count": null,
            "_view_module": "@jupyter-widgets/base",
            "_view_module_version": "1.2.0",
            "_view_name": "StyleView",
            "bar_color": null,
            "description_width": ""
          }
        },
        "a6084de0f63f490d931229c5c3dcfd5d": {
          "model_module": "@jupyter-widgets/base",
          "model_name": "LayoutModel",
          "model_module_version": "1.2.0",
          "state": {
            "_model_module": "@jupyter-widgets/base",
            "_model_module_version": "1.2.0",
            "_model_name": "LayoutModel",
            "_view_count": null,
            "_view_module": "@jupyter-widgets/base",
            "_view_module_version": "1.2.0",
            "_view_name": "LayoutView",
            "align_content": null,
            "align_items": null,
            "align_self": null,
            "border": null,
            "bottom": null,
            "display": null,
            "flex": null,
            "flex_flow": null,
            "grid_area": null,
            "grid_auto_columns": null,
            "grid_auto_flow": null,
            "grid_auto_rows": null,
            "grid_column": null,
            "grid_gap": null,
            "grid_row": null,
            "grid_template_areas": null,
            "grid_template_columns": null,
            "grid_template_rows": null,
            "height": null,
            "justify_content": null,
            "justify_items": null,
            "left": null,
            "margin": null,
            "max_height": null,
            "max_width": null,
            "min_height": null,
            "min_width": null,
            "object_fit": null,
            "object_position": null,
            "order": null,
            "overflow": null,
            "overflow_x": null,
            "overflow_y": null,
            "padding": null,
            "right": null,
            "top": null,
            "visibility": null,
            "width": null
          }
        },
        "cff88616e9984db985c0732939e8e3e7": {
          "model_module": "@jupyter-widgets/controls",
          "model_name": "DescriptionStyleModel",
          "model_module_version": "1.5.0",
          "state": {
            "_model_module": "@jupyter-widgets/controls",
            "_model_module_version": "1.5.0",
            "_model_name": "DescriptionStyleModel",
            "_view_count": null,
            "_view_module": "@jupyter-widgets/base",
            "_view_module_version": "1.2.0",
            "_view_name": "StyleView",
            "description_width": ""
          }
        },
        "019d08910f9c4bc79744820aea823a01": {
          "model_module": "@jupyter-widgets/controls",
          "model_name": "HBoxModel",
          "model_module_version": "1.5.0",
          "state": {
            "_dom_classes": [],
            "_model_module": "@jupyter-widgets/controls",
            "_model_module_version": "1.5.0",
            "_model_name": "HBoxModel",
            "_view_count": null,
            "_view_module": "@jupyter-widgets/controls",
            "_view_module_version": "1.5.0",
            "_view_name": "HBoxView",
            "box_style": "",
            "children": [
              "IPY_MODEL_31580e652e5b4ff19431a3e881209b43",
              "IPY_MODEL_b3c98d0189b342fb970eeb0f16b74aca",
              "IPY_MODEL_3deab5f0625e4873a8c9b158d399f2de"
            ],
            "layout": "IPY_MODEL_fa00bfac19684ec9b9684a413a1e3a5c"
          }
        },
        "31580e652e5b4ff19431a3e881209b43": {
          "model_module": "@jupyter-widgets/controls",
          "model_name": "HTMLModel",
          "model_module_version": "1.5.0",
          "state": {
            "_dom_classes": [],
            "_model_module": "@jupyter-widgets/controls",
            "_model_module_version": "1.5.0",
            "_model_name": "HTMLModel",
            "_view_count": null,
            "_view_module": "@jupyter-widgets/controls",
            "_view_module_version": "1.5.0",
            "_view_name": "HTMLView",
            "description": "",
            "description_tooltip": null,
            "layout": "IPY_MODEL_eecdd4e7acd74675a0d1481d2f6ee6f6",
            "placeholder": "​",
            "style": "IPY_MODEL_a93e9bc314a849b7be80ba7e15647b4d",
            "value": "Dl Size...: 100%"
          }
        },
        "b3c98d0189b342fb970eeb0f16b74aca": {
          "model_module": "@jupyter-widgets/controls",
          "model_name": "FloatProgressModel",
          "model_module_version": "1.5.0",
          "state": {
            "_dom_classes": [],
            "_model_module": "@jupyter-widgets/controls",
            "_model_module_version": "1.5.0",
            "_model_name": "FloatProgressModel",
            "_view_count": null,
            "_view_module": "@jupyter-widgets/controls",
            "_view_module_version": "1.5.0",
            "_view_name": "ProgressView",
            "bar_style": "success",
            "description": "",
            "description_tooltip": null,
            "layout": "IPY_MODEL_a5cd956b2572455ea5704b9d6a083bcd",
            "max": 1,
            "min": 0,
            "orientation": "horizontal",
            "style": "IPY_MODEL_84a837eb9af84d69a8db3d9461c2e217",
            "value": 1
          }
        },
        "3deab5f0625e4873a8c9b158d399f2de": {
          "model_module": "@jupyter-widgets/controls",
          "model_name": "HTMLModel",
          "model_module_version": "1.5.0",
          "state": {
            "_dom_classes": [],
            "_model_module": "@jupyter-widgets/controls",
            "_model_module_version": "1.5.0",
            "_model_name": "HTMLModel",
            "_view_count": null,
            "_view_module": "@jupyter-widgets/controls",
            "_view_module_version": "1.5.0",
            "_view_name": "HTMLView",
            "description": "",
            "description_tooltip": null,
            "layout": "IPY_MODEL_09aff2ea692446b3832e0c18a2d56700",
            "placeholder": "​",
            "style": "IPY_MODEL_d9d2ca42add84cf1882b69dcf4567f64",
            "value": " 162/162 [00:17&lt;00:00, 12.67 MiB/s]"
          }
        },
        "fa00bfac19684ec9b9684a413a1e3a5c": {
          "model_module": "@jupyter-widgets/base",
          "model_name": "LayoutModel",
          "model_module_version": "1.2.0",
          "state": {
            "_model_module": "@jupyter-widgets/base",
            "_model_module_version": "1.2.0",
            "_model_name": "LayoutModel",
            "_view_count": null,
            "_view_module": "@jupyter-widgets/base",
            "_view_module_version": "1.2.0",
            "_view_name": "LayoutView",
            "align_content": null,
            "align_items": null,
            "align_self": null,
            "border": null,
            "bottom": null,
            "display": null,
            "flex": null,
            "flex_flow": null,
            "grid_area": null,
            "grid_auto_columns": null,
            "grid_auto_flow": null,
            "grid_auto_rows": null,
            "grid_column": null,
            "grid_gap": null,
            "grid_row": null,
            "grid_template_areas": null,
            "grid_template_columns": null,
            "grid_template_rows": null,
            "height": null,
            "justify_content": null,
            "justify_items": null,
            "left": null,
            "margin": null,
            "max_height": null,
            "max_width": null,
            "min_height": null,
            "min_width": null,
            "object_fit": null,
            "object_position": null,
            "order": null,
            "overflow": null,
            "overflow_x": null,
            "overflow_y": null,
            "padding": null,
            "right": null,
            "top": null,
            "visibility": null,
            "width": null
          }
        },
        "eecdd4e7acd74675a0d1481d2f6ee6f6": {
          "model_module": "@jupyter-widgets/base",
          "model_name": "LayoutModel",
          "model_module_version": "1.2.0",
          "state": {
            "_model_module": "@jupyter-widgets/base",
            "_model_module_version": "1.2.0",
            "_model_name": "LayoutModel",
            "_view_count": null,
            "_view_module": "@jupyter-widgets/base",
            "_view_module_version": "1.2.0",
            "_view_name": "LayoutView",
            "align_content": null,
            "align_items": null,
            "align_self": null,
            "border": null,
            "bottom": null,
            "display": null,
            "flex": null,
            "flex_flow": null,
            "grid_area": null,
            "grid_auto_columns": null,
            "grid_auto_flow": null,
            "grid_auto_rows": null,
            "grid_column": null,
            "grid_gap": null,
            "grid_row": null,
            "grid_template_areas": null,
            "grid_template_columns": null,
            "grid_template_rows": null,
            "height": null,
            "justify_content": null,
            "justify_items": null,
            "left": null,
            "margin": null,
            "max_height": null,
            "max_width": null,
            "min_height": null,
            "min_width": null,
            "object_fit": null,
            "object_position": null,
            "order": null,
            "overflow": null,
            "overflow_x": null,
            "overflow_y": null,
            "padding": null,
            "right": null,
            "top": null,
            "visibility": null,
            "width": null
          }
        },
        "a93e9bc314a849b7be80ba7e15647b4d": {
          "model_module": "@jupyter-widgets/controls",
          "model_name": "DescriptionStyleModel",
          "model_module_version": "1.5.0",
          "state": {
            "_model_module": "@jupyter-widgets/controls",
            "_model_module_version": "1.5.0",
            "_model_name": "DescriptionStyleModel",
            "_view_count": null,
            "_view_module": "@jupyter-widgets/base",
            "_view_module_version": "1.2.0",
            "_view_name": "StyleView",
            "description_width": ""
          }
        },
        "a5cd956b2572455ea5704b9d6a083bcd": {
          "model_module": "@jupyter-widgets/base",
          "model_name": "LayoutModel",
          "model_module_version": "1.2.0",
          "state": {
            "_model_module": "@jupyter-widgets/base",
            "_model_module_version": "1.2.0",
            "_model_name": "LayoutModel",
            "_view_count": null,
            "_view_module": "@jupyter-widgets/base",
            "_view_module_version": "1.2.0",
            "_view_name": "LayoutView",
            "align_content": null,
            "align_items": null,
            "align_self": null,
            "border": null,
            "bottom": null,
            "display": null,
            "flex": null,
            "flex_flow": null,
            "grid_area": null,
            "grid_auto_columns": null,
            "grid_auto_flow": null,
            "grid_auto_rows": null,
            "grid_column": null,
            "grid_gap": null,
            "grid_row": null,
            "grid_template_areas": null,
            "grid_template_columns": null,
            "grid_template_rows": null,
            "height": null,
            "justify_content": null,
            "justify_items": null,
            "left": null,
            "margin": null,
            "max_height": null,
            "max_width": null,
            "min_height": null,
            "min_width": null,
            "object_fit": null,
            "object_position": null,
            "order": null,
            "overflow": null,
            "overflow_x": null,
            "overflow_y": null,
            "padding": null,
            "right": null,
            "top": null,
            "visibility": null,
            "width": "20px"
          }
        },
        "84a837eb9af84d69a8db3d9461c2e217": {
          "model_module": "@jupyter-widgets/controls",
          "model_name": "ProgressStyleModel",
          "model_module_version": "1.5.0",
          "state": {
            "_model_module": "@jupyter-widgets/controls",
            "_model_module_version": "1.5.0",
            "_model_name": "ProgressStyleModel",
            "_view_count": null,
            "_view_module": "@jupyter-widgets/base",
            "_view_module_version": "1.2.0",
            "_view_name": "StyleView",
            "bar_color": null,
            "description_width": ""
          }
        },
        "09aff2ea692446b3832e0c18a2d56700": {
          "model_module": "@jupyter-widgets/base",
          "model_name": "LayoutModel",
          "model_module_version": "1.2.0",
          "state": {
            "_model_module": "@jupyter-widgets/base",
            "_model_module_version": "1.2.0",
            "_model_name": "LayoutModel",
            "_view_count": null,
            "_view_module": "@jupyter-widgets/base",
            "_view_module_version": "1.2.0",
            "_view_name": "LayoutView",
            "align_content": null,
            "align_items": null,
            "align_self": null,
            "border": null,
            "bottom": null,
            "display": null,
            "flex": null,
            "flex_flow": null,
            "grid_area": null,
            "grid_auto_columns": null,
            "grid_auto_flow": null,
            "grid_auto_rows": null,
            "grid_column": null,
            "grid_gap": null,
            "grid_row": null,
            "grid_template_areas": null,
            "grid_template_columns": null,
            "grid_template_rows": null,
            "height": null,
            "justify_content": null,
            "justify_items": null,
            "left": null,
            "margin": null,
            "max_height": null,
            "max_width": null,
            "min_height": null,
            "min_width": null,
            "object_fit": null,
            "object_position": null,
            "order": null,
            "overflow": null,
            "overflow_x": null,
            "overflow_y": null,
            "padding": null,
            "right": null,
            "top": null,
            "visibility": null,
            "width": null
          }
        },
        "d9d2ca42add84cf1882b69dcf4567f64": {
          "model_module": "@jupyter-widgets/controls",
          "model_name": "DescriptionStyleModel",
          "model_module_version": "1.5.0",
          "state": {
            "_model_module": "@jupyter-widgets/controls",
            "_model_module_version": "1.5.0",
            "_model_name": "DescriptionStyleModel",
            "_view_count": null,
            "_view_module": "@jupyter-widgets/base",
            "_view_module_version": "1.2.0",
            "_view_name": "StyleView",
            "description_width": ""
          }
        },
        "62abc802a81341eaa6c30e52b5a2bee2": {
          "model_module": "@jupyter-widgets/controls",
          "model_name": "HBoxModel",
          "model_module_version": "1.5.0",
          "state": {
            "_dom_classes": [],
            "_model_module": "@jupyter-widgets/controls",
            "_model_module_version": "1.5.0",
            "_model_name": "HBoxModel",
            "_view_count": null,
            "_view_module": "@jupyter-widgets/controls",
            "_view_module_version": "1.5.0",
            "_view_name": "HBoxView",
            "box_style": "",
            "children": [
              "IPY_MODEL_e85046a0354a44c9a94d15c15b656f18",
              "IPY_MODEL_ea3aec3ecf414db9b075362cf78e4ffb",
              "IPY_MODEL_a0570efed02f442fbd37e1a653a1f4a0"
            ],
            "layout": "IPY_MODEL_0ebffa0b15424a80ab3f4824aff13f93"
          }
        },
        "e85046a0354a44c9a94d15c15b656f18": {
          "model_module": "@jupyter-widgets/controls",
          "model_name": "HTMLModel",
          "model_module_version": "1.5.0",
          "state": {
            "_dom_classes": [],
            "_model_module": "@jupyter-widgets/controls",
            "_model_module_version": "1.5.0",
            "_model_name": "HTMLModel",
            "_view_count": null,
            "_view_module": "@jupyter-widgets/controls",
            "_view_module_version": "1.5.0",
            "_view_name": "HTMLView",
            "description": "",
            "description_tooltip": null,
            "layout": "IPY_MODEL_ef8ae250c98448d391e738a0e18e214a",
            "placeholder": "​",
            "style": "IPY_MODEL_d82d73fcc76c4369828c20b35ec2aa9d",
            "value": "Extraction completed...: 100%"
          }
        },
        "ea3aec3ecf414db9b075362cf78e4ffb": {
          "model_module": "@jupyter-widgets/controls",
          "model_name": "FloatProgressModel",
          "model_module_version": "1.5.0",
          "state": {
            "_dom_classes": [],
            "_model_module": "@jupyter-widgets/controls",
            "_model_module_version": "1.5.0",
            "_model_name": "FloatProgressModel",
            "_view_count": null,
            "_view_module": "@jupyter-widgets/controls",
            "_view_module_version": "1.5.0",
            "_view_name": "ProgressView",
            "bar_style": "success",
            "description": "",
            "description_tooltip": null,
            "layout": "IPY_MODEL_ea1645fef0d24374a618c7704fea5ba8",
            "max": 1,
            "min": 0,
            "orientation": "horizontal",
            "style": "IPY_MODEL_6e1233aaa3b1485580153c3d03274af7",
            "value": 1
          }
        },
        "a0570efed02f442fbd37e1a653a1f4a0": {
          "model_module": "@jupyter-widgets/controls",
          "model_name": "HTMLModel",
          "model_module_version": "1.5.0",
          "state": {
            "_dom_classes": [],
            "_model_module": "@jupyter-widgets/controls",
            "_model_module_version": "1.5.0",
            "_model_name": "HTMLModel",
            "_view_count": null,
            "_view_module": "@jupyter-widgets/controls",
            "_view_module_version": "1.5.0",
            "_view_name": "HTMLView",
            "description": "",
            "description_tooltip": null,
            "layout": "IPY_MODEL_93b0ddbe629c4fb8ba3638ff50326938",
            "placeholder": "​",
            "style": "IPY_MODEL_ee81d53506d74124bf2b03b220823b5b",
            "value": " 8/8 [00:17&lt;00:00, 17.28s/ file]"
          }
        },
        "0ebffa0b15424a80ab3f4824aff13f93": {
          "model_module": "@jupyter-widgets/base",
          "model_name": "LayoutModel",
          "model_module_version": "1.2.0",
          "state": {
            "_model_module": "@jupyter-widgets/base",
            "_model_module_version": "1.2.0",
            "_model_name": "LayoutModel",
            "_view_count": null,
            "_view_module": "@jupyter-widgets/base",
            "_view_module_version": "1.2.0",
            "_view_name": "LayoutView",
            "align_content": null,
            "align_items": null,
            "align_self": null,
            "border": null,
            "bottom": null,
            "display": null,
            "flex": null,
            "flex_flow": null,
            "grid_area": null,
            "grid_auto_columns": null,
            "grid_auto_flow": null,
            "grid_auto_rows": null,
            "grid_column": null,
            "grid_gap": null,
            "grid_row": null,
            "grid_template_areas": null,
            "grid_template_columns": null,
            "grid_template_rows": null,
            "height": null,
            "justify_content": null,
            "justify_items": null,
            "left": null,
            "margin": null,
            "max_height": null,
            "max_width": null,
            "min_height": null,
            "min_width": null,
            "object_fit": null,
            "object_position": null,
            "order": null,
            "overflow": null,
            "overflow_x": null,
            "overflow_y": null,
            "padding": null,
            "right": null,
            "top": null,
            "visibility": null,
            "width": null
          }
        },
        "ef8ae250c98448d391e738a0e18e214a": {
          "model_module": "@jupyter-widgets/base",
          "model_name": "LayoutModel",
          "model_module_version": "1.2.0",
          "state": {
            "_model_module": "@jupyter-widgets/base",
            "_model_module_version": "1.2.0",
            "_model_name": "LayoutModel",
            "_view_count": null,
            "_view_module": "@jupyter-widgets/base",
            "_view_module_version": "1.2.0",
            "_view_name": "LayoutView",
            "align_content": null,
            "align_items": null,
            "align_self": null,
            "border": null,
            "bottom": null,
            "display": null,
            "flex": null,
            "flex_flow": null,
            "grid_area": null,
            "grid_auto_columns": null,
            "grid_auto_flow": null,
            "grid_auto_rows": null,
            "grid_column": null,
            "grid_gap": null,
            "grid_row": null,
            "grid_template_areas": null,
            "grid_template_columns": null,
            "grid_template_rows": null,
            "height": null,
            "justify_content": null,
            "justify_items": null,
            "left": null,
            "margin": null,
            "max_height": null,
            "max_width": null,
            "min_height": null,
            "min_width": null,
            "object_fit": null,
            "object_position": null,
            "order": null,
            "overflow": null,
            "overflow_x": null,
            "overflow_y": null,
            "padding": null,
            "right": null,
            "top": null,
            "visibility": null,
            "width": null
          }
        },
        "d82d73fcc76c4369828c20b35ec2aa9d": {
          "model_module": "@jupyter-widgets/controls",
          "model_name": "DescriptionStyleModel",
          "model_module_version": "1.5.0",
          "state": {
            "_model_module": "@jupyter-widgets/controls",
            "_model_module_version": "1.5.0",
            "_model_name": "DescriptionStyleModel",
            "_view_count": null,
            "_view_module": "@jupyter-widgets/base",
            "_view_module_version": "1.2.0",
            "_view_name": "StyleView",
            "description_width": ""
          }
        },
        "ea1645fef0d24374a618c7704fea5ba8": {
          "model_module": "@jupyter-widgets/base",
          "model_name": "LayoutModel",
          "model_module_version": "1.2.0",
          "state": {
            "_model_module": "@jupyter-widgets/base",
            "_model_module_version": "1.2.0",
            "_model_name": "LayoutModel",
            "_view_count": null,
            "_view_module": "@jupyter-widgets/base",
            "_view_module_version": "1.2.0",
            "_view_name": "LayoutView",
            "align_content": null,
            "align_items": null,
            "align_self": null,
            "border": null,
            "bottom": null,
            "display": null,
            "flex": null,
            "flex_flow": null,
            "grid_area": null,
            "grid_auto_columns": null,
            "grid_auto_flow": null,
            "grid_auto_rows": null,
            "grid_column": null,
            "grid_gap": null,
            "grid_row": null,
            "grid_template_areas": null,
            "grid_template_columns": null,
            "grid_template_rows": null,
            "height": null,
            "justify_content": null,
            "justify_items": null,
            "left": null,
            "margin": null,
            "max_height": null,
            "max_width": null,
            "min_height": null,
            "min_width": null,
            "object_fit": null,
            "object_position": null,
            "order": null,
            "overflow": null,
            "overflow_x": null,
            "overflow_y": null,
            "padding": null,
            "right": null,
            "top": null,
            "visibility": null,
            "width": "20px"
          }
        },
        "6e1233aaa3b1485580153c3d03274af7": {
          "model_module": "@jupyter-widgets/controls",
          "model_name": "ProgressStyleModel",
          "model_module_version": "1.5.0",
          "state": {
            "_model_module": "@jupyter-widgets/controls",
            "_model_module_version": "1.5.0",
            "_model_name": "ProgressStyleModel",
            "_view_count": null,
            "_view_module": "@jupyter-widgets/base",
            "_view_module_version": "1.2.0",
            "_view_name": "StyleView",
            "bar_color": null,
            "description_width": ""
          }
        },
        "93b0ddbe629c4fb8ba3638ff50326938": {
          "model_module": "@jupyter-widgets/base",
          "model_name": "LayoutModel",
          "model_module_version": "1.2.0",
          "state": {
            "_model_module": "@jupyter-widgets/base",
            "_model_module_version": "1.2.0",
            "_model_name": "LayoutModel",
            "_view_count": null,
            "_view_module": "@jupyter-widgets/base",
            "_view_module_version": "1.2.0",
            "_view_name": "LayoutView",
            "align_content": null,
            "align_items": null,
            "align_self": null,
            "border": null,
            "bottom": null,
            "display": null,
            "flex": null,
            "flex_flow": null,
            "grid_area": null,
            "grid_auto_columns": null,
            "grid_auto_flow": null,
            "grid_auto_rows": null,
            "grid_column": null,
            "grid_gap": null,
            "grid_row": null,
            "grid_template_areas": null,
            "grid_template_columns": null,
            "grid_template_rows": null,
            "height": null,
            "justify_content": null,
            "justify_items": null,
            "left": null,
            "margin": null,
            "max_height": null,
            "max_width": null,
            "min_height": null,
            "min_width": null,
            "object_fit": null,
            "object_position": null,
            "order": null,
            "overflow": null,
            "overflow_x": null,
            "overflow_y": null,
            "padding": null,
            "right": null,
            "top": null,
            "visibility": null,
            "width": null
          }
        },
        "ee81d53506d74124bf2b03b220823b5b": {
          "model_module": "@jupyter-widgets/controls",
          "model_name": "DescriptionStyleModel",
          "model_module_version": "1.5.0",
          "state": {
            "_model_module": "@jupyter-widgets/controls",
            "_model_module_version": "1.5.0",
            "_model_name": "DescriptionStyleModel",
            "_view_count": null,
            "_view_module": "@jupyter-widgets/base",
            "_view_module_version": "1.2.0",
            "_view_name": "StyleView",
            "description_width": ""
          }
        },
        "f22e174ac2294aa6b51bb4cee884d748": {
          "model_module": "@jupyter-widgets/controls",
          "model_name": "HBoxModel",
          "model_module_version": "1.5.0",
          "state": {
            "_dom_classes": [],
            "_model_module": "@jupyter-widgets/controls",
            "_model_module_version": "1.5.0",
            "_model_name": "HBoxModel",
            "_view_count": null,
            "_view_module": "@jupyter-widgets/controls",
            "_view_module_version": "1.5.0",
            "_view_name": "HBoxView",
            "box_style": "",
            "children": [
              "IPY_MODEL_33615824ba3c482f9574020bc893c762",
              "IPY_MODEL_b346227aee144e288a5f823dc8b16159",
              "IPY_MODEL_675f50767c0c4e6f9bf414e59c2e8398"
            ],
            "layout": "IPY_MODEL_b8f052ce92e64c719f343f50e009a010"
          }
        },
        "33615824ba3c482f9574020bc893c762": {
          "model_module": "@jupyter-widgets/controls",
          "model_name": "HTMLModel",
          "model_module_version": "1.5.0",
          "state": {
            "_dom_classes": [],
            "_model_module": "@jupyter-widgets/controls",
            "_model_module_version": "1.5.0",
            "_model_name": "HTMLModel",
            "_view_count": null,
            "_view_module": "@jupyter-widgets/controls",
            "_view_module_version": "1.5.0",
            "_view_name": "HTMLView",
            "description": "",
            "description_tooltip": null,
            "layout": "IPY_MODEL_488dcd96efa84dc5a66041f4072bd466",
            "placeholder": "​",
            "style": "IPY_MODEL_651b3cca82f747c7ae65ddb4ec5eba4c",
            "value": "Generating splits...: 100%"
          }
        },
        "b346227aee144e288a5f823dc8b16159": {
          "model_module": "@jupyter-widgets/controls",
          "model_name": "FloatProgressModel",
          "model_module_version": "1.5.0",
          "state": {
            "_dom_classes": [],
            "_model_module": "@jupyter-widgets/controls",
            "_model_module_version": "1.5.0",
            "_model_name": "FloatProgressModel",
            "_view_count": null,
            "_view_module": "@jupyter-widgets/controls",
            "_view_module_version": "1.5.0",
            "_view_name": "ProgressView",
            "bar_style": "",
            "description": "",
            "description_tooltip": null,
            "layout": "IPY_MODEL_6a1af1e9ad964c0a90854a301a93001a",
            "max": 2,
            "min": 0,
            "orientation": "horizontal",
            "style": "IPY_MODEL_7f2710e56e044858afa3309b7d9e63e3",
            "value": 2
          }
        },
        "675f50767c0c4e6f9bf414e59c2e8398": {
          "model_module": "@jupyter-widgets/controls",
          "model_name": "HTMLModel",
          "model_module_version": "1.5.0",
          "state": {
            "_dom_classes": [],
            "_model_module": "@jupyter-widgets/controls",
            "_model_module_version": "1.5.0",
            "_model_name": "HTMLModel",
            "_view_count": null,
            "_view_module": "@jupyter-widgets/controls",
            "_view_module_version": "1.5.0",
            "_view_name": "HTMLView",
            "description": "",
            "description_tooltip": null,
            "layout": "IPY_MODEL_d8e3129631d749b796a4c961ecd99444",
            "placeholder": "​",
            "style": "IPY_MODEL_e51ddd9af65240619feead0ed3bd86de",
            "value": " 2/2 [01:01&lt;00:00, 27.29s/ splits]"
          }
        },
        "b8f052ce92e64c719f343f50e009a010": {
          "model_module": "@jupyter-widgets/base",
          "model_name": "LayoutModel",
          "model_module_version": "1.2.0",
          "state": {
            "_model_module": "@jupyter-widgets/base",
            "_model_module_version": "1.2.0",
            "_model_name": "LayoutModel",
            "_view_count": null,
            "_view_module": "@jupyter-widgets/base",
            "_view_module_version": "1.2.0",
            "_view_name": "LayoutView",
            "align_content": null,
            "align_items": null,
            "align_self": null,
            "border": null,
            "bottom": null,
            "display": null,
            "flex": null,
            "flex_flow": null,
            "grid_area": null,
            "grid_auto_columns": null,
            "grid_auto_flow": null,
            "grid_auto_rows": null,
            "grid_column": null,
            "grid_gap": null,
            "grid_row": null,
            "grid_template_areas": null,
            "grid_template_columns": null,
            "grid_template_rows": null,
            "height": null,
            "justify_content": null,
            "justify_items": null,
            "left": null,
            "margin": null,
            "max_height": null,
            "max_width": null,
            "min_height": null,
            "min_width": null,
            "object_fit": null,
            "object_position": null,
            "order": null,
            "overflow": null,
            "overflow_x": null,
            "overflow_y": null,
            "padding": null,
            "right": null,
            "top": null,
            "visibility": "hidden",
            "width": null
          }
        },
        "488dcd96efa84dc5a66041f4072bd466": {
          "model_module": "@jupyter-widgets/base",
          "model_name": "LayoutModel",
          "model_module_version": "1.2.0",
          "state": {
            "_model_module": "@jupyter-widgets/base",
            "_model_module_version": "1.2.0",
            "_model_name": "LayoutModel",
            "_view_count": null,
            "_view_module": "@jupyter-widgets/base",
            "_view_module_version": "1.2.0",
            "_view_name": "LayoutView",
            "align_content": null,
            "align_items": null,
            "align_self": null,
            "border": null,
            "bottom": null,
            "display": null,
            "flex": null,
            "flex_flow": null,
            "grid_area": null,
            "grid_auto_columns": null,
            "grid_auto_flow": null,
            "grid_auto_rows": null,
            "grid_column": null,
            "grid_gap": null,
            "grid_row": null,
            "grid_template_areas": null,
            "grid_template_columns": null,
            "grid_template_rows": null,
            "height": null,
            "justify_content": null,
            "justify_items": null,
            "left": null,
            "margin": null,
            "max_height": null,
            "max_width": null,
            "min_height": null,
            "min_width": null,
            "object_fit": null,
            "object_position": null,
            "order": null,
            "overflow": null,
            "overflow_x": null,
            "overflow_y": null,
            "padding": null,
            "right": null,
            "top": null,
            "visibility": null,
            "width": null
          }
        },
        "651b3cca82f747c7ae65ddb4ec5eba4c": {
          "model_module": "@jupyter-widgets/controls",
          "model_name": "DescriptionStyleModel",
          "model_module_version": "1.5.0",
          "state": {
            "_model_module": "@jupyter-widgets/controls",
            "_model_module_version": "1.5.0",
            "_model_name": "DescriptionStyleModel",
            "_view_count": null,
            "_view_module": "@jupyter-widgets/base",
            "_view_module_version": "1.2.0",
            "_view_name": "StyleView",
            "description_width": ""
          }
        },
        "6a1af1e9ad964c0a90854a301a93001a": {
          "model_module": "@jupyter-widgets/base",
          "model_name": "LayoutModel",
          "model_module_version": "1.2.0",
          "state": {
            "_model_module": "@jupyter-widgets/base",
            "_model_module_version": "1.2.0",
            "_model_name": "LayoutModel",
            "_view_count": null,
            "_view_module": "@jupyter-widgets/base",
            "_view_module_version": "1.2.0",
            "_view_name": "LayoutView",
            "align_content": null,
            "align_items": null,
            "align_self": null,
            "border": null,
            "bottom": null,
            "display": null,
            "flex": null,
            "flex_flow": null,
            "grid_area": null,
            "grid_auto_columns": null,
            "grid_auto_flow": null,
            "grid_auto_rows": null,
            "grid_column": null,
            "grid_gap": null,
            "grid_row": null,
            "grid_template_areas": null,
            "grid_template_columns": null,
            "grid_template_rows": null,
            "height": null,
            "justify_content": null,
            "justify_items": null,
            "left": null,
            "margin": null,
            "max_height": null,
            "max_width": null,
            "min_height": null,
            "min_width": null,
            "object_fit": null,
            "object_position": null,
            "order": null,
            "overflow": null,
            "overflow_x": null,
            "overflow_y": null,
            "padding": null,
            "right": null,
            "top": null,
            "visibility": null,
            "width": null
          }
        },
        "7f2710e56e044858afa3309b7d9e63e3": {
          "model_module": "@jupyter-widgets/controls",
          "model_name": "ProgressStyleModel",
          "model_module_version": "1.5.0",
          "state": {
            "_model_module": "@jupyter-widgets/controls",
            "_model_module_version": "1.5.0",
            "_model_name": "ProgressStyleModel",
            "_view_count": null,
            "_view_module": "@jupyter-widgets/base",
            "_view_module_version": "1.2.0",
            "_view_name": "StyleView",
            "bar_color": null,
            "description_width": ""
          }
        },
        "d8e3129631d749b796a4c961ecd99444": {
          "model_module": "@jupyter-widgets/base",
          "model_name": "LayoutModel",
          "model_module_version": "1.2.0",
          "state": {
            "_model_module": "@jupyter-widgets/base",
            "_model_module_version": "1.2.0",
            "_model_name": "LayoutModel",
            "_view_count": null,
            "_view_module": "@jupyter-widgets/base",
            "_view_module_version": "1.2.0",
            "_view_name": "LayoutView",
            "align_content": null,
            "align_items": null,
            "align_self": null,
            "border": null,
            "bottom": null,
            "display": null,
            "flex": null,
            "flex_flow": null,
            "grid_area": null,
            "grid_auto_columns": null,
            "grid_auto_flow": null,
            "grid_auto_rows": null,
            "grid_column": null,
            "grid_gap": null,
            "grid_row": null,
            "grid_template_areas": null,
            "grid_template_columns": null,
            "grid_template_rows": null,
            "height": null,
            "justify_content": null,
            "justify_items": null,
            "left": null,
            "margin": null,
            "max_height": null,
            "max_width": null,
            "min_height": null,
            "min_width": null,
            "object_fit": null,
            "object_position": null,
            "order": null,
            "overflow": null,
            "overflow_x": null,
            "overflow_y": null,
            "padding": null,
            "right": null,
            "top": null,
            "visibility": null,
            "width": null
          }
        },
        "e51ddd9af65240619feead0ed3bd86de": {
          "model_module": "@jupyter-widgets/controls",
          "model_name": "DescriptionStyleModel",
          "model_module_version": "1.5.0",
          "state": {
            "_model_module": "@jupyter-widgets/controls",
            "_model_module_version": "1.5.0",
            "_model_name": "DescriptionStyleModel",
            "_view_count": null,
            "_view_module": "@jupyter-widgets/base",
            "_view_module_version": "1.2.0",
            "_view_name": "StyleView",
            "description_width": ""
          }
        },
        "22cfd6de58d84409b84b22981336f5b1": {
          "model_module": "@jupyter-widgets/controls",
          "model_name": "HBoxModel",
          "model_module_version": "1.5.0",
          "state": {
            "_dom_classes": [],
            "_model_module": "@jupyter-widgets/controls",
            "_model_module_version": "1.5.0",
            "_model_name": "HBoxModel",
            "_view_count": null,
            "_view_module": "@jupyter-widgets/controls",
            "_view_module_version": "1.5.0",
            "_view_name": "HBoxView",
            "box_style": "",
            "children": [
              "IPY_MODEL_7aeb5dabdea24159acdbb10e992a647c",
              "IPY_MODEL_a1cbabd1112347fb9f4ed19812ee92f9",
              "IPY_MODEL_b7c48418c6c04bb5ae6df93b598ddeb3"
            ],
            "layout": "IPY_MODEL_6b1699000b3a4f319d71c8eb2fe5c421"
          }
        },
        "7aeb5dabdea24159acdbb10e992a647c": {
          "model_module": "@jupyter-widgets/controls",
          "model_name": "HTMLModel",
          "model_module_version": "1.5.0",
          "state": {
            "_dom_classes": [],
            "_model_module": "@jupyter-widgets/controls",
            "_model_module_version": "1.5.0",
            "_model_name": "HTMLModel",
            "_view_count": null,
            "_view_module": "@jupyter-widgets/controls",
            "_view_module_version": "1.5.0",
            "_view_name": "HTMLView",
            "description": "",
            "description_tooltip": null,
            "layout": "IPY_MODEL_612c1aa098b74811ba7c19f8b146e6c1",
            "placeholder": "​",
            "style": "IPY_MODEL_a158580ff3ee4d92a96cd3eb652e9cd7",
            "value": "Generating train examples...: 100%"
          }
        },
        "a1cbabd1112347fb9f4ed19812ee92f9": {
          "model_module": "@jupyter-widgets/controls",
          "model_name": "FloatProgressModel",
          "model_module_version": "1.5.0",
          "state": {
            "_dom_classes": [],
            "_model_module": "@jupyter-widgets/controls",
            "_model_module_version": "1.5.0",
            "_model_name": "FloatProgressModel",
            "_view_count": null,
            "_view_module": "@jupyter-widgets/controls",
            "_view_module_version": "1.5.0",
            "_view_name": "ProgressView",
            "bar_style": "",
            "description": "",
            "description_tooltip": null,
            "layout": "IPY_MODEL_e6dde3f164aa4d53aab08e75e2acb12c",
            "max": 50000,
            "min": 0,
            "orientation": "horizontal",
            "style": "IPY_MODEL_e7b9e07b01f24ad092d3e24152fd5997",
            "value": 50000
          }
        },
        "b7c48418c6c04bb5ae6df93b598ddeb3": {
          "model_module": "@jupyter-widgets/controls",
          "model_name": "HTMLModel",
          "model_module_version": "1.5.0",
          "state": {
            "_dom_classes": [],
            "_model_module": "@jupyter-widgets/controls",
            "_model_module_version": "1.5.0",
            "_model_name": "HTMLModel",
            "_view_count": null,
            "_view_module": "@jupyter-widgets/controls",
            "_view_module_version": "1.5.0",
            "_view_name": "HTMLView",
            "description": "",
            "description_tooltip": null,
            "layout": "IPY_MODEL_2b94224df4e54f43813d13240b311da3",
            "placeholder": "​",
            "style": "IPY_MODEL_c2de28690f2e4b19b98ff1f0de59dd20",
            "value": " 49958/50000 [00:51&lt;00:00, 1104.95 examples/s]"
          }
        },
        "6b1699000b3a4f319d71c8eb2fe5c421": {
          "model_module": "@jupyter-widgets/base",
          "model_name": "LayoutModel",
          "model_module_version": "1.2.0",
          "state": {
            "_model_module": "@jupyter-widgets/base",
            "_model_module_version": "1.2.0",
            "_model_name": "LayoutModel",
            "_view_count": null,
            "_view_module": "@jupyter-widgets/base",
            "_view_module_version": "1.2.0",
            "_view_name": "LayoutView",
            "align_content": null,
            "align_items": null,
            "align_self": null,
            "border": null,
            "bottom": null,
            "display": null,
            "flex": null,
            "flex_flow": null,
            "grid_area": null,
            "grid_auto_columns": null,
            "grid_auto_flow": null,
            "grid_auto_rows": null,
            "grid_column": null,
            "grid_gap": null,
            "grid_row": null,
            "grid_template_areas": null,
            "grid_template_columns": null,
            "grid_template_rows": null,
            "height": null,
            "justify_content": null,
            "justify_items": null,
            "left": null,
            "margin": null,
            "max_height": null,
            "max_width": null,
            "min_height": null,
            "min_width": null,
            "object_fit": null,
            "object_position": null,
            "order": null,
            "overflow": null,
            "overflow_x": null,
            "overflow_y": null,
            "padding": null,
            "right": null,
            "top": null,
            "visibility": "hidden",
            "width": null
          }
        },
        "612c1aa098b74811ba7c19f8b146e6c1": {
          "model_module": "@jupyter-widgets/base",
          "model_name": "LayoutModel",
          "model_module_version": "1.2.0",
          "state": {
            "_model_module": "@jupyter-widgets/base",
            "_model_module_version": "1.2.0",
            "_model_name": "LayoutModel",
            "_view_count": null,
            "_view_module": "@jupyter-widgets/base",
            "_view_module_version": "1.2.0",
            "_view_name": "LayoutView",
            "align_content": null,
            "align_items": null,
            "align_self": null,
            "border": null,
            "bottom": null,
            "display": null,
            "flex": null,
            "flex_flow": null,
            "grid_area": null,
            "grid_auto_columns": null,
            "grid_auto_flow": null,
            "grid_auto_rows": null,
            "grid_column": null,
            "grid_gap": null,
            "grid_row": null,
            "grid_template_areas": null,
            "grid_template_columns": null,
            "grid_template_rows": null,
            "height": null,
            "justify_content": null,
            "justify_items": null,
            "left": null,
            "margin": null,
            "max_height": null,
            "max_width": null,
            "min_height": null,
            "min_width": null,
            "object_fit": null,
            "object_position": null,
            "order": null,
            "overflow": null,
            "overflow_x": null,
            "overflow_y": null,
            "padding": null,
            "right": null,
            "top": null,
            "visibility": null,
            "width": null
          }
        },
        "a158580ff3ee4d92a96cd3eb652e9cd7": {
          "model_module": "@jupyter-widgets/controls",
          "model_name": "DescriptionStyleModel",
          "model_module_version": "1.5.0",
          "state": {
            "_model_module": "@jupyter-widgets/controls",
            "_model_module_version": "1.5.0",
            "_model_name": "DescriptionStyleModel",
            "_view_count": null,
            "_view_module": "@jupyter-widgets/base",
            "_view_module_version": "1.2.0",
            "_view_name": "StyleView",
            "description_width": ""
          }
        },
        "e6dde3f164aa4d53aab08e75e2acb12c": {
          "model_module": "@jupyter-widgets/base",
          "model_name": "LayoutModel",
          "model_module_version": "1.2.0",
          "state": {
            "_model_module": "@jupyter-widgets/base",
            "_model_module_version": "1.2.0",
            "_model_name": "LayoutModel",
            "_view_count": null,
            "_view_module": "@jupyter-widgets/base",
            "_view_module_version": "1.2.0",
            "_view_name": "LayoutView",
            "align_content": null,
            "align_items": null,
            "align_self": null,
            "border": null,
            "bottom": null,
            "display": null,
            "flex": null,
            "flex_flow": null,
            "grid_area": null,
            "grid_auto_columns": null,
            "grid_auto_flow": null,
            "grid_auto_rows": null,
            "grid_column": null,
            "grid_gap": null,
            "grid_row": null,
            "grid_template_areas": null,
            "grid_template_columns": null,
            "grid_template_rows": null,
            "height": null,
            "justify_content": null,
            "justify_items": null,
            "left": null,
            "margin": null,
            "max_height": null,
            "max_width": null,
            "min_height": null,
            "min_width": null,
            "object_fit": null,
            "object_position": null,
            "order": null,
            "overflow": null,
            "overflow_x": null,
            "overflow_y": null,
            "padding": null,
            "right": null,
            "top": null,
            "visibility": null,
            "width": null
          }
        },
        "e7b9e07b01f24ad092d3e24152fd5997": {
          "model_module": "@jupyter-widgets/controls",
          "model_name": "ProgressStyleModel",
          "model_module_version": "1.5.0",
          "state": {
            "_model_module": "@jupyter-widgets/controls",
            "_model_module_version": "1.5.0",
            "_model_name": "ProgressStyleModel",
            "_view_count": null,
            "_view_module": "@jupyter-widgets/base",
            "_view_module_version": "1.2.0",
            "_view_name": "StyleView",
            "bar_color": null,
            "description_width": ""
          }
        },
        "2b94224df4e54f43813d13240b311da3": {
          "model_module": "@jupyter-widgets/base",
          "model_name": "LayoutModel",
          "model_module_version": "1.2.0",
          "state": {
            "_model_module": "@jupyter-widgets/base",
            "_model_module_version": "1.2.0",
            "_model_name": "LayoutModel",
            "_view_count": null,
            "_view_module": "@jupyter-widgets/base",
            "_view_module_version": "1.2.0",
            "_view_name": "LayoutView",
            "align_content": null,
            "align_items": null,
            "align_self": null,
            "border": null,
            "bottom": null,
            "display": null,
            "flex": null,
            "flex_flow": null,
            "grid_area": null,
            "grid_auto_columns": null,
            "grid_auto_flow": null,
            "grid_auto_rows": null,
            "grid_column": null,
            "grid_gap": null,
            "grid_row": null,
            "grid_template_areas": null,
            "grid_template_columns": null,
            "grid_template_rows": null,
            "height": null,
            "justify_content": null,
            "justify_items": null,
            "left": null,
            "margin": null,
            "max_height": null,
            "max_width": null,
            "min_height": null,
            "min_width": null,
            "object_fit": null,
            "object_position": null,
            "order": null,
            "overflow": null,
            "overflow_x": null,
            "overflow_y": null,
            "padding": null,
            "right": null,
            "top": null,
            "visibility": null,
            "width": null
          }
        },
        "c2de28690f2e4b19b98ff1f0de59dd20": {
          "model_module": "@jupyter-widgets/controls",
          "model_name": "DescriptionStyleModel",
          "model_module_version": "1.5.0",
          "state": {
            "_model_module": "@jupyter-widgets/controls",
            "_model_module_version": "1.5.0",
            "_model_name": "DescriptionStyleModel",
            "_view_count": null,
            "_view_module": "@jupyter-widgets/base",
            "_view_module_version": "1.2.0",
            "_view_name": "StyleView",
            "description_width": ""
          }
        },
        "96dfa16219b040609c5d9133ede226bb": {
          "model_module": "@jupyter-widgets/controls",
          "model_name": "HBoxModel",
          "model_module_version": "1.5.0",
          "state": {
            "_dom_classes": [],
            "_model_module": "@jupyter-widgets/controls",
            "_model_module_version": "1.5.0",
            "_model_name": "HBoxModel",
            "_view_count": null,
            "_view_module": "@jupyter-widgets/controls",
            "_view_module_version": "1.5.0",
            "_view_name": "HBoxView",
            "box_style": "",
            "children": [
              "IPY_MODEL_d1949d16c22e493ab9d33037f8853c8c",
              "IPY_MODEL_32ffdd20d2714d25a0e3975784a05525",
              "IPY_MODEL_fd4bf8af1ad24b52b41df29b9eaa4051"
            ],
            "layout": "IPY_MODEL_024f79949848408a9b808ae65e04ee3d"
          }
        },
        "d1949d16c22e493ab9d33037f8853c8c": {
          "model_module": "@jupyter-widgets/controls",
          "model_name": "HTMLModel",
          "model_module_version": "1.5.0",
          "state": {
            "_dom_classes": [],
            "_model_module": "@jupyter-widgets/controls",
            "_model_module_version": "1.5.0",
            "_model_name": "HTMLModel",
            "_view_count": null,
            "_view_module": "@jupyter-widgets/controls",
            "_view_module_version": "1.5.0",
            "_view_name": "HTMLView",
            "description": "",
            "description_tooltip": null,
            "layout": "IPY_MODEL_adf0f0c0c56c4d31a1f3877f3a01b26c",
            "placeholder": "​",
            "style": "IPY_MODEL_6e08f221f1944c0b8adf4c0232379cea",
            "value": "Shuffling /root/tensorflow_datasets/cifar10/3.0.2.incompleteA67CGP/cifar10-train.tfrecord*...:  96%"
          }
        },
        "32ffdd20d2714d25a0e3975784a05525": {
          "model_module": "@jupyter-widgets/controls",
          "model_name": "FloatProgressModel",
          "model_module_version": "1.5.0",
          "state": {
            "_dom_classes": [],
            "_model_module": "@jupyter-widgets/controls",
            "_model_module_version": "1.5.0",
            "_model_name": "FloatProgressModel",
            "_view_count": null,
            "_view_module": "@jupyter-widgets/controls",
            "_view_module_version": "1.5.0",
            "_view_name": "ProgressView",
            "bar_style": "",
            "description": "",
            "description_tooltip": null,
            "layout": "IPY_MODEL_f2702a2bde9c4b3daab760714041628b",
            "max": 50000,
            "min": 0,
            "orientation": "horizontal",
            "style": "IPY_MODEL_3d4f229c59574c48b0d0636234dc6d68",
            "value": 50000
          }
        },
        "fd4bf8af1ad24b52b41df29b9eaa4051": {
          "model_module": "@jupyter-widgets/controls",
          "model_name": "HTMLModel",
          "model_module_version": "1.5.0",
          "state": {
            "_dom_classes": [],
            "_model_module": "@jupyter-widgets/controls",
            "_model_module_version": "1.5.0",
            "_model_name": "HTMLModel",
            "_view_count": null,
            "_view_module": "@jupyter-widgets/controls",
            "_view_module_version": "1.5.0",
            "_view_name": "HTMLView",
            "description": "",
            "description_tooltip": null,
            "layout": "IPY_MODEL_a47ebf060498436fa9caea43b319218e",
            "placeholder": "​",
            "style": "IPY_MODEL_58e7605961f1411180bd677115707c9a",
            "value": " 48003/50000 [00:00&lt;00:00, 172633.78 examples/s]"
          }
        },
        "024f79949848408a9b808ae65e04ee3d": {
          "model_module": "@jupyter-widgets/base",
          "model_name": "LayoutModel",
          "model_module_version": "1.2.0",
          "state": {
            "_model_module": "@jupyter-widgets/base",
            "_model_module_version": "1.2.0",
            "_model_name": "LayoutModel",
            "_view_count": null,
            "_view_module": "@jupyter-widgets/base",
            "_view_module_version": "1.2.0",
            "_view_name": "LayoutView",
            "align_content": null,
            "align_items": null,
            "align_self": null,
            "border": null,
            "bottom": null,
            "display": null,
            "flex": null,
            "flex_flow": null,
            "grid_area": null,
            "grid_auto_columns": null,
            "grid_auto_flow": null,
            "grid_auto_rows": null,
            "grid_column": null,
            "grid_gap": null,
            "grid_row": null,
            "grid_template_areas": null,
            "grid_template_columns": null,
            "grid_template_rows": null,
            "height": null,
            "justify_content": null,
            "justify_items": null,
            "left": null,
            "margin": null,
            "max_height": null,
            "max_width": null,
            "min_height": null,
            "min_width": null,
            "object_fit": null,
            "object_position": null,
            "order": null,
            "overflow": null,
            "overflow_x": null,
            "overflow_y": null,
            "padding": null,
            "right": null,
            "top": null,
            "visibility": "hidden",
            "width": null
          }
        },
        "adf0f0c0c56c4d31a1f3877f3a01b26c": {
          "model_module": "@jupyter-widgets/base",
          "model_name": "LayoutModel",
          "model_module_version": "1.2.0",
          "state": {
            "_model_module": "@jupyter-widgets/base",
            "_model_module_version": "1.2.0",
            "_model_name": "LayoutModel",
            "_view_count": null,
            "_view_module": "@jupyter-widgets/base",
            "_view_module_version": "1.2.0",
            "_view_name": "LayoutView",
            "align_content": null,
            "align_items": null,
            "align_self": null,
            "border": null,
            "bottom": null,
            "display": null,
            "flex": null,
            "flex_flow": null,
            "grid_area": null,
            "grid_auto_columns": null,
            "grid_auto_flow": null,
            "grid_auto_rows": null,
            "grid_column": null,
            "grid_gap": null,
            "grid_row": null,
            "grid_template_areas": null,
            "grid_template_columns": null,
            "grid_template_rows": null,
            "height": null,
            "justify_content": null,
            "justify_items": null,
            "left": null,
            "margin": null,
            "max_height": null,
            "max_width": null,
            "min_height": null,
            "min_width": null,
            "object_fit": null,
            "object_position": null,
            "order": null,
            "overflow": null,
            "overflow_x": null,
            "overflow_y": null,
            "padding": null,
            "right": null,
            "top": null,
            "visibility": null,
            "width": null
          }
        },
        "6e08f221f1944c0b8adf4c0232379cea": {
          "model_module": "@jupyter-widgets/controls",
          "model_name": "DescriptionStyleModel",
          "model_module_version": "1.5.0",
          "state": {
            "_model_module": "@jupyter-widgets/controls",
            "_model_module_version": "1.5.0",
            "_model_name": "DescriptionStyleModel",
            "_view_count": null,
            "_view_module": "@jupyter-widgets/base",
            "_view_module_version": "1.2.0",
            "_view_name": "StyleView",
            "description_width": ""
          }
        },
        "f2702a2bde9c4b3daab760714041628b": {
          "model_module": "@jupyter-widgets/base",
          "model_name": "LayoutModel",
          "model_module_version": "1.2.0",
          "state": {
            "_model_module": "@jupyter-widgets/base",
            "_model_module_version": "1.2.0",
            "_model_name": "LayoutModel",
            "_view_count": null,
            "_view_module": "@jupyter-widgets/base",
            "_view_module_version": "1.2.0",
            "_view_name": "LayoutView",
            "align_content": null,
            "align_items": null,
            "align_self": null,
            "border": null,
            "bottom": null,
            "display": null,
            "flex": null,
            "flex_flow": null,
            "grid_area": null,
            "grid_auto_columns": null,
            "grid_auto_flow": null,
            "grid_auto_rows": null,
            "grid_column": null,
            "grid_gap": null,
            "grid_row": null,
            "grid_template_areas": null,
            "grid_template_columns": null,
            "grid_template_rows": null,
            "height": null,
            "justify_content": null,
            "justify_items": null,
            "left": null,
            "margin": null,
            "max_height": null,
            "max_width": null,
            "min_height": null,
            "min_width": null,
            "object_fit": null,
            "object_position": null,
            "order": null,
            "overflow": null,
            "overflow_x": null,
            "overflow_y": null,
            "padding": null,
            "right": null,
            "top": null,
            "visibility": null,
            "width": null
          }
        },
        "3d4f229c59574c48b0d0636234dc6d68": {
          "model_module": "@jupyter-widgets/controls",
          "model_name": "ProgressStyleModel",
          "model_module_version": "1.5.0",
          "state": {
            "_model_module": "@jupyter-widgets/controls",
            "_model_module_version": "1.5.0",
            "_model_name": "ProgressStyleModel",
            "_view_count": null,
            "_view_module": "@jupyter-widgets/base",
            "_view_module_version": "1.2.0",
            "_view_name": "StyleView",
            "bar_color": null,
            "description_width": ""
          }
        },
        "a47ebf060498436fa9caea43b319218e": {
          "model_module": "@jupyter-widgets/base",
          "model_name": "LayoutModel",
          "model_module_version": "1.2.0",
          "state": {
            "_model_module": "@jupyter-widgets/base",
            "_model_module_version": "1.2.0",
            "_model_name": "LayoutModel",
            "_view_count": null,
            "_view_module": "@jupyter-widgets/base",
            "_view_module_version": "1.2.0",
            "_view_name": "LayoutView",
            "align_content": null,
            "align_items": null,
            "align_self": null,
            "border": null,
            "bottom": null,
            "display": null,
            "flex": null,
            "flex_flow": null,
            "grid_area": null,
            "grid_auto_columns": null,
            "grid_auto_flow": null,
            "grid_auto_rows": null,
            "grid_column": null,
            "grid_gap": null,
            "grid_row": null,
            "grid_template_areas": null,
            "grid_template_columns": null,
            "grid_template_rows": null,
            "height": null,
            "justify_content": null,
            "justify_items": null,
            "left": null,
            "margin": null,
            "max_height": null,
            "max_width": null,
            "min_height": null,
            "min_width": null,
            "object_fit": null,
            "object_position": null,
            "order": null,
            "overflow": null,
            "overflow_x": null,
            "overflow_y": null,
            "padding": null,
            "right": null,
            "top": null,
            "visibility": null,
            "width": null
          }
        },
        "58e7605961f1411180bd677115707c9a": {
          "model_module": "@jupyter-widgets/controls",
          "model_name": "DescriptionStyleModel",
          "model_module_version": "1.5.0",
          "state": {
            "_model_module": "@jupyter-widgets/controls",
            "_model_module_version": "1.5.0",
            "_model_name": "DescriptionStyleModel",
            "_view_count": null,
            "_view_module": "@jupyter-widgets/base",
            "_view_module_version": "1.2.0",
            "_view_name": "StyleView",
            "description_width": ""
          }
        },
        "8098eb47e36c4c0c86dbd86b17c6067b": {
          "model_module": "@jupyter-widgets/controls",
          "model_name": "HBoxModel",
          "model_module_version": "1.5.0",
          "state": {
            "_dom_classes": [],
            "_model_module": "@jupyter-widgets/controls",
            "_model_module_version": "1.5.0",
            "_model_name": "HBoxModel",
            "_view_count": null,
            "_view_module": "@jupyter-widgets/controls",
            "_view_module_version": "1.5.0",
            "_view_name": "HBoxView",
            "box_style": "",
            "children": [
              "IPY_MODEL_e851d37d162547268eb6415fa4893faa",
              "IPY_MODEL_321e01e8cbab47e1aa2edd6db2d9b350",
              "IPY_MODEL_bca6746ca5f64acabda5bcd8df391654"
            ],
            "layout": "IPY_MODEL_89bd6b35c1d34b96ae4071ab571d5f8b"
          }
        },
        "e851d37d162547268eb6415fa4893faa": {
          "model_module": "@jupyter-widgets/controls",
          "model_name": "HTMLModel",
          "model_module_version": "1.5.0",
          "state": {
            "_dom_classes": [],
            "_model_module": "@jupyter-widgets/controls",
            "_model_module_version": "1.5.0",
            "_model_name": "HTMLModel",
            "_view_count": null,
            "_view_module": "@jupyter-widgets/controls",
            "_view_module_version": "1.5.0",
            "_view_name": "HTMLView",
            "description": "",
            "description_tooltip": null,
            "layout": "IPY_MODEL_95c1a01cfb494e20b0d0ff3bbff9749e",
            "placeholder": "​",
            "style": "IPY_MODEL_e4bd1638482946d4beb7f60ac4d252ee",
            "value": "Generating test examples...: 100%"
          }
        },
        "321e01e8cbab47e1aa2edd6db2d9b350": {
          "model_module": "@jupyter-widgets/controls",
          "model_name": "FloatProgressModel",
          "model_module_version": "1.5.0",
          "state": {
            "_dom_classes": [],
            "_model_module": "@jupyter-widgets/controls",
            "_model_module_version": "1.5.0",
            "_model_name": "FloatProgressModel",
            "_view_count": null,
            "_view_module": "@jupyter-widgets/controls",
            "_view_module_version": "1.5.0",
            "_view_name": "ProgressView",
            "bar_style": "",
            "description": "",
            "description_tooltip": null,
            "layout": "IPY_MODEL_50de2d8c68024a79aa21d3ed8112479c",
            "max": 10000,
            "min": 0,
            "orientation": "horizontal",
            "style": "IPY_MODEL_c84b7009d6b84e4cbcb837c1e72304c4",
            "value": 10000
          }
        },
        "bca6746ca5f64acabda5bcd8df391654": {
          "model_module": "@jupyter-widgets/controls",
          "model_name": "HTMLModel",
          "model_module_version": "1.5.0",
          "state": {
            "_dom_classes": [],
            "_model_module": "@jupyter-widgets/controls",
            "_model_module_version": "1.5.0",
            "_model_name": "HTMLModel",
            "_view_count": null,
            "_view_module": "@jupyter-widgets/controls",
            "_view_module_version": "1.5.0",
            "_view_name": "HTMLView",
            "description": "",
            "description_tooltip": null,
            "layout": "IPY_MODEL_a2a8d91cbe9349ab8cb99d444a254485",
            "placeholder": "​",
            "style": "IPY_MODEL_4a66c50c87254079b4a398133c1b2fbf",
            "value": " 9997/10000 [00:09&lt;00:00, 1078.66 examples/s]"
          }
        },
        "89bd6b35c1d34b96ae4071ab571d5f8b": {
          "model_module": "@jupyter-widgets/base",
          "model_name": "LayoutModel",
          "model_module_version": "1.2.0",
          "state": {
            "_model_module": "@jupyter-widgets/base",
            "_model_module_version": "1.2.0",
            "_model_name": "LayoutModel",
            "_view_count": null,
            "_view_module": "@jupyter-widgets/base",
            "_view_module_version": "1.2.0",
            "_view_name": "LayoutView",
            "align_content": null,
            "align_items": null,
            "align_self": null,
            "border": null,
            "bottom": null,
            "display": null,
            "flex": null,
            "flex_flow": null,
            "grid_area": null,
            "grid_auto_columns": null,
            "grid_auto_flow": null,
            "grid_auto_rows": null,
            "grid_column": null,
            "grid_gap": null,
            "grid_row": null,
            "grid_template_areas": null,
            "grid_template_columns": null,
            "grid_template_rows": null,
            "height": null,
            "justify_content": null,
            "justify_items": null,
            "left": null,
            "margin": null,
            "max_height": null,
            "max_width": null,
            "min_height": null,
            "min_width": null,
            "object_fit": null,
            "object_position": null,
            "order": null,
            "overflow": null,
            "overflow_x": null,
            "overflow_y": null,
            "padding": null,
            "right": null,
            "top": null,
            "visibility": "hidden",
            "width": null
          }
        },
        "95c1a01cfb494e20b0d0ff3bbff9749e": {
          "model_module": "@jupyter-widgets/base",
          "model_name": "LayoutModel",
          "model_module_version": "1.2.0",
          "state": {
            "_model_module": "@jupyter-widgets/base",
            "_model_module_version": "1.2.0",
            "_model_name": "LayoutModel",
            "_view_count": null,
            "_view_module": "@jupyter-widgets/base",
            "_view_module_version": "1.2.0",
            "_view_name": "LayoutView",
            "align_content": null,
            "align_items": null,
            "align_self": null,
            "border": null,
            "bottom": null,
            "display": null,
            "flex": null,
            "flex_flow": null,
            "grid_area": null,
            "grid_auto_columns": null,
            "grid_auto_flow": null,
            "grid_auto_rows": null,
            "grid_column": null,
            "grid_gap": null,
            "grid_row": null,
            "grid_template_areas": null,
            "grid_template_columns": null,
            "grid_template_rows": null,
            "height": null,
            "justify_content": null,
            "justify_items": null,
            "left": null,
            "margin": null,
            "max_height": null,
            "max_width": null,
            "min_height": null,
            "min_width": null,
            "object_fit": null,
            "object_position": null,
            "order": null,
            "overflow": null,
            "overflow_x": null,
            "overflow_y": null,
            "padding": null,
            "right": null,
            "top": null,
            "visibility": null,
            "width": null
          }
        },
        "e4bd1638482946d4beb7f60ac4d252ee": {
          "model_module": "@jupyter-widgets/controls",
          "model_name": "DescriptionStyleModel",
          "model_module_version": "1.5.0",
          "state": {
            "_model_module": "@jupyter-widgets/controls",
            "_model_module_version": "1.5.0",
            "_model_name": "DescriptionStyleModel",
            "_view_count": null,
            "_view_module": "@jupyter-widgets/base",
            "_view_module_version": "1.2.0",
            "_view_name": "StyleView",
            "description_width": ""
          }
        },
        "50de2d8c68024a79aa21d3ed8112479c": {
          "model_module": "@jupyter-widgets/base",
          "model_name": "LayoutModel",
          "model_module_version": "1.2.0",
          "state": {
            "_model_module": "@jupyter-widgets/base",
            "_model_module_version": "1.2.0",
            "_model_name": "LayoutModel",
            "_view_count": null,
            "_view_module": "@jupyter-widgets/base",
            "_view_module_version": "1.2.0",
            "_view_name": "LayoutView",
            "align_content": null,
            "align_items": null,
            "align_self": null,
            "border": null,
            "bottom": null,
            "display": null,
            "flex": null,
            "flex_flow": null,
            "grid_area": null,
            "grid_auto_columns": null,
            "grid_auto_flow": null,
            "grid_auto_rows": null,
            "grid_column": null,
            "grid_gap": null,
            "grid_row": null,
            "grid_template_areas": null,
            "grid_template_columns": null,
            "grid_template_rows": null,
            "height": null,
            "justify_content": null,
            "justify_items": null,
            "left": null,
            "margin": null,
            "max_height": null,
            "max_width": null,
            "min_height": null,
            "min_width": null,
            "object_fit": null,
            "object_position": null,
            "order": null,
            "overflow": null,
            "overflow_x": null,
            "overflow_y": null,
            "padding": null,
            "right": null,
            "top": null,
            "visibility": null,
            "width": null
          }
        },
        "c84b7009d6b84e4cbcb837c1e72304c4": {
          "model_module": "@jupyter-widgets/controls",
          "model_name": "ProgressStyleModel",
          "model_module_version": "1.5.0",
          "state": {
            "_model_module": "@jupyter-widgets/controls",
            "_model_module_version": "1.5.0",
            "_model_name": "ProgressStyleModel",
            "_view_count": null,
            "_view_module": "@jupyter-widgets/base",
            "_view_module_version": "1.2.0",
            "_view_name": "StyleView",
            "bar_color": null,
            "description_width": ""
          }
        },
        "a2a8d91cbe9349ab8cb99d444a254485": {
          "model_module": "@jupyter-widgets/base",
          "model_name": "LayoutModel",
          "model_module_version": "1.2.0",
          "state": {
            "_model_module": "@jupyter-widgets/base",
            "_model_module_version": "1.2.0",
            "_model_name": "LayoutModel",
            "_view_count": null,
            "_view_module": "@jupyter-widgets/base",
            "_view_module_version": "1.2.0",
            "_view_name": "LayoutView",
            "align_content": null,
            "align_items": null,
            "align_self": null,
            "border": null,
            "bottom": null,
            "display": null,
            "flex": null,
            "flex_flow": null,
            "grid_area": null,
            "grid_auto_columns": null,
            "grid_auto_flow": null,
            "grid_auto_rows": null,
            "grid_column": null,
            "grid_gap": null,
            "grid_row": null,
            "grid_template_areas": null,
            "grid_template_columns": null,
            "grid_template_rows": null,
            "height": null,
            "justify_content": null,
            "justify_items": null,
            "left": null,
            "margin": null,
            "max_height": null,
            "max_width": null,
            "min_height": null,
            "min_width": null,
            "object_fit": null,
            "object_position": null,
            "order": null,
            "overflow": null,
            "overflow_x": null,
            "overflow_y": null,
            "padding": null,
            "right": null,
            "top": null,
            "visibility": null,
            "width": null
          }
        },
        "4a66c50c87254079b4a398133c1b2fbf": {
          "model_module": "@jupyter-widgets/controls",
          "model_name": "DescriptionStyleModel",
          "model_module_version": "1.5.0",
          "state": {
            "_model_module": "@jupyter-widgets/controls",
            "_model_module_version": "1.5.0",
            "_model_name": "DescriptionStyleModel",
            "_view_count": null,
            "_view_module": "@jupyter-widgets/base",
            "_view_module_version": "1.2.0",
            "_view_name": "StyleView",
            "description_width": ""
          }
        },
        "ebc2af74316346fb8ccfc19c6b52fb1f": {
          "model_module": "@jupyter-widgets/controls",
          "model_name": "HBoxModel",
          "model_module_version": "1.5.0",
          "state": {
            "_dom_classes": [],
            "_model_module": "@jupyter-widgets/controls",
            "_model_module_version": "1.5.0",
            "_model_name": "HBoxModel",
            "_view_count": null,
            "_view_module": "@jupyter-widgets/controls",
            "_view_module_version": "1.5.0",
            "_view_name": "HBoxView",
            "box_style": "",
            "children": [
              "IPY_MODEL_97cb4a70e47c42328422a263be33bd6d",
              "IPY_MODEL_b995a87e92e44102907ffce09a571014",
              "IPY_MODEL_79a28e1b2dad4a06805fb38625a499e7"
            ],
            "layout": "IPY_MODEL_6cc8c7425dd5415d8e7f8c9a46d0933e"
          }
        },
        "97cb4a70e47c42328422a263be33bd6d": {
          "model_module": "@jupyter-widgets/controls",
          "model_name": "HTMLModel",
          "model_module_version": "1.5.0",
          "state": {
            "_dom_classes": [],
            "_model_module": "@jupyter-widgets/controls",
            "_model_module_version": "1.5.0",
            "_model_name": "HTMLModel",
            "_view_count": null,
            "_view_module": "@jupyter-widgets/controls",
            "_view_module_version": "1.5.0",
            "_view_name": "HTMLView",
            "description": "",
            "description_tooltip": null,
            "layout": "IPY_MODEL_ba6d4bf968524e268bae5449bd0f82f8",
            "placeholder": "​",
            "style": "IPY_MODEL_0ebb7c54826b49ed8595690323578208",
            "value": "Shuffling /root/tensorflow_datasets/cifar10/3.0.2.incompleteA67CGP/cifar10-test.tfrecord*...:   0%"
          }
        },
        "b995a87e92e44102907ffce09a571014": {
          "model_module": "@jupyter-widgets/controls",
          "model_name": "FloatProgressModel",
          "model_module_version": "1.5.0",
          "state": {
            "_dom_classes": [],
            "_model_module": "@jupyter-widgets/controls",
            "_model_module_version": "1.5.0",
            "_model_name": "FloatProgressModel",
            "_view_count": null,
            "_view_module": "@jupyter-widgets/controls",
            "_view_module_version": "1.5.0",
            "_view_name": "ProgressView",
            "bar_style": "",
            "description": "",
            "description_tooltip": null,
            "layout": "IPY_MODEL_ad4f698505f44e3c8702595ac14ac43a",
            "max": 10000,
            "min": 0,
            "orientation": "horizontal",
            "style": "IPY_MODEL_f10c24126f664ff5afdcd856cecbc96e",
            "value": 10000
          }
        },
        "79a28e1b2dad4a06805fb38625a499e7": {
          "model_module": "@jupyter-widgets/controls",
          "model_name": "HTMLModel",
          "model_module_version": "1.5.0",
          "state": {
            "_dom_classes": [],
            "_model_module": "@jupyter-widgets/controls",
            "_model_module_version": "1.5.0",
            "_model_name": "HTMLModel",
            "_view_count": null,
            "_view_module": "@jupyter-widgets/controls",
            "_view_module_version": "1.5.0",
            "_view_name": "HTMLView",
            "description": "",
            "description_tooltip": null,
            "layout": "IPY_MODEL_9f74b2efb9754790b03c15ba9382c819",
            "placeholder": "​",
            "style": "IPY_MODEL_2123c7b36bf34ed598208bee1581a05e",
            "value": " 0/10000 [00:00&lt;?, ? examples/s]"
          }
        },
        "6cc8c7425dd5415d8e7f8c9a46d0933e": {
          "model_module": "@jupyter-widgets/base",
          "model_name": "LayoutModel",
          "model_module_version": "1.2.0",
          "state": {
            "_model_module": "@jupyter-widgets/base",
            "_model_module_version": "1.2.0",
            "_model_name": "LayoutModel",
            "_view_count": null,
            "_view_module": "@jupyter-widgets/base",
            "_view_module_version": "1.2.0",
            "_view_name": "LayoutView",
            "align_content": null,
            "align_items": null,
            "align_self": null,
            "border": null,
            "bottom": null,
            "display": null,
            "flex": null,
            "flex_flow": null,
            "grid_area": null,
            "grid_auto_columns": null,
            "grid_auto_flow": null,
            "grid_auto_rows": null,
            "grid_column": null,
            "grid_gap": null,
            "grid_row": null,
            "grid_template_areas": null,
            "grid_template_columns": null,
            "grid_template_rows": null,
            "height": null,
            "justify_content": null,
            "justify_items": null,
            "left": null,
            "margin": null,
            "max_height": null,
            "max_width": null,
            "min_height": null,
            "min_width": null,
            "object_fit": null,
            "object_position": null,
            "order": null,
            "overflow": null,
            "overflow_x": null,
            "overflow_y": null,
            "padding": null,
            "right": null,
            "top": null,
            "visibility": "hidden",
            "width": null
          }
        },
        "ba6d4bf968524e268bae5449bd0f82f8": {
          "model_module": "@jupyter-widgets/base",
          "model_name": "LayoutModel",
          "model_module_version": "1.2.0",
          "state": {
            "_model_module": "@jupyter-widgets/base",
            "_model_module_version": "1.2.0",
            "_model_name": "LayoutModel",
            "_view_count": null,
            "_view_module": "@jupyter-widgets/base",
            "_view_module_version": "1.2.0",
            "_view_name": "LayoutView",
            "align_content": null,
            "align_items": null,
            "align_self": null,
            "border": null,
            "bottom": null,
            "display": null,
            "flex": null,
            "flex_flow": null,
            "grid_area": null,
            "grid_auto_columns": null,
            "grid_auto_flow": null,
            "grid_auto_rows": null,
            "grid_column": null,
            "grid_gap": null,
            "grid_row": null,
            "grid_template_areas": null,
            "grid_template_columns": null,
            "grid_template_rows": null,
            "height": null,
            "justify_content": null,
            "justify_items": null,
            "left": null,
            "margin": null,
            "max_height": null,
            "max_width": null,
            "min_height": null,
            "min_width": null,
            "object_fit": null,
            "object_position": null,
            "order": null,
            "overflow": null,
            "overflow_x": null,
            "overflow_y": null,
            "padding": null,
            "right": null,
            "top": null,
            "visibility": null,
            "width": null
          }
        },
        "0ebb7c54826b49ed8595690323578208": {
          "model_module": "@jupyter-widgets/controls",
          "model_name": "DescriptionStyleModel",
          "model_module_version": "1.5.0",
          "state": {
            "_model_module": "@jupyter-widgets/controls",
            "_model_module_version": "1.5.0",
            "_model_name": "DescriptionStyleModel",
            "_view_count": null,
            "_view_module": "@jupyter-widgets/base",
            "_view_module_version": "1.2.0",
            "_view_name": "StyleView",
            "description_width": ""
          }
        },
        "ad4f698505f44e3c8702595ac14ac43a": {
          "model_module": "@jupyter-widgets/base",
          "model_name": "LayoutModel",
          "model_module_version": "1.2.0",
          "state": {
            "_model_module": "@jupyter-widgets/base",
            "_model_module_version": "1.2.0",
            "_model_name": "LayoutModel",
            "_view_count": null,
            "_view_module": "@jupyter-widgets/base",
            "_view_module_version": "1.2.0",
            "_view_name": "LayoutView",
            "align_content": null,
            "align_items": null,
            "align_self": null,
            "border": null,
            "bottom": null,
            "display": null,
            "flex": null,
            "flex_flow": null,
            "grid_area": null,
            "grid_auto_columns": null,
            "grid_auto_flow": null,
            "grid_auto_rows": null,
            "grid_column": null,
            "grid_gap": null,
            "grid_row": null,
            "grid_template_areas": null,
            "grid_template_columns": null,
            "grid_template_rows": null,
            "height": null,
            "justify_content": null,
            "justify_items": null,
            "left": null,
            "margin": null,
            "max_height": null,
            "max_width": null,
            "min_height": null,
            "min_width": null,
            "object_fit": null,
            "object_position": null,
            "order": null,
            "overflow": null,
            "overflow_x": null,
            "overflow_y": null,
            "padding": null,
            "right": null,
            "top": null,
            "visibility": null,
            "width": null
          }
        },
        "f10c24126f664ff5afdcd856cecbc96e": {
          "model_module": "@jupyter-widgets/controls",
          "model_name": "ProgressStyleModel",
          "model_module_version": "1.5.0",
          "state": {
            "_model_module": "@jupyter-widgets/controls",
            "_model_module_version": "1.5.0",
            "_model_name": "ProgressStyleModel",
            "_view_count": null,
            "_view_module": "@jupyter-widgets/base",
            "_view_module_version": "1.2.0",
            "_view_name": "StyleView",
            "bar_color": null,
            "description_width": ""
          }
        },
        "9f74b2efb9754790b03c15ba9382c819": {
          "model_module": "@jupyter-widgets/base",
          "model_name": "LayoutModel",
          "model_module_version": "1.2.0",
          "state": {
            "_model_module": "@jupyter-widgets/base",
            "_model_module_version": "1.2.0",
            "_model_name": "LayoutModel",
            "_view_count": null,
            "_view_module": "@jupyter-widgets/base",
            "_view_module_version": "1.2.0",
            "_view_name": "LayoutView",
            "align_content": null,
            "align_items": null,
            "align_self": null,
            "border": null,
            "bottom": null,
            "display": null,
            "flex": null,
            "flex_flow": null,
            "grid_area": null,
            "grid_auto_columns": null,
            "grid_auto_flow": null,
            "grid_auto_rows": null,
            "grid_column": null,
            "grid_gap": null,
            "grid_row": null,
            "grid_template_areas": null,
            "grid_template_columns": null,
            "grid_template_rows": null,
            "height": null,
            "justify_content": null,
            "justify_items": null,
            "left": null,
            "margin": null,
            "max_height": null,
            "max_width": null,
            "min_height": null,
            "min_width": null,
            "object_fit": null,
            "object_position": null,
            "order": null,
            "overflow": null,
            "overflow_x": null,
            "overflow_y": null,
            "padding": null,
            "right": null,
            "top": null,
            "visibility": null,
            "width": null
          }
        },
        "2123c7b36bf34ed598208bee1581a05e": {
          "model_module": "@jupyter-widgets/controls",
          "model_name": "DescriptionStyleModel",
          "model_module_version": "1.5.0",
          "state": {
            "_model_module": "@jupyter-widgets/controls",
            "_model_module_version": "1.5.0",
            "_model_name": "DescriptionStyleModel",
            "_view_count": null,
            "_view_module": "@jupyter-widgets/base",
            "_view_module_version": "1.2.0",
            "_view_name": "StyleView",
            "description_width": ""
          }
        }
      }
    }
  },
  "cells": [
    {
      "cell_type": "markdown",
      "source": [
        "# CIFAR10 Dataset with Tensorflow ✈🐕🚗\n",
        "Google Colab link: https://colab.research.google.com/drive/1yCbqzDXFxlcXOkyxn5F6o2z3RQLqvgv-#scrollTo=PMeC3If6Wmko\n",
        "\n",
        "\n",
        "This notebook is my implementation for neural networks that could classify the 10 classes of CIFAR10 dataset with tensorflow.\n",
        "\n",
        "Our 10 classes:\n",
        "1. airplane\n",
        "2. automobile\n",
        "3. bird\n",
        "4. cat\n",
        "5. deer\n",
        "6. dog\n",
        "7. horse\n",
        "8. frog\n",
        "9. ship\n",
        "10. truck\n",
        "\n",
        "Link of dataset: https://www.tensorflow.org/datasets/catalog/cifar10"
      ],
      "metadata": {
        "id": "PMeC3If6Wmko"
      }
    },
    {
      "cell_type": "code",
      "source": [
        "# imports\n",
        "import tensorflow as tf\n",
        "import seaborn as sns\n",
        "import numpy as np\n",
        "import pandas as pd\n",
        "import matplotlib.pyplot as plt\n",
        "import matplotlib.image as mpimg\n",
        "import itertools\n",
        "import tensorflow_datasets as tfds\n",
        "print(tf.__version__)"
      ],
      "metadata": {
        "colab": {
          "base_uri": "https://localhost:8080/"
        },
        "id": "AIa3m5wTkwGl",
        "outputId": "81b8ff8a-a288-4043-cafd-c43de6bef9ef"
      },
      "execution_count": 1,
      "outputs": [
        {
          "output_type": "stream",
          "name": "stdout",
          "text": [
            "2.12.0\n"
          ]
        }
      ]
    },
    {
      "cell_type": "markdown",
      "source": [
        "## Loading our data using tensorflow datasets and getting our data ready"
      ],
      "metadata": {
        "id": "7A_bTw-0lIIl"
      }
    },
    {
      "cell_type": "code",
      "source": [
        "# Loading our data from tensorflow datasets\n",
        "ds , ds_info = tfds.load('cifar10',\n",
        "                         split = ['train' , 'test'],\n",
        "                         shuffle_files = True,\n",
        "                         as_supervised = True,\n",
        "                         with_info = True)"
      ],
      "metadata": {
        "colab": {
          "base_uri": "https://localhost:8080/",
          "height": 168,
          "referenced_widgets": [
            "2e89b52684e7466ea09af576761f2d70",
            "d5ea09caf6ca4b83a245cecbed3db5a9",
            "be633a0d27a34356a51f75aa423b5ca4",
            "2cb3853cae8b472d8d0bf4f29e3894c8",
            "c9dae49b69024cf7aa84de5ad1bd514c",
            "f033c15a301b40db85b39a0786a8bc45",
            "b635c86591a442f9bbc8f4153fbdd51c",
            "27e8ddb1bfd74ee99c6db3d86c54e325",
            "1073515145ff439e8e313e1deed10d88",
            "a6084de0f63f490d931229c5c3dcfd5d",
            "cff88616e9984db985c0732939e8e3e7",
            "019d08910f9c4bc79744820aea823a01",
            "31580e652e5b4ff19431a3e881209b43",
            "b3c98d0189b342fb970eeb0f16b74aca",
            "3deab5f0625e4873a8c9b158d399f2de",
            "fa00bfac19684ec9b9684a413a1e3a5c",
            "eecdd4e7acd74675a0d1481d2f6ee6f6",
            "a93e9bc314a849b7be80ba7e15647b4d",
            "a5cd956b2572455ea5704b9d6a083bcd",
            "84a837eb9af84d69a8db3d9461c2e217",
            "09aff2ea692446b3832e0c18a2d56700",
            "d9d2ca42add84cf1882b69dcf4567f64",
            "62abc802a81341eaa6c30e52b5a2bee2",
            "e85046a0354a44c9a94d15c15b656f18",
            "ea3aec3ecf414db9b075362cf78e4ffb",
            "a0570efed02f442fbd37e1a653a1f4a0",
            "0ebffa0b15424a80ab3f4824aff13f93",
            "ef8ae250c98448d391e738a0e18e214a",
            "d82d73fcc76c4369828c20b35ec2aa9d",
            "ea1645fef0d24374a618c7704fea5ba8",
            "6e1233aaa3b1485580153c3d03274af7",
            "93b0ddbe629c4fb8ba3638ff50326938",
            "ee81d53506d74124bf2b03b220823b5b",
            "f22e174ac2294aa6b51bb4cee884d748",
            "33615824ba3c482f9574020bc893c762",
            "b346227aee144e288a5f823dc8b16159",
            "675f50767c0c4e6f9bf414e59c2e8398",
            "b8f052ce92e64c719f343f50e009a010",
            "488dcd96efa84dc5a66041f4072bd466",
            "651b3cca82f747c7ae65ddb4ec5eba4c",
            "6a1af1e9ad964c0a90854a301a93001a",
            "7f2710e56e044858afa3309b7d9e63e3",
            "d8e3129631d749b796a4c961ecd99444",
            "e51ddd9af65240619feead0ed3bd86de",
            "22cfd6de58d84409b84b22981336f5b1",
            "7aeb5dabdea24159acdbb10e992a647c",
            "a1cbabd1112347fb9f4ed19812ee92f9",
            "b7c48418c6c04bb5ae6df93b598ddeb3",
            "6b1699000b3a4f319d71c8eb2fe5c421",
            "612c1aa098b74811ba7c19f8b146e6c1",
            "a158580ff3ee4d92a96cd3eb652e9cd7",
            "e6dde3f164aa4d53aab08e75e2acb12c",
            "e7b9e07b01f24ad092d3e24152fd5997",
            "2b94224df4e54f43813d13240b311da3",
            "c2de28690f2e4b19b98ff1f0de59dd20",
            "96dfa16219b040609c5d9133ede226bb",
            "d1949d16c22e493ab9d33037f8853c8c",
            "32ffdd20d2714d25a0e3975784a05525",
            "fd4bf8af1ad24b52b41df29b9eaa4051",
            "024f79949848408a9b808ae65e04ee3d",
            "adf0f0c0c56c4d31a1f3877f3a01b26c",
            "6e08f221f1944c0b8adf4c0232379cea",
            "f2702a2bde9c4b3daab760714041628b",
            "3d4f229c59574c48b0d0636234dc6d68",
            "a47ebf060498436fa9caea43b319218e",
            "58e7605961f1411180bd677115707c9a",
            "8098eb47e36c4c0c86dbd86b17c6067b",
            "e851d37d162547268eb6415fa4893faa",
            "321e01e8cbab47e1aa2edd6db2d9b350",
            "bca6746ca5f64acabda5bcd8df391654",
            "89bd6b35c1d34b96ae4071ab571d5f8b",
            "95c1a01cfb494e20b0d0ff3bbff9749e",
            "e4bd1638482946d4beb7f60ac4d252ee",
            "50de2d8c68024a79aa21d3ed8112479c",
            "c84b7009d6b84e4cbcb837c1e72304c4",
            "a2a8d91cbe9349ab8cb99d444a254485",
            "4a66c50c87254079b4a398133c1b2fbf",
            "ebc2af74316346fb8ccfc19c6b52fb1f",
            "97cb4a70e47c42328422a263be33bd6d",
            "b995a87e92e44102907ffce09a571014",
            "79a28e1b2dad4a06805fb38625a499e7",
            "6cc8c7425dd5415d8e7f8c9a46d0933e",
            "ba6d4bf968524e268bae5449bd0f82f8",
            "0ebb7c54826b49ed8595690323578208",
            "ad4f698505f44e3c8702595ac14ac43a",
            "f10c24126f664ff5afdcd856cecbc96e",
            "9f74b2efb9754790b03c15ba9382c819",
            "2123c7b36bf34ed598208bee1581a05e"
          ]
        },
        "id": "JQjYVUnVlSmq",
        "outputId": "c0ae18e2-7ffe-4fdb-f4d5-6409f6fa7b3d"
      },
      "execution_count": 2,
      "outputs": [
        {
          "output_type": "stream",
          "name": "stdout",
          "text": [
            "Downloading and preparing dataset 162.17 MiB (download: 162.17 MiB, generated: 132.40 MiB, total: 294.58 MiB) to /root/tensorflow_datasets/cifar10/3.0.2...\n"
          ]
        },
        {
          "output_type": "display_data",
          "data": {
            "text/plain": [
              "Dl Completed...: 0 url [00:00, ? url/s]"
            ],
            "application/vnd.jupyter.widget-view+json": {
              "version_major": 2,
              "version_minor": 0,
              "model_id": "2e89b52684e7466ea09af576761f2d70"
            }
          },
          "metadata": {}
        },
        {
          "output_type": "display_data",
          "data": {
            "text/plain": [
              "Dl Size...: 0 MiB [00:00, ? MiB/s]"
            ],
            "application/vnd.jupyter.widget-view+json": {
              "version_major": 2,
              "version_minor": 0,
              "model_id": "019d08910f9c4bc79744820aea823a01"
            }
          },
          "metadata": {}
        },
        {
          "output_type": "display_data",
          "data": {
            "text/plain": [
              "Extraction completed...: 0 file [00:00, ? file/s]"
            ],
            "application/vnd.jupyter.widget-view+json": {
              "version_major": 2,
              "version_minor": 0,
              "model_id": "62abc802a81341eaa6c30e52b5a2bee2"
            }
          },
          "metadata": {}
        },
        {
          "output_type": "display_data",
          "data": {
            "text/plain": [
              "Generating splits...:   0%|          | 0/2 [00:00<?, ? splits/s]"
            ],
            "application/vnd.jupyter.widget-view+json": {
              "version_major": 2,
              "version_minor": 0,
              "model_id": "f22e174ac2294aa6b51bb4cee884d748"
            }
          },
          "metadata": {}
        },
        {
          "output_type": "display_data",
          "data": {
            "text/plain": [
              "Generating train examples...:   0%|          | 0/50000 [00:00<?, ? examples/s]"
            ],
            "application/vnd.jupyter.widget-view+json": {
              "version_major": 2,
              "version_minor": 0,
              "model_id": "22cfd6de58d84409b84b22981336f5b1"
            }
          },
          "metadata": {}
        },
        {
          "output_type": "display_data",
          "data": {
            "text/plain": [
              "Shuffling /root/tensorflow_datasets/cifar10/3.0.2.incompleteA67CGP/cifar10-train.tfrecord*...:   0%|          …"
            ],
            "application/vnd.jupyter.widget-view+json": {
              "version_major": 2,
              "version_minor": 0,
              "model_id": "96dfa16219b040609c5d9133ede226bb"
            }
          },
          "metadata": {}
        },
        {
          "output_type": "display_data",
          "data": {
            "text/plain": [
              "Generating test examples...:   0%|          | 0/10000 [00:00<?, ? examples/s]"
            ],
            "application/vnd.jupyter.widget-view+json": {
              "version_major": 2,
              "version_minor": 0,
              "model_id": "8098eb47e36c4c0c86dbd86b17c6067b"
            }
          },
          "metadata": {}
        },
        {
          "output_type": "display_data",
          "data": {
            "text/plain": [
              "Shuffling /root/tensorflow_datasets/cifar10/3.0.2.incompleteA67CGP/cifar10-test.tfrecord*...:   0%|          |…"
            ],
            "application/vnd.jupyter.widget-view+json": {
              "version_major": 2,
              "version_minor": 0,
              "model_id": "ebc2af74316346fb8ccfc19c6b52fb1f"
            }
          },
          "metadata": {}
        },
        {
          "output_type": "stream",
          "name": "stdout",
          "text": [
            "Dataset cifar10 downloaded and prepared to /root/tensorflow_datasets/cifar10/3.0.2. Subsequent calls will reuse this data.\n"
          ]
        }
      ]
    },
    {
      "cell_type": "code",
      "source": [
        "# Examining our metadata\n",
        "ds_info"
      ],
      "metadata": {
        "colab": {
          "base_uri": "https://localhost:8080/"
        },
        "id": "FyYDxMkToqKM",
        "outputId": "c29f4c02-96a8-414d-c70e-7e0887081772"
      },
      "execution_count": 3,
      "outputs": [
        {
          "output_type": "execute_result",
          "data": {
            "text/plain": [
              "tfds.core.DatasetInfo(\n",
              "    name='cifar10',\n",
              "    full_name='cifar10/3.0.2',\n",
              "    description=\"\"\"\n",
              "    The CIFAR-10 dataset consists of 60000 32x32 colour images in 10 classes, with 6000 images per class. There are 50000 training images and 10000 test images.\n",
              "    \"\"\",\n",
              "    homepage='https://www.cs.toronto.edu/~kriz/cifar.html',\n",
              "    data_path=PosixGPath('/tmp/tmpfb6hy_7gtfds'),\n",
              "    file_format=tfrecord,\n",
              "    download_size=162.17 MiB,\n",
              "    dataset_size=132.40 MiB,\n",
              "    features=FeaturesDict({\n",
              "        'id': Text(shape=(), dtype=string),\n",
              "        'image': Image(shape=(32, 32, 3), dtype=uint8),\n",
              "        'label': ClassLabel(shape=(), dtype=int64, num_classes=10),\n",
              "    }),\n",
              "    supervised_keys=('image', 'label'),\n",
              "    disable_shuffling=False,\n",
              "    splits={\n",
              "        'test': <SplitInfo num_examples=10000, num_shards=1>,\n",
              "        'train': <SplitInfo num_examples=50000, num_shards=1>,\n",
              "    },\n",
              "    citation=\"\"\"@TECHREPORT{Krizhevsky09learningmultiple,\n",
              "        author = {Alex Krizhevsky},\n",
              "        title = {Learning multiple layers of features from tiny images},\n",
              "        institution = {},\n",
              "        year = {2009}\n",
              "    }\"\"\",\n",
              ")"
            ]
          },
          "metadata": {},
          "execution_count": 3
        }
      ]
    },
    {
      "cell_type": "code",
      "source": [
        "# Getting our data ready\n",
        "(train_data , test_data) = ds\n",
        "class_names = ds_info.features['label'].names\n",
        "train_data , test_data , class_names"
      ],
      "metadata": {
        "colab": {
          "base_uri": "https://localhost:8080/"
        },
        "id": "wV9LCzejnDnb",
        "outputId": "e9d18250-ff06-4b0d-86cc-f149a073d3b1"
      },
      "execution_count": 4,
      "outputs": [
        {
          "output_type": "execute_result",
          "data": {
            "text/plain": [
              "(<_PrefetchDataset element_spec=(TensorSpec(shape=(32, 32, 3), dtype=tf.uint8, name=None), TensorSpec(shape=(), dtype=tf.int64, name=None))>,\n",
              " <_PrefetchDataset element_spec=(TensorSpec(shape=(32, 32, 3), dtype=tf.uint8, name=None), TensorSpec(shape=(), dtype=tf.int64, name=None))>,\n",
              " ['airplane',\n",
              "  'automobile',\n",
              "  'bird',\n",
              "  'cat',\n",
              "  'deer',\n",
              "  'dog',\n",
              "  'frog',\n",
              "  'horse',\n",
              "  'ship',\n",
              "  'truck'])"
            ]
          },
          "metadata": {},
          "execution_count": 4
        }
      ]
    },
    {
      "cell_type": "markdown",
      "source": [
        "## Becoming one with the data\n",
        "\n",
        "What we have found from the below code:\n",
        "1. Data is not scaled\n",
        "2. Images are of dtype `uint8`\n",
        "  * needs to be casted to float32\n",
        "3. Each class have 5000 training images"
      ],
      "metadata": {
        "id": "12T-MemDmJc1"
      }
    },
    {
      "cell_type": "code",
      "source": [
        "# Take one sample of the training data\n",
        "train_one_sample = train_data.take(1) # (image_tensor , label)\n",
        "train_one_sample"
      ],
      "metadata": {
        "colab": {
          "base_uri": "https://localhost:8080/"
        },
        "id": "1BgYAmG2pA8z",
        "outputId": "b4a8739b-4de3-42d6-c7e2-d8e1f75d0b53"
      },
      "execution_count": 5,
      "outputs": [
        {
          "output_type": "execute_result",
          "data": {
            "text/plain": [
              "<_TakeDataset element_spec=(TensorSpec(shape=(32, 32, 3), dtype=tf.uint8, name=None), TensorSpec(shape=(), dtype=tf.int64, name=None))>"
            ]
          },
          "metadata": {},
          "execution_count": 5
        }
      ]
    },
    {
      "cell_type": "code",
      "source": [
        "for image , label in train_one_sample:\n",
        "  print(f\"\"\"\n",
        "  Image shape: {image.shape}\n",
        "  Image datatype: {image.dtype}\n",
        "  Label: {class_names[label.numpy()]}\n",
        "  Label datatype: {label.dtype}\n",
        "  \"\"\"\n",
        "  )"
      ],
      "metadata": {
        "colab": {
          "base_uri": "https://localhost:8080/"
        },
        "id": "h-kYY76ypdzH",
        "outputId": "09cd540a-23c7-4957-8f3f-84eeb9ade36a"
      },
      "execution_count": 6,
      "outputs": [
        {
          "output_type": "stream",
          "name": "stdout",
          "text": [
            "\n",
            "  Image shape: (32, 32, 3)\n",
            "  Image datatype: <dtype: 'uint8'>\n",
            "  Label: horse\n",
            "  Label datatype: <dtype: 'int64'>\n",
            "  \n"
          ]
        }
      ]
    },
    {
      "cell_type": "code",
      "source": [
        "# What does our image look like\n",
        "image , image.shape"
      ],
      "metadata": {
        "colab": {
          "base_uri": "https://localhost:8080/"
        },
        "id": "gKFx-QhsmvHH",
        "outputId": "f151a01f-1501-44c9-9e74-ae5d2155a165"
      },
      "execution_count": 7,
      "outputs": [
        {
          "output_type": "execute_result",
          "data": {
            "text/plain": [
              "(<tf.Tensor: shape=(32, 32, 3), dtype=uint8, numpy=\n",
              " array([[[143,  96,  70],\n",
              "         [141,  96,  72],\n",
              "         [135,  93,  72],\n",
              "         ...,\n",
              "         [ 96,  37,  19],\n",
              "         [105,  42,  18],\n",
              "         [104,  38,  20]],\n",
              " \n",
              "        [[128,  98,  92],\n",
              "         [146, 118, 112],\n",
              "         [170, 145, 138],\n",
              "         ...,\n",
              "         [108,  45,  26],\n",
              "         [112,  44,  24],\n",
              "         [112,  41,  22]],\n",
              " \n",
              "        [[ 93,  69,  75],\n",
              "         [118,  96, 101],\n",
              "         [179, 160, 162],\n",
              "         ...,\n",
              "         [128,  68,  47],\n",
              "         [125,  61,  42],\n",
              "         [122,  59,  39]],\n",
              " \n",
              "        ...,\n",
              " \n",
              "        [[187, 150, 123],\n",
              "         [184, 148, 123],\n",
              "         [179, 142, 121],\n",
              "         ...,\n",
              "         [198, 163, 132],\n",
              "         [201, 166, 135],\n",
              "         [207, 174, 143]],\n",
              " \n",
              "        [[187, 150, 117],\n",
              "         [181, 143, 115],\n",
              "         [175, 136, 113],\n",
              "         ...,\n",
              "         [201, 164, 132],\n",
              "         [205, 168, 135],\n",
              "         [207, 171, 139]],\n",
              " \n",
              "        [[195, 161, 126],\n",
              "         [187, 153, 123],\n",
              "         [186, 151, 128],\n",
              "         ...,\n",
              "         [212, 177, 147],\n",
              "         [219, 185, 155],\n",
              "         [221, 187, 157]]], dtype=uint8)>,\n",
              " TensorShape([32, 32, 3]))"
            ]
          },
          "metadata": {},
          "execution_count": 7
        }
      ]
    },
    {
      "cell_type": "code",
      "source": [
        "# What is the min and max values in the image\n",
        "np.min(image) , np.max(image)"
      ],
      "metadata": {
        "colab": {
          "base_uri": "https://localhost:8080/"
        },
        "id": "bCdVubP2pWmo",
        "outputId": "76e9fa96-85e8-49b9-997e-1b3814e4b0d5"
      },
      "execution_count": 8,
      "outputs": [
        {
          "output_type": "execute_result",
          "data": {
            "text/plain": [
              "(0, 249)"
            ]
          },
          "metadata": {},
          "execution_count": 8
        }
      ]
    },
    {
      "cell_type": "markdown",
      "source": [
        "It looks like our image isnot normalized"
      ],
      "metadata": {
        "id": "ZeURVZ3Lp-dv"
      }
    },
    {
      "cell_type": "code",
      "source": [
        "# Plot an image\n",
        "plt.imshow(image)\n",
        "plt.title(class_names[label.numpy()])\n",
        "plt.axis(False)"
      ],
      "metadata": {
        "colab": {
          "base_uri": "https://localhost:8080/",
          "height": 445
        },
        "id": "qmawlo6uqI-G",
        "outputId": "0d95f730-d562-4849-a240-6a069bf54df4"
      },
      "execution_count": 9,
      "outputs": [
        {
          "output_type": "execute_result",
          "data": {
            "text/plain": [
              "(-0.5, 31.5, 31.5, -0.5)"
            ]
          },
          "metadata": {},
          "execution_count": 9
        },
        {
          "output_type": "display_data",
          "data": {
            "text/plain": [
              "<Figure size 640x480 with 1 Axes>"
            ],
            "image/png": "[encoded data removed]"
          },
          "metadata": {}
        }
      ]
    },
    {
      "cell_type": "code",
      "source": [
        "# getting counts of each class\n",
        "counts = {}\n",
        "for _ , label in train_data:\n",
        "  x = label.numpy()\n",
        "  if(x in counts):\n",
        "    counts[x] += 1\n",
        "  else :\n",
        "    counts[x] = 1\n",
        "counts"
      ],
      "metadata": {
        "colab": {
          "base_uri": "https://localhost:8080/"
        },
        "id": "h1SX-YAku_tZ",
        "outputId": "ec800f06-5047-42d3-a0e8-1b956c7c0ce4"
      },
      "execution_count": 10,
      "outputs": [
        {
          "output_type": "execute_result",
          "data": {
            "text/plain": [
              "{7: 5000,\n",
              " 8: 5000,\n",
              " 4: 5000,\n",
              " 6: 5000,\n",
              " 5: 5000,\n",
              " 2: 5000,\n",
              " 9: 5000,\n",
              " 3: 5000,\n",
              " 0: 5000,\n",
              " 1: 5000}"
            ]
          },
          "metadata": {},
          "execution_count": 10
        }
      ]
    },
    {
      "cell_type": "markdown",
      "source": [
        "So each class has the same number of training images"
      ],
      "metadata": {
        "id": "r7LuBZOTwojx"
      }
    },
    {
      "cell_type": "markdown",
      "source": [
        "### Creating our preprocessing function to cast and rescale our image and one hot encode the label"
      ],
      "metadata": {
        "id": "KwIsqrOgqdju"
      }
    },
    {
      "cell_type": "code",
      "source": [
        "# Our preprocessing functions\n",
        "def preprocess_img(image , label , scale = True):\n",
        "  image = tf.cast(image , tf.float32)\n",
        "  label = tf.one_hot(label , depth = 10)\n",
        "  if (scale):\n",
        "    image = image/255.\n",
        "  return image , label"
      ],
      "metadata": {
        "id": "8iIZt0rIrMNj"
      },
      "execution_count": 11,
      "outputs": []
    },
    {
      "cell_type": "code",
      "source": [
        "# Checking our preprocessing function\n",
        "preprocessed_img_no_scaling = preprocess_img(image , label , False)[0]\n",
        "preprocessed_img_scaling = preprocess_img(image , label , True)[0]\n",
        "tf.reduce_min(preprocessed_img_no_scaling) , tf.reduce_max(preprocessed_img_no_scaling) , tf.reduce_min(preprocessed_img_scaling) , tf.reduce_max(preprocessed_img_scaling)"
      ],
      "metadata": {
        "colab": {
          "base_uri": "https://localhost:8080/"
        },
        "id": "GAR3gZaWrit9",
        "outputId": "c0136d44-d8bf-45ce-c534-b8b8a8f6f5d5"
      },
      "execution_count": 12,
      "outputs": [
        {
          "output_type": "execute_result",
          "data": {
            "text/plain": [
              "(<tf.Tensor: shape=(), dtype=float32, numpy=0.0>,\n",
              " <tf.Tensor: shape=(), dtype=float32, numpy=249.0>,\n",
              " <tf.Tensor: shape=(), dtype=float32, numpy=0.0>,\n",
              " <tf.Tensor: shape=(), dtype=float32, numpy=0.9764706>)"
            ]
          },
          "metadata": {},
          "execution_count": 12
        }
      ]
    },
    {
      "cell_type": "code",
      "source": [
        "preprocess_img(image , label , False)[1].shape"
      ],
      "metadata": {
        "colab": {
          "base_uri": "https://localhost:8080/"
        },
        "id": "AWLDXO-42TKd",
        "outputId": "7013e396-c52b-4579-a7ff-33c3e2f5ff16"
      },
      "execution_count": 13,
      "outputs": [
        {
          "output_type": "execute_result",
          "data": {
            "text/plain": [
              "TensorShape([10])"
            ]
          },
          "metadata": {},
          "execution_count": 13
        }
      ]
    },
    {
      "cell_type": "code",
      "source": [
        "### Batching and creating our data input pipelines\n",
        "train_data_pipe = train_data.map(map_func = preprocess_img , num_parallel_calls = tf.data.AUTOTUNE).batch(batch_size = 32).prefetch(buffer_size = tf.data.AUTOTUNE)\n",
        "\n",
        "test_data_pipe = test_data.map(map_func = preprocess_img , num_parallel_calls = tf.data.AUTOTUNE).batch(batch_size = 32).prefetch(buffer_size = tf.data.AUTOTUNE)\n",
        "\n",
        "train_data_pipe , test_data_pipe"
      ],
      "metadata": {
        "colab": {
          "base_uri": "https://localhost:8080/"
        },
        "id": "_qSRyX46rrJ2",
        "outputId": "da36f9a5-43b3-405b-d0a1-4cfb31b1a0a5"
      },
      "execution_count": 14,
      "outputs": [
        {
          "output_type": "execute_result",
          "data": {
            "text/plain": [
              "(<_PrefetchDataset element_spec=(TensorSpec(shape=(None, 32, 32, 3), dtype=tf.float32, name=None), TensorSpec(shape=(None, 10), dtype=tf.float32, name=None))>,\n",
              " <_PrefetchDataset element_spec=(TensorSpec(shape=(None, 32, 32, 3), dtype=tf.float32, name=None), TensorSpec(shape=(None, 10), dtype=tf.float32, name=None))>)"
            ]
          },
          "metadata": {},
          "execution_count": 14
        }
      ]
    },
    {
      "cell_type": "markdown",
      "source": [
        "## Creating our baseline model using Conventional Neural Networks"
      ],
      "metadata": {
        "id": "9ZWy3adetZZG"
      }
    },
    {
      "cell_type": "code",
      "source": [
        "train_data_pipe"
      ],
      "metadata": {
        "colab": {
          "base_uri": "https://localhost:8080/"
        },
        "id": "-v11TP_0y6LS",
        "outputId": "bbc40574-9da1-4522-883c-f41842b5a3ae"
      },
      "execution_count": 15,
      "outputs": [
        {
          "output_type": "execute_result",
          "data": {
            "text/plain": [
              "<_PrefetchDataset element_spec=(TensorSpec(shape=(None, 32, 32, 3), dtype=tf.float32, name=None), TensorSpec(shape=(None, 10), dtype=tf.float32, name=None))>"
            ]
          },
          "metadata": {},
          "execution_count": 15
        }
      ]
    },
    {
      "cell_type": "code",
      "source": [
        "from tensorflow.keras.layers import Dense, Input , Flatten\n",
        "from tensorflow.keras.models import Sequential\n",
        "\n",
        "model_0 = Sequential([\n",
        "    Input(shape=(32, 32, 3)),\n",
        "    Flatten(),\n",
        "    Dense(4096, activation='relu'),\n",
        "    Dense(1024, activation='relu'),\n",
        "    Dense(128, activation='relu'),\n",
        "    Dense(64, activation='relu'),\n",
        "    Dense(len(class_names), activation='softmax')\n",
        "])\n",
        "\n",
        "model_0.compile(loss='categorical_crossentropy',\n",
        "                optimizer=tf.keras.optimizers.Adam(),\n",
        "                metrics=['accuracy'])\n"
      ],
      "metadata": {
        "id": "JmQQ1AI4tnvf"
      },
      "execution_count": 16,
      "outputs": []
    },
    {
      "cell_type": "code",
      "source": [
        "model_0.summary()"
      ],
      "metadata": {
        "colab": {
          "base_uri": "https://localhost:8080/"
        },
        "id": "UCIn_Mp1t3dx",
        "outputId": "0a8343a9-1925-459d-9954-806f87a977c0"
      },
      "execution_count": null,
      "outputs": [
        {
          "output_type": "stream",
          "name": "stdout",
          "text": [
            "Model: \"sequential_6\"\n",
            "_________________________________________________________________\n",
            " Layer (type)                Output Shape              Param #   \n",
            "=================================================================\n",
            " flatten_2 (Flatten)         (None, 3072)              0         \n",
            "                                                                 \n",
            " dense_25 (Dense)            (None, 4096)              12587008  \n",
            "                                                                 \n",
            " dense_26 (Dense)            (None, 1024)              4195328   \n",
            "                                                                 \n",
            " dense_27 (Dense)            (None, 128)               131200    \n",
            "                                                                 \n",
            " dense_28 (Dense)            (None, 64)                8256      \n",
            "                                                                 \n",
            " dense_29 (Dense)            (None, 10)                650       \n",
            "                                                                 \n",
            "=================================================================\n",
            "Total params: 16,922,442\n",
            "Trainable params: 16,922,442\n",
            "Non-trainable params: 0\n",
            "_________________________________________________________________\n"
          ]
        }
      ]
    },
    {
      "cell_type": "code",
      "source": [
        "# Training\n",
        "history_0 = model_0.fit(train_data_pipe,\n",
        "                        epochs = 20,\n",
        "                        steps_per_epoch = len(train_data_pipe),\n",
        "                        validation_data = test_data_pipe,\n",
        "                        validation_steps = int(0.15 * len(test_data_pipe)),\n",
        "                        )"
      ],
      "metadata": {
        "colab": {
          "base_uri": "https://localhost:8080/"
        },
        "id": "9QFQphRHzQuy",
        "outputId": "09c576fe-fa3e-47f3-da57-bef29ab91bff"
      },
      "execution_count": null,
      "outputs": [
        {
          "output_type": "stream",
          "name": "stdout",
          "text": [
            "Epoch 1/20\n",
            "1563/1563 [==============================] - 13s 7ms/step - loss: 1.9243 - accuracy: 0.2965 - val_loss: 1.7641 - val_accuracy: 0.3505\n",
            "Epoch 2/20\n",
            "1563/1563 [==============================] - 11s 7ms/step - loss: 1.7113 - accuracy: 0.3821 - val_loss: 1.6332 - val_accuracy: 0.3974\n",
            "Epoch 3/20\n",
            "1563/1563 [==============================] - 12s 7ms/step - loss: 1.6149 - accuracy: 0.4181 - val_loss: 1.6533 - val_accuracy: 0.3933\n",
            "Epoch 4/20\n",
            "1563/1563 [==============================] - 11s 7ms/step - loss: 1.5596 - accuracy: 0.4399 - val_loss: 1.5940 - val_accuracy: 0.4212\n",
            "Epoch 5/20\n",
            "1563/1563 [==============================] - 11s 7ms/step - loss: 1.5146 - accuracy: 0.4557 - val_loss: 1.5853 - val_accuracy: 0.4205\n",
            "Epoch 6/20\n",
            "1563/1563 [==============================] - 11s 7ms/step - loss: 1.4776 - accuracy: 0.4699 - val_loss: 1.5439 - val_accuracy: 0.4232\n",
            "Epoch 7/20\n",
            "1563/1563 [==============================] - 11s 7ms/step - loss: 1.4439 - accuracy: 0.4819 - val_loss: 1.5403 - val_accuracy: 0.4382\n",
            "Epoch 8/20\n",
            "1563/1563 [==============================] - 11s 7ms/step - loss: 1.4140 - accuracy: 0.4908 - val_loss: 1.5286 - val_accuracy: 0.4524\n",
            "Epoch 9/20\n",
            "1563/1563 [==============================] - 11s 7ms/step - loss: 1.3900 - accuracy: 0.5001 - val_loss: 1.5079 - val_accuracy: 0.4606\n",
            "Epoch 10/20\n",
            "1563/1563 [==============================] - 11s 7ms/step - loss: 1.3657 - accuracy: 0.5093 - val_loss: 1.5052 - val_accuracy: 0.4654\n",
            "Epoch 11/20\n",
            "1563/1563 [==============================] - 11s 7ms/step - loss: 1.3470 - accuracy: 0.5153 - val_loss: 1.4641 - val_accuracy: 0.4823\n",
            "Epoch 12/20\n",
            "1563/1563 [==============================] - 11s 7ms/step - loss: 1.3237 - accuracy: 0.5249 - val_loss: 1.4585 - val_accuracy: 0.4830\n",
            "Epoch 13/20\n",
            "1563/1563 [==============================] - 11s 7ms/step - loss: 1.2997 - accuracy: 0.5330 - val_loss: 1.5141 - val_accuracy: 0.4633\n",
            "Epoch 14/20\n",
            "1563/1563 [==============================] - 11s 7ms/step - loss: 1.2826 - accuracy: 0.5375 - val_loss: 1.4968 - val_accuracy: 0.4837\n",
            "Epoch 15/20\n",
            "1563/1563 [==============================] - 13s 8ms/step - loss: 1.2628 - accuracy: 0.5442 - val_loss: 1.4988 - val_accuracy: 0.4796\n",
            "Epoch 16/20\n",
            "1563/1563 [==============================] - 14s 9ms/step - loss: 1.2448 - accuracy: 0.5500 - val_loss: 1.5066 - val_accuracy: 0.4823\n",
            "Epoch 17/20\n",
            "1563/1563 [==============================] - 12s 8ms/step - loss: 1.2256 - accuracy: 0.5569 - val_loss: 1.5563 - val_accuracy: 0.4749\n",
            "Epoch 18/20\n",
            "1563/1563 [==============================] - 11s 7ms/step - loss: 1.2150 - accuracy: 0.5604 - val_loss: 1.5578 - val_accuracy: 0.4857\n",
            "Epoch 19/20\n",
            "1563/1563 [==============================] - 16s 10ms/step - loss: 1.1981 - accuracy: 0.5669 - val_loss: 1.5429 - val_accuracy: 0.4762\n",
            "Epoch 20/20\n",
            "1563/1563 [==============================] - 13s 9ms/step - loss: 1.1762 - accuracy: 0.5758 - val_loss: 1.5818 - val_accuracy: 0.4769\n"
          ]
        }
      ]
    },
    {
      "cell_type": "markdown",
      "source": [
        "#### Evaluation for our base model"
      ],
      "metadata": {
        "id": "rRZvc3X67LyU"
      }
    },
    {
      "cell_type": "code",
      "source": [
        "# plot loss curves function\n",
        "def plot_loss_curves(history):\n",
        "  loss = history.history['loss']\n",
        "  val_loss = history.history['val_loss']\n",
        "  accuracy = history.history['accuracy']\n",
        "  val_accuracy = history.history['val_accuracy']\n",
        "\n",
        "  epochs = range(len(history.history['loss']))\n",
        "\n",
        "  plt.figure()\n",
        "  plt.plot(epochs , loss , label = 'training_loss')\n",
        "  plt.plot(epochs , val_loss , label = 'val_loss')\n",
        "  plt.title('Loss')\n",
        "  plt.xlabel('Epochs')\n",
        "  plt.legend()\n",
        "\n",
        "  plt.figure()\n",
        "  plt.plot(epochs , accuracy , label = 'training_accuracy')\n",
        "  plt.plot(epochs , val_accuracy , label = 'val_accuracy')\n",
        "  plt.title('accuracy')\n",
        "  plt.xlabel('Epochs')\n",
        "  plt.legend()"
      ],
      "metadata": {
        "id": "q6iaUrbXzm12"
      },
      "execution_count": 27,
      "outputs": []
    },
    {
      "cell_type": "code",
      "source": [
        "model_0.evaluate(test_data_pipe)"
      ],
      "metadata": {
        "colab": {
          "base_uri": "https://localhost:8080/"
        },
        "id": "H7nrD_2E7Cgw",
        "outputId": "d4fb5a05-26b9-409f-9974-6aec3e6eb93b"
      },
      "execution_count": null,
      "outputs": [
        {
          "output_type": "stream",
          "name": "stdout",
          "text": [
            "313/313 [==============================] - 2s 5ms/step - loss: 1.6205 - accuracy: 0.4698\n"
          ]
        },
        {
          "output_type": "execute_result",
          "data": {
            "text/plain": [
              "[1.620511531829834, 0.4697999954223633]"
            ]
          },
          "metadata": {},
          "execution_count": 52
        }
      ]
    },
    {
      "cell_type": "markdown",
      "source": [
        "our model accuracy is ~47% after 20 epochs"
      ],
      "metadata": {
        "id": "5uqil6yF7P4H"
      }
    },
    {
      "cell_type": "code",
      "source": [
        "plot_loss_curves(history_0)"
      ],
      "metadata": {
        "colab": {
          "base_uri": "https://localhost:8080/",
          "height": 927
        },
        "id": "Na1oU--M7bLk",
        "outputId": "8c96b4ac-cd52-447f-e9bd-5e1c57a7d36a"
      },
      "execution_count": null,
      "outputs": [
        {
          "output_type": "display_data",
          "data": {
            "text/plain": [
              "<Figure size 640x480 with 1 Axes>"
            ],
            "image/png": "[encoded data removed]"
          },
          "metadata": {}
        },
        {
          "output_type": "display_data",
          "data": {
            "text/plain": [
              "<Figure size 640x480 with 1 Axes>"
            ],
            "image/png": "[encoded data removed]"
          },
          "metadata": {}
        }
      ]
    },
    {
      "cell_type": "markdown",
      "source": [
        "It seems that at the model started to overfit\n",
        "\n",
        "So things we can do:\n",
        "1. Get more data\n",
        "  * not possible as this is a static dataset\n",
        "2. Larger architecture\n",
        "3. Change architecture type\n",
        "  * as this is a computer vision problem so it will be more ideal to use Convolutional neural networks , so let's try that next"
      ],
      "metadata": {
        "id": "X5NwNqN97d7o"
      }
    },
    {
      "cell_type": "code",
      "source": [
        "# Saving our model\n",
        "import os\n",
        "save_dir = \"drive/MyDrive/ComputerVision/CIFAR10/Model_0_Conventional_Neural_Network\"\n",
        "os.makedirs(save_dir) # Make directory if it doesn't exist\n",
        "\n",
        "# Save model\n",
        "model_0.save(save_dir)"
      ],
      "metadata": {
        "id": "g0R-NPT675kR"
      },
      "execution_count": null,
      "outputs": []
    },
    {
      "cell_type": "code",
      "source": [
        "# reloding our model and testing\n",
        "load_saved_model = tf.keras.models.load_model(save_dir)\n",
        "load_saved_model.evaluate(test_data_pipe)"
      ],
      "metadata": {
        "colab": {
          "base_uri": "https://localhost:8080/"
        },
        "id": "G_6DKNFt8lHP",
        "outputId": "7a664d37-a950-43a0-cac1-4345615c3e06"
      },
      "execution_count": null,
      "outputs": [
        {
          "output_type": "stream",
          "name": "stdout",
          "text": [
            "313/313 [==============================] - 1s 4ms/step - loss: 1.6205 - accuracy: 0.4698\n"
          ]
        },
        {
          "output_type": "execute_result",
          "data": {
            "text/plain": [
              "[1.620511531829834, 0.4697999954223633]"
            ]
          },
          "metadata": {},
          "execution_count": 58
        }
      ]
    },
    {
      "cell_type": "markdown",
      "source": [
        "Model was saved successfully"
      ],
      "metadata": {
        "id": "uqjswN_88_2e"
      }
    },
    {
      "cell_type": "markdown",
      "source": [
        "## Convolutional Neural Networks 🧠\n",
        "now our baseline accuracy on the test data is ~47%."
      ],
      "metadata": {
        "id": "YTKtZ5S39Sam"
      }
    },
    {
      "cell_type": "code",
      "source": [
        "# Before implementing our nns let's create some helper function to create a model checkpoint callback and a tensorboard callback\n",
        "import datetime\n",
        "\n",
        "def create_tensorboard_callback(dir_name , experiment_name):\n",
        "  log_dir = dir_name + \"/\" + experiment_name + \"/\" + datetime.datetime.now().strftime(\"%Y%m%d-%H%M%S\")\n",
        "  tensorboard_callback = tf.keras.callbacks.TensorBoard(log_dir = log_dir)\n",
        "  return tensorboard_callback\n",
        "\n",
        "def create_model_checkpoint(dir_name):\n",
        "  checkpoint_path = dir_name + \"/cp.cpkt\"\n",
        "  model_checkpoint = tf.keras.callbacks.ModelCheckpoint(checkpoint_path,\n",
        "                                                      monitor = \"val_loss\",\n",
        "                                                      save_best_only=True,\n",
        "                                                      save_weights_only = True,\n",
        "                                                      verbose = 0)\n",
        "  return model_checkpoint"
      ],
      "metadata": {
        "id": "_u8hBDjU-Ouf"
      },
      "execution_count": 110,
      "outputs": []
    },
    {
      "cell_type": "markdown",
      "source": [
        "### Tiny VGG Architecture\n",
        "It is from the https://poloclub.github.io/cnn-explainer/"
      ],
      "metadata": {
        "id": "YE_ZzqQs9lmK"
      }
    },
    {
      "cell_type": "code",
      "source": [
        "# Creating our Tiny VGG model\n",
        "from tensorflow.keras.layers import  Conv2D , MaxPooling2D , Flatten , Dense\n",
        "\n",
        "model_1 = tf.keras.models.Sequential([\n",
        "    Conv2D(10 , 3 , activation = 'relu' , input_shape = (32,32,3)),\n",
        "    Conv2D(10 , 3 , activation = 'relu'),\n",
        "    MaxPooling2D(2),\n",
        "    Conv2D(10 , 3 , activation = 'relu'),\n",
        "    Conv2D(10 , 3 , activation = 'relu'),\n",
        "    MaxPooling2D(2),\n",
        "    Flatten(),\n",
        "    Dense(10 , activation = 'sigmoid')\n",
        "])\n",
        "\n",
        "model_1.compile(loss = \"binary_crossentropy\",\n",
        "                optimizer = tf.keras.optimizers.Adam(),\n",
        "                metrics = ['accuracy'])\n",
        "\n",
        "history_1 = model_1.fit(train_data_pipe,\n",
        "                        epochs = 5,\n",
        "                        steps_per_epoch = len(train_data_pipe),\n",
        "                        validation_data = test_data_pipe,\n",
        "                        validation_steps = len(test_data_pipe))"
      ],
      "metadata": {
        "id": "ePPu_sgp-M3x",
        "colab": {
          "base_uri": "https://localhost:8080/"
        },
        "outputId": "01f9f826-d96c-4ee2-f744-44aaa7e86049"
      },
      "execution_count": 24,
      "outputs": [
        {
          "output_type": "stream",
          "name": "stdout",
          "text": [
            "Epoch 1/5\n",
            "1563/1563 [==============================] - 26s 8ms/step - loss: 0.2790 - accuracy: 0.3209 - val_loss: 0.2502 - val_accuracy: 0.4122\n",
            "Epoch 2/5\n",
            "1563/1563 [==============================] - 10s 7ms/step - loss: 0.2377 - accuracy: 0.4522 - val_loss: 0.2327 - val_accuracy: 0.4752\n",
            "Epoch 3/5\n",
            "1563/1563 [==============================] - 10s 6ms/step - loss: 0.2231 - accuracy: 0.4990 - val_loss: 0.2188 - val_accuracy: 0.5095\n",
            "Epoch 4/5\n",
            "1563/1563 [==============================] - 11s 7ms/step - loss: 0.2133 - accuracy: 0.5318 - val_loss: 0.2106 - val_accuracy: 0.5362\n",
            "Epoch 5/5\n",
            "1563/1563 [==============================] - 12s 8ms/step - loss: 0.2060 - accuracy: 0.5545 - val_loss: 0.2036 - val_accuracy: 0.5587\n"
          ]
        }
      ]
    },
    {
      "cell_type": "code",
      "source": [
        "model_1.summary()"
      ],
      "metadata": {
        "colab": {
          "base_uri": "https://localhost:8080/"
        },
        "id": "qywBe_JCpGYD",
        "outputId": "6fa57921-3093-4ef2-baa5-4a7655531fac"
      },
      "execution_count": 40,
      "outputs": [
        {
          "output_type": "stream",
          "name": "stdout",
          "text": [
            "Model: \"sequential_2\"\n",
            "_________________________________________________________________\n",
            " Layer (type)                Output Shape              Param #   \n",
            "=================================================================\n",
            " conv2d_5 (Conv2D)           (None, 30, 30, 10)        280       \n",
            "                                                                 \n",
            " conv2d_6 (Conv2D)           (None, 28, 28, 10)        910       \n",
            "                                                                 \n",
            " max_pooling2d_2 (MaxPooling  (None, 14, 14, 10)       0         \n",
            " 2D)                                                             \n",
            "                                                                 \n",
            " conv2d_7 (Conv2D)           (None, 12, 12, 10)        910       \n",
            "                                                                 \n",
            " conv2d_8 (Conv2D)           (None, 10, 10, 10)        910       \n",
            "                                                                 \n",
            " max_pooling2d_3 (MaxPooling  (None, 5, 5, 10)         0         \n",
            " 2D)                                                             \n",
            "                                                                 \n",
            " flatten_2 (Flatten)         (None, 250)               0         \n",
            "                                                                 \n",
            " dense_6 (Dense)             (None, 10)                2510      \n",
            "                                                                 \n",
            "=================================================================\n",
            "Total params: 5,520\n",
            "Trainable params: 5,520\n",
            "Non-trainable params: 0\n",
            "_________________________________________________________________\n"
          ]
        }
      ]
    },
    {
      "cell_type": "markdown",
      "source": [
        "Using Tiny VGG, we have beaten the convontional neural network accuracy in just 5 epochs and with 5520 parameters compared to model_0's 16 million paramaters!"
      ],
      "metadata": {
        "id": "giIZ8Bwvh5AK"
      }
    },
    {
      "cell_type": "code",
      "source": [
        "model_1.evaluate(test_data_pipe)"
      ],
      "metadata": {
        "colab": {
          "base_uri": "https://localhost:8080/"
        },
        "id": "1xwsB0hcjlEZ",
        "outputId": "5fad0ce6-add6-4879-c562-fb4f70d82523"
      },
      "execution_count": 25,
      "outputs": [
        {
          "output_type": "stream",
          "name": "stdout",
          "text": [
            "313/313 [==============================] - 1s 4ms/step - loss: 0.2036 - accuracy: 0.5587\n"
          ]
        },
        {
          "output_type": "execute_result",
          "data": {
            "text/plain": [
              "[0.20363150537014008, 0.5587000250816345]"
            ]
          },
          "metadata": {},
          "execution_count": 25
        }
      ]
    },
    {
      "cell_type": "code",
      "source": [
        "plot_loss_curves(history_1)"
      ],
      "metadata": {
        "colab": {
          "base_uri": "https://localhost:8080/",
          "height": 927
        },
        "id": "9YrQ-3JPjoR4",
        "outputId": "8c041619-a151-49b1-e7b9-c9f089069e83"
      },
      "execution_count": 28,
      "outputs": [
        {
          "output_type": "display_data",
          "data": {
            "text/plain": [
              "<Figure size 640x480 with 1 Axes>"
            ],
            "image/png": "[encoded data removed]"
          },
          "metadata": {}
        },
        {
          "output_type": "display_data",
          "data": {
            "text/plain": [
              "<Figure size 640x480 with 1 Axes>"
            ],
            "image/png": "[encoded data removed]"
          },
          "metadata": {}
        }
      ]
    },
    {
      "cell_type": "markdown",
      "source": [
        "It looks like our model is on the right track , let's try fitting for an extra 15 epochs"
      ],
      "metadata": {
        "id": "HRLMyYnZjsjW"
      }
    },
    {
      "cell_type": "code",
      "source": [
        "# Training for an extra 15 epochs to compare with model 0\n",
        "history_1_2 = model_1.fit(train_data_pipe,\n",
        "                          epochs = 15,\n",
        "                          steps_per_epoch = len(train_data_pipe),\n",
        "                          validation_data = test_data_pipe,\n",
        "                          validation_steps = len(test_data_pipe))"
      ],
      "metadata": {
        "colab": {
          "base_uri": "https://localhost:8080/"
        },
        "id": "aP5oNQLdj4OO",
        "outputId": "593e599a-223b-4f2c-937a-5f49ec9b4ada"
      },
      "execution_count": 29,
      "outputs": [
        {
          "output_type": "stream",
          "name": "stdout",
          "text": [
            "Epoch 1/15\n",
            "1563/1563 [==============================] - 13s 8ms/step - loss: 0.2010 - accuracy: 0.5698 - val_loss: 0.2004 - val_accuracy: 0.5681\n",
            "Epoch 2/15\n",
            "1563/1563 [==============================] - 11s 7ms/step - loss: 0.1972 - accuracy: 0.5802 - val_loss: 0.1977 - val_accuracy: 0.5755\n",
            "Epoch 3/15\n",
            "1563/1563 [==============================] - 11s 7ms/step - loss: 0.1941 - accuracy: 0.5886 - val_loss: 0.1959 - val_accuracy: 0.5827\n",
            "Epoch 4/15\n",
            "1563/1563 [==============================] - 11s 7ms/step - loss: 0.1915 - accuracy: 0.5955 - val_loss: 0.1934 - val_accuracy: 0.5898\n",
            "Epoch 5/15\n",
            "1563/1563 [==============================] - 11s 7ms/step - loss: 0.1892 - accuracy: 0.6013 - val_loss: 0.1919 - val_accuracy: 0.5937\n",
            "Epoch 6/15\n",
            "1563/1563 [==============================] - 11s 7ms/step - loss: 0.1868 - accuracy: 0.6071 - val_loss: 0.1900 - val_accuracy: 0.5991\n",
            "Epoch 7/15\n",
            "1563/1563 [==============================] - 11s 7ms/step - loss: 0.1847 - accuracy: 0.6133 - val_loss: 0.1884 - val_accuracy: 0.6044\n",
            "Epoch 8/15\n",
            "1563/1563 [==============================] - 11s 7ms/step - loss: 0.1830 - accuracy: 0.6184 - val_loss: 0.1876 - val_accuracy: 0.6070\n",
            "Epoch 9/15\n",
            "1563/1563 [==============================] - 12s 7ms/step - loss: 0.1814 - accuracy: 0.6224 - val_loss: 0.1863 - val_accuracy: 0.6122\n",
            "Epoch 10/15\n",
            "1563/1563 [==============================] - 11s 7ms/step - loss: 0.1800 - accuracy: 0.6256 - val_loss: 0.1846 - val_accuracy: 0.6153\n",
            "Epoch 11/15\n",
            "1563/1563 [==============================] - 11s 7ms/step - loss: 0.1786 - accuracy: 0.6282 - val_loss: 0.1842 - val_accuracy: 0.6181\n",
            "Epoch 12/15\n",
            "1563/1563 [==============================] - 12s 7ms/step - loss: 0.1774 - accuracy: 0.6316 - val_loss: 0.1823 - val_accuracy: 0.6176\n",
            "Epoch 13/15\n",
            "1563/1563 [==============================] - 10s 6ms/step - loss: 0.1762 - accuracy: 0.6352 - val_loss: 0.1814 - val_accuracy: 0.6225\n",
            "Epoch 14/15\n",
            "1563/1563 [==============================] - 10s 7ms/step - loss: 0.1753 - accuracy: 0.6386 - val_loss: 0.1810 - val_accuracy: 0.6221\n",
            "Epoch 15/15\n",
            "1563/1563 [==============================] - 11s 7ms/step - loss: 0.1743 - accuracy: 0.6411 - val_loss: 0.1804 - val_accuracy: 0.6241\n"
          ]
        }
      ]
    },
    {
      "cell_type": "code",
      "source": [
        "# Evaluation our model after training for 20 epochs\n",
        "model_1.evaluate(test_data_pipe)"
      ],
      "metadata": {
        "colab": {
          "base_uri": "https://localhost:8080/"
        },
        "id": "D4DE77zckFTO",
        "outputId": "ea2160a4-7af9-4b10-9aef-74a80718f367"
      },
      "execution_count": 32,
      "outputs": [
        {
          "output_type": "stream",
          "name": "stdout",
          "text": [
            "313/313 [==============================] - 2s 7ms/step - loss: 0.1804 - accuracy: 0.6241\n"
          ]
        },
        {
          "output_type": "execute_result",
          "data": {
            "text/plain": [
              "[0.18042129278182983, 0.6241000294685364]"
            ]
          },
          "metadata": {},
          "execution_count": 32
        }
      ]
    },
    {
      "cell_type": "code",
      "source": [
        "# plot history_1_2\n",
        "plot_loss_curves(history_1_2)"
      ],
      "metadata": {
        "colab": {
          "base_uri": "https://localhost:8080/",
          "height": 927
        },
        "id": "gpApKKv7lJTt",
        "outputId": "929d09f7-da98-46bd-fc37-0cedf37a23e6"
      },
      "execution_count": 33,
      "outputs": [
        {
          "output_type": "display_data",
          "data": {
            "text/plain": [
              "<Figure size 640x480 with 1 Axes>"
            ],
            "image/png": "[encoded data removed]"
          },
          "metadata": {}
        },
        {
          "output_type": "display_data",
          "data": {
            "text/plain": [
              "<Figure size 640x480 with 1 Axes>"
            ],
            "image/png": "[encoded data removed]"
          },
          "metadata": {}
        }
      ]
    },
    {
      "cell_type": "markdown",
      "source": [
        "It seems like our model started to overfitted so things we can do\n",
        "1. Use Data augmentation\n",
        "2. use regularizaion techniques like dropout"
      ],
      "metadata": {
        "id": "rhHNBTJolQYk"
      }
    },
    {
      "cell_type": "code",
      "source": [
        "# Saving model 1\n",
        "import os\n",
        "save_dir = \"drive/MyDrive/ComputerVision/CIFAR10/Model_1\"\n",
        "os.makedirs(save_dir) # Make directory if it doesn't exist\n",
        "\n",
        "# Save model\n",
        "model_1.save(save_dir)"
      ],
      "metadata": {
        "colab": {
          "base_uri": "https://localhost:8080/"
        },
        "id": "-gER8RB_pixy",
        "outputId": "d4d1f5e5-0e32-46e7-cea4-d57176fcfd02"
      },
      "execution_count": 41,
      "outputs": [
        {
          "output_type": "stream",
          "name": "stderr",
          "text": [
            "WARNING:absl:Found untraced functions such as _jit_compiled_convolution_op, _jit_compiled_convolution_op, _jit_compiled_convolution_op, _jit_compiled_convolution_op while saving (showing 4 of 4). These functions will not be directly callable after loading.\n"
          ]
        }
      ]
    },
    {
      "cell_type": "code",
      "source": [
        "# reloding our model and testing\n",
        "load_saved_model = tf.keras.models.load_model(save_dir)\n",
        "load_saved_model.evaluate(test_data_pipe)"
      ],
      "metadata": {
        "colab": {
          "base_uri": "https://localhost:8080/"
        },
        "id": "kc5puJ9nprgH",
        "outputId": "73108b7e-6ee9-48eb-9066-d0bc6fef4f11"
      },
      "execution_count": 42,
      "outputs": [
        {
          "output_type": "stream",
          "name": "stdout",
          "text": [
            "313/313 [==============================] - 2s 5ms/step - loss: 0.1804 - accuracy: 0.6241\n"
          ]
        },
        {
          "output_type": "execute_result",
          "data": {
            "text/plain": [
              "[0.18042129278182983, 0.6241000294685364]"
            ]
          },
          "metadata": {},
          "execution_count": 42
        }
      ]
    },
    {
      "cell_type": "markdown",
      "source": [
        "### Using Data Augmentation\n",
        "We will create model_2 that has a built in data augmentation layer\n",
        "\n",
        "Our augmentation layer will make the following changes:\n",
        "1. flips\n",
        "2. rotations\n",
        "3. zooms\n",
        "4. change height\n",
        "5. change width"
      ],
      "metadata": {
        "id": "r2RFaVQWlmTx"
      }
    },
    {
      "cell_type": "code",
      "source": [
        "# Creating data augmentation layer\n",
        "from tensorflow.keras import layers\n",
        "\n",
        "data_augmentation = Sequential([\n",
        "    layers.RandomFlip('horizontal'),\n",
        "    layers.RandomRotation(0.2),\n",
        "    layers.RandomZoom(0.2),\n",
        "    layers.RandomHeight(0.2),\n",
        "    layers.RandomWidth(0.2),\n",
        "    layers.Resizing(height=32, width=32, interpolation='bilinear')\n",
        "], name = 'data_augmentation')"
      ],
      "metadata": {
        "id": "sfN-VMHdltK0"
      },
      "execution_count": 72,
      "outputs": []
    },
    {
      "cell_type": "code",
      "source": [
        "# Creating model 2 with data augmentaion \"using the funcional api\"\n",
        "from tensorflow.keras.layers import GlobalAveragePooling2D\n",
        "inputs = layers.Input(shape = (32, 32 , 3) , name = 'input_layer')\n",
        "\n",
        "x = data_augmentation(inputs)\n",
        "\n",
        "x = Conv2D(10 , 3 , activation = 'relu')(x)\n",
        "x = Conv2D(10 , 3 , activation = 'relu')(x)\n",
        "x = MaxPooling2D(2)(x)\n",
        "\n",
        "x = Conv2D(10 , 3 , activation = 'relu')(x)\n",
        "x = Conv2D(10 , 3 , activation = 'relu')(x)\n",
        "x = MaxPooling2D(2)(x)\n",
        "\n",
        "x = Flatten()(x)\n",
        "\n",
        "outputs = Dense(10 , activation = 'softmax')(x)\n",
        "model_2 = tf.keras.Model(inputs , outputs)\n",
        "\n",
        "model_2.compile(loss = 'categorical_crossentropy',\n",
        "                optimizer = tf.keras.optimizers.Adam(),\n",
        "                metrics = ['accuracy'])"
      ],
      "metadata": {
        "id": "Sfr_5sABmf0d"
      },
      "execution_count": 73,
      "outputs": []
    },
    {
      "cell_type": "code",
      "source": [
        "model_2.summary()"
      ],
      "metadata": {
        "colab": {
          "base_uri": "https://localhost:8080/"
        },
        "id": "eKhj_FlInUK2",
        "outputId": "2be755d9-1479-421b-c41a-fbceb6146fba"
      },
      "execution_count": 74,
      "outputs": [
        {
          "output_type": "stream",
          "name": "stdout",
          "text": [
            "Model: \"model_10\"\n",
            "_________________________________________________________________\n",
            " Layer (type)                Output Shape              Param #   \n",
            "=================================================================\n",
            " input_layer (InputLayer)    [(None, 32, 32, 3)]       0         \n",
            "                                                                 \n",
            " data_augmentation (Sequenti  (None, 32, 32, 3)        0         \n",
            " al)                                                             \n",
            "                                                                 \n",
            " conv2d_89 (Conv2D)          (None, 30, 30, 10)        280       \n",
            "                                                                 \n",
            " conv2d_90 (Conv2D)          (None, 28, 28, 10)        910       \n",
            "                                                                 \n",
            " max_pooling2d_44 (MaxPoolin  (None, 14, 14, 10)       0         \n",
            " g2D)                                                            \n",
            "                                                                 \n",
            " conv2d_91 (Conv2D)          (None, 12, 12, 10)        910       \n",
            "                                                                 \n",
            " conv2d_92 (Conv2D)          (None, 10, 10, 10)        910       \n",
            "                                                                 \n",
            " max_pooling2d_45 (MaxPoolin  (None, 5, 5, 10)         0         \n",
            " g2D)                                                            \n",
            "                                                                 \n",
            " flatten_19 (Flatten)        (None, 250)               0         \n",
            "                                                                 \n",
            " dense_23 (Dense)            (None, 10)                2510      \n",
            "                                                                 \n",
            "=================================================================\n",
            "Total params: 5,520\n",
            "Trainable params: 5,520\n",
            "Non-trainable params: 0\n",
            "_________________________________________________________________\n"
          ]
        }
      ]
    },
    {
      "cell_type": "markdown",
      "source": [
        "🔑Note: flatten layers do not work with variable length and the data augmentation layer produce variable length so we used the layers.resizing to fix the length\n",
        "check: https://stackoverflow.com/questions/56918388/error-valueerror-the-last-dimension-of-the-inputs-to-dense-should-be-defined"
      ],
      "metadata": {
        "id": "oA7tZnuysM_1"
      }
    },
    {
      "cell_type": "code",
      "source": [
        "# Training for an extra 15 epochs to compare with model 0\n",
        "history_2 = model_2.fit(train_data_pipe,\n",
        "                        epochs = 20,\n",
        "                        steps_per_epoch = len(train_data_pipe),\n",
        "                        validation_data = test_data_pipe,\n",
        "                        validation_steps = len(test_data_pipe))"
      ],
      "metadata": {
        "colab": {
          "base_uri": "https://localhost:8080/"
        },
        "id": "UvQYSAvtrHZi",
        "outputId": "dc468c7b-1dd1-4ff0-a7dd-d6a1c2cf362b"
      },
      "execution_count": 75,
      "outputs": [
        {
          "output_type": "stream",
          "name": "stdout",
          "text": [
            "Epoch 1/20\n",
            "1563/1563 [==============================] - 17s 9ms/step - loss: 1.8817 - accuracy: 0.3149 - val_loss: 1.9700 - val_accuracy: 0.3250\n",
            "Epoch 2/20\n",
            "1563/1563 [==============================] - 15s 9ms/step - loss: 1.7265 - accuracy: 0.3783 - val_loss: 1.9452 - val_accuracy: 0.3455\n",
            "Epoch 3/20\n",
            "1563/1563 [==============================] - 14s 9ms/step - loss: 1.6706 - accuracy: 0.3996 - val_loss: 1.8867 - val_accuracy: 0.3735\n",
            "Epoch 4/20\n",
            "1563/1563 [==============================] - 14s 9ms/step - loss: 1.6395 - accuracy: 0.4143 - val_loss: 1.7383 - val_accuracy: 0.4042\n",
            "Epoch 5/20\n",
            "1563/1563 [==============================] - 16s 10ms/step - loss: 1.6166 - accuracy: 0.4187 - val_loss: 1.8573 - val_accuracy: 0.3806\n",
            "Epoch 6/20\n",
            "1563/1563 [==============================] - 14s 9ms/step - loss: 1.5940 - accuracy: 0.4281 - val_loss: 1.7896 - val_accuracy: 0.4047\n",
            "Epoch 7/20\n",
            "1563/1563 [==============================] - 14s 9ms/step - loss: 1.5852 - accuracy: 0.4323 - val_loss: 1.7355 - val_accuracy: 0.4104\n",
            "Epoch 8/20\n",
            "1563/1563 [==============================] - 14s 9ms/step - loss: 1.5699 - accuracy: 0.4340 - val_loss: 1.8756 - val_accuracy: 0.3959\n",
            "Epoch 9/20\n",
            "1563/1563 [==============================] - 14s 9ms/step - loss: 1.5625 - accuracy: 0.4405 - val_loss: 1.8425 - val_accuracy: 0.3900\n",
            "Epoch 10/20\n",
            "1563/1563 [==============================] - 14s 9ms/step - loss: 1.5500 - accuracy: 0.4438 - val_loss: 1.8071 - val_accuracy: 0.4015\n",
            "Epoch 11/20\n",
            "1563/1563 [==============================] - 14s 9ms/step - loss: 1.5425 - accuracy: 0.4465 - val_loss: 1.7818 - val_accuracy: 0.4062\n",
            "Epoch 12/20\n",
            "1563/1563 [==============================] - 17s 11ms/step - loss: 1.5383 - accuracy: 0.4477 - val_loss: 1.7216 - val_accuracy: 0.4179\n",
            "Epoch 13/20\n",
            "1563/1563 [==============================] - 14s 9ms/step - loss: 1.5334 - accuracy: 0.4488 - val_loss: 1.7827 - val_accuracy: 0.4066\n",
            "Epoch 14/20\n",
            "1563/1563 [==============================] - 15s 9ms/step - loss: 1.5235 - accuracy: 0.4527 - val_loss: 1.7142 - val_accuracy: 0.4262\n",
            "Epoch 15/20\n",
            "1563/1563 [==============================] - 15s 10ms/step - loss: 1.5199 - accuracy: 0.4558 - val_loss: 1.8793 - val_accuracy: 0.3905\n",
            "Epoch 16/20\n",
            "1563/1563 [==============================] - 16s 10ms/step - loss: 1.5124 - accuracy: 0.4573 - val_loss: 1.7113 - val_accuracy: 0.4146\n",
            "Epoch 17/20\n",
            "1563/1563 [==============================] - 14s 9ms/step - loss: 1.5066 - accuracy: 0.4583 - val_loss: 1.7885 - val_accuracy: 0.4164\n",
            "Epoch 18/20\n",
            "1563/1563 [==============================] - 14s 9ms/step - loss: 1.5046 - accuracy: 0.4617 - val_loss: 1.7856 - val_accuracy: 0.4068\n",
            "Epoch 19/20\n",
            "1563/1563 [==============================] - 14s 9ms/step - loss: 1.4984 - accuracy: 0.4637 - val_loss: 1.6690 - val_accuracy: 0.4292\n",
            "Epoch 20/20\n",
            "1563/1563 [==============================] - 15s 9ms/step - loss: 1.4941 - accuracy: 0.4665 - val_loss: 1.6850 - val_accuracy: 0.4336\n"
          ]
        }
      ]
    },
    {
      "cell_type": "code",
      "source": [
        "model_2.evaluate(test_data_pipe)"
      ],
      "metadata": {
        "colab": {
          "base_uri": "https://localhost:8080/"
        },
        "id": "lOioRw7HsHa8",
        "outputId": "2ef32f47-04c9-4bcc-8fea-d2791cb7b83d"
      },
      "execution_count": 76,
      "outputs": [
        {
          "output_type": "stream",
          "name": "stdout",
          "text": [
            "313/313 [==============================] - 2s 5ms/step - loss: 1.6850 - accuracy: 0.4336\n"
          ]
        },
        {
          "output_type": "execute_result",
          "data": {
            "text/plain": [
              "[1.6850017309188843, 0.4336000084877014]"
            ]
          },
          "metadata": {},
          "execution_count": 76
        }
      ]
    },
    {
      "cell_type": "code",
      "source": [
        "plot_loss_curves(history_2)"
      ],
      "metadata": {
        "colab": {
          "base_uri": "https://localhost:8080/",
          "height": 927
        },
        "id": "7WrFjA2SwLZL",
        "outputId": "ceffda2a-b8d2-498a-e5d5-74713b8eb4f7"
      },
      "execution_count": 77,
      "outputs": [
        {
          "output_type": "display_data",
          "data": {
            "text/plain": [
              "<Figure size 640x480 with 1 Axes>"
            ],
            "image/png": "[encoded data removed]"
          },
          "metadata": {}
        },
        {
          "output_type": "display_data",
          "data": {
            "text/plain": [
              "<Figure size 640x480 with 1 Axes>"
            ],
            "image/png": "[encoded data removed]"
          },
          "metadata": {}
        }
      ]
    },
    {
      "cell_type": "markdown",
      "source": [
        "It seems like the model performance decrease and some overfitting is also happening\n",
        "\n",
        "What to do next?\n",
        "1. Increase the complexity of a model\n",
        "2. Add dropout regularization"
      ],
      "metadata": {
        "id": "HlN6o_IrwN4H"
      }
    },
    {
      "cell_type": "code",
      "source": [
        "# Saving model 2\n",
        "import os\n",
        "save_dir = \"drive/MyDrive/ComputerVision/CIFAR10/Model_2\"\n",
        "os.makedirs(save_dir) # Make directory if it doesn't exist\n",
        "\n",
        "# Save model\n",
        "model_2.save(save_dir)\n",
        "# reloding our model and testing\n",
        "load_saved_model = tf.keras.models.load_model(save_dir)\n",
        "load_saved_model.evaluate(test_data_pipe)"
      ],
      "metadata": {
        "colab": {
          "base_uri": "https://localhost:8080/"
        },
        "id": "AHJ9HDVZx1zX",
        "outputId": "2e87958d-4370-4142-ee0c-aca6a1764271"
      },
      "execution_count": 84,
      "outputs": [
        {
          "output_type": "stream",
          "name": "stderr",
          "text": [
            "WARNING:absl:Found untraced functions such as _jit_compiled_convolution_op, _jit_compiled_convolution_op, _jit_compiled_convolution_op, _jit_compiled_convolution_op while saving (showing 4 of 4). These functions will not be directly callable after loading.\n"
          ]
        },
        {
          "output_type": "stream",
          "name": "stdout",
          "text": [
            "313/313 [==============================] - 1s 4ms/step - loss: 1.6850 - accuracy: 0.4336\n"
          ]
        },
        {
          "output_type": "execute_result",
          "data": {
            "text/plain": [
              "[1.6850017309188843, 0.4336000084877014]"
            ]
          },
          "metadata": {},
          "execution_count": 84
        }
      ]
    },
    {
      "cell_type": "markdown",
      "source": [
        "### Data Augmentation + Bigger Model"
      ],
      "metadata": {
        "id": "r_yC_5_KwiAm"
      }
    },
    {
      "cell_type": "code",
      "source": [
        "# Creating model 3 with data augmentaion \"using the funcional api\"\n",
        "from tensorflow.keras.layers import GlobalAveragePooling2D\n",
        "inputs = layers.Input(shape = (32, 32 , 3) , name = 'input_layer')\n",
        "\n",
        "x = data_augmentation(inputs)\n",
        "\n",
        "x = Conv2D(32 , 3 , padding = 'same' , activation = 'relu')(x)\n",
        "x = Conv2D(32 , 3 , activation = 'relu')(x)\n",
        "x = MaxPooling2D(2)(x)\n",
        "\n",
        "x = Conv2D(64 , 3 , padding = 'same' , activation = 'relu')(x)\n",
        "x = Conv2D(64 , 3 , activation = 'relu')(x)\n",
        "x = MaxPooling2D(2)(x)\n",
        "\n",
        "x = Flatten()(x)\n",
        "\n",
        "outputs = Dense(10 , activation = 'softmax')(x)\n",
        "model_3 = tf.keras.Model(inputs , outputs)\n",
        "\n",
        "model_3.compile(loss = 'categorical_crossentropy',\n",
        "                optimizer = tf.keras.optimizers.Adam(),\n",
        "                metrics = ['accuracy'])"
      ],
      "metadata": {
        "id": "VIk966AFwmpo"
      },
      "execution_count": 81,
      "outputs": []
    },
    {
      "cell_type": "code",
      "source": [
        "model_3.summary()"
      ],
      "metadata": {
        "colab": {
          "base_uri": "https://localhost:8080/"
        },
        "id": "kjVk_z8QxBkk",
        "outputId": "50c52001-102e-4edd-cbde-ddea6074fd66"
      },
      "execution_count": 82,
      "outputs": [
        {
          "output_type": "stream",
          "name": "stdout",
          "text": [
            "Model: \"model_12\"\n",
            "_________________________________________________________________\n",
            " Layer (type)                Output Shape              Param #   \n",
            "=================================================================\n",
            " input_layer (InputLayer)    [(None, 32, 32, 3)]       0         \n",
            "                                                                 \n",
            " data_augmentation (Sequenti  (None, 32, 32, 3)        0         \n",
            " al)                                                             \n",
            "                                                                 \n",
            " conv2d_97 (Conv2D)          (None, 32, 32, 32)        896       \n",
            "                                                                 \n",
            " conv2d_98 (Conv2D)          (None, 30, 30, 32)        9248      \n",
            "                                                                 \n",
            " max_pooling2d_48 (MaxPoolin  (None, 15, 15, 32)       0         \n",
            " g2D)                                                            \n",
            "                                                                 \n",
            " conv2d_99 (Conv2D)          (None, 15, 15, 64)        18496     \n",
            "                                                                 \n",
            " conv2d_100 (Conv2D)         (None, 13, 13, 64)        36928     \n",
            "                                                                 \n",
            " max_pooling2d_49 (MaxPoolin  (None, 6, 6, 64)         0         \n",
            " g2D)                                                            \n",
            "                                                                 \n",
            " flatten_21 (Flatten)        (None, 2304)              0         \n",
            "                                                                 \n",
            " dense_26 (Dense)            (None, 10)                23050     \n",
            "                                                                 \n",
            "=================================================================\n",
            "Total params: 88,618\n",
            "Trainable params: 88,618\n",
            "Non-trainable params: 0\n",
            "_________________________________________________________________\n"
          ]
        }
      ]
    },
    {
      "cell_type": "code",
      "source": [
        "# Training for an extra 15 epochs to compare with model 0\n",
        "history_3 = model_3.fit(train_data_pipe,\n",
        "                        epochs = 20,\n",
        "                        steps_per_epoch = len(train_data_pipe),\n",
        "                        validation_data = test_data_pipe,\n",
        "                        validation_steps = len(test_data_pipe))"
      ],
      "metadata": {
        "colab": {
          "base_uri": "https://localhost:8080/"
        },
        "id": "jXx1CrZAw-Z9",
        "outputId": "9f6147aa-2ea4-4f93-a7bd-1cd34d60ec6a"
      },
      "execution_count": 83,
      "outputs": [
        {
          "output_type": "stream",
          "name": "stdout",
          "text": [
            "Epoch 1/20\n",
            "1563/1563 [==============================] - 20s 10ms/step - loss: 1.7542 - accuracy: 0.3667 - val_loss: 1.6265 - val_accuracy: 0.4151\n",
            "Epoch 2/20\n",
            "1563/1563 [==============================] - 16s 10ms/step - loss: 1.5435 - accuracy: 0.4483 - val_loss: 1.5057 - val_accuracy: 0.4658\n",
            "Epoch 3/20\n",
            "1563/1563 [==============================] - 16s 10ms/step - loss: 1.4526 - accuracy: 0.4823 - val_loss: 1.4142 - val_accuracy: 0.5021\n",
            "Epoch 4/20\n",
            "1563/1563 [==============================] - 15s 10ms/step - loss: 1.3803 - accuracy: 0.5095 - val_loss: 1.4439 - val_accuracy: 0.5047\n",
            "Epoch 5/20\n",
            "1563/1563 [==============================] - 15s 10ms/step - loss: 1.3335 - accuracy: 0.5294 - val_loss: 1.4971 - val_accuracy: 0.4984\n",
            "Epoch 6/20\n",
            "1563/1563 [==============================] - 16s 10ms/step - loss: 1.2815 - accuracy: 0.5509 - val_loss: 1.5191 - val_accuracy: 0.4942\n",
            "Epoch 7/20\n",
            "1563/1563 [==============================] - 17s 11ms/step - loss: 1.2451 - accuracy: 0.5580 - val_loss: 1.2871 - val_accuracy: 0.5538\n",
            "Epoch 8/20\n",
            "1563/1563 [==============================] - 16s 10ms/step - loss: 1.2157 - accuracy: 0.5728 - val_loss: 1.3578 - val_accuracy: 0.5477\n",
            "Epoch 9/20\n",
            "1563/1563 [==============================] - 24s 15ms/step - loss: 1.1936 - accuracy: 0.5804 - val_loss: 1.2937 - val_accuracy: 0.5686\n",
            "Epoch 10/20\n",
            "1563/1563 [==============================] - 16s 10ms/step - loss: 1.1704 - accuracy: 0.5902 - val_loss: 1.2852 - val_accuracy: 0.5693\n",
            "Epoch 11/20\n",
            "1563/1563 [==============================] - 16s 10ms/step - loss: 1.1560 - accuracy: 0.5939 - val_loss: 1.2811 - val_accuracy: 0.5764\n",
            "Epoch 12/20\n",
            "1563/1563 [==============================] - 16s 10ms/step - loss: 1.1456 - accuracy: 0.5960 - val_loss: 1.3004 - val_accuracy: 0.5738\n",
            "Epoch 13/20\n",
            "1563/1563 [==============================] - 17s 11ms/step - loss: 1.1257 - accuracy: 0.6052 - val_loss: 1.3390 - val_accuracy: 0.5731\n",
            "Epoch 14/20\n",
            "1563/1563 [==============================] - 16s 10ms/step - loss: 1.1131 - accuracy: 0.6099 - val_loss: 1.2874 - val_accuracy: 0.5828\n",
            "Epoch 15/20\n",
            "1563/1563 [==============================] - 17s 11ms/step - loss: 1.1044 - accuracy: 0.6128 - val_loss: 1.2551 - val_accuracy: 0.5941\n",
            "Epoch 16/20\n",
            "1563/1563 [==============================] - 15s 10ms/step - loss: 1.0899 - accuracy: 0.6170 - val_loss: 1.3009 - val_accuracy: 0.5852\n",
            "Epoch 17/20\n",
            "1563/1563 [==============================] - 16s 10ms/step - loss: 1.0853 - accuracy: 0.6177 - val_loss: 1.1949 - val_accuracy: 0.6031\n",
            "Epoch 18/20\n",
            "1563/1563 [==============================] - 15s 10ms/step - loss: 1.0786 - accuracy: 0.6206 - val_loss: 1.2324 - val_accuracy: 0.5972\n",
            "Epoch 19/20\n",
            "1563/1563 [==============================] - 16s 10ms/step - loss: 1.0673 - accuracy: 0.6279 - val_loss: 1.2265 - val_accuracy: 0.6029\n",
            "Epoch 20/20\n",
            "1563/1563 [==============================] - 16s 10ms/step - loss: 1.0673 - accuracy: 0.6280 - val_loss: 1.2827 - val_accuracy: 0.5882\n"
          ]
        }
      ]
    },
    {
      "cell_type": "code",
      "source": [
        "model_3.evaluate(test_data_pipe)"
      ],
      "metadata": {
        "colab": {
          "base_uri": "https://localhost:8080/"
        },
        "id": "QcKH7gW-xEo1",
        "outputId": "52c77bb4-1236-4b0d-9f71-c20b68da89a1"
      },
      "execution_count": 85,
      "outputs": [
        {
          "output_type": "stream",
          "name": "stdout",
          "text": [
            "313/313 [==============================] - 2s 5ms/step - loss: 1.2827 - accuracy: 0.5882\n"
          ]
        },
        {
          "output_type": "execute_result",
          "data": {
            "text/plain": [
              "[1.2826921939849854, 0.5881999731063843]"
            ]
          },
          "metadata": {},
          "execution_count": 85
        }
      ]
    },
    {
      "cell_type": "code",
      "source": [
        "plot_loss_curves(history_3)"
      ],
      "metadata": {
        "colab": {
          "base_uri": "https://localhost:8080/",
          "height": 927
        },
        "id": "aQyWAhJuyvw0",
        "outputId": "4d420fd3-695b-4751-ce62-7c27275ee086"
      },
      "execution_count": 87,
      "outputs": [
        {
          "output_type": "display_data",
          "data": {
            "text/plain": [
              "<Figure size 640x480 with 1 Axes>"
            ],
            "image/png": "[encoded data removed]"
          },
          "metadata": {}
        },
        {
          "output_type": "display_data",
          "data": {
            "text/plain": [
              "<Figure size 640x480 with 1 Axes>"
            ],
            "image/png": "[encoded data removed]"
          },
          "metadata": {}
        }
      ]
    },
    {
      "cell_type": "markdown",
      "source": [
        "It seems our model is heading towards the right direction \"a bit noisy\" , but has a approx. equal performance to model 1 with less chance of overfitting. We could train it for a couple more epochs and see what happens"
      ],
      "metadata": {
        "id": "z840fMUzy0ds"
      }
    },
    {
      "cell_type": "code",
      "source": [
        "# Training for an extra 15 epochs to compare with model 0\n",
        "history_3_2 = model_3.fit(train_data_pipe,\n",
        "                          epochs = 20,\n",
        "                          steps_per_epoch = len(train_data_pipe),\n",
        "                          validation_data = test_data_pipe,\n",
        "                          validation_steps = len(test_data_pipe))"
      ],
      "metadata": {
        "colab": {
          "base_uri": "https://localhost:8080/"
        },
        "id": "npwR6sxPzMVB",
        "outputId": "0f2db55e-2fd7-4bde-a28a-892ccb1f86c3"
      },
      "execution_count": 88,
      "outputs": [
        {
          "output_type": "stream",
          "name": "stdout",
          "text": [
            "Epoch 1/20\n",
            "1563/1563 [==============================] - 16s 10ms/step - loss: 1.0605 - accuracy: 0.6278 - val_loss: 1.1686 - val_accuracy: 0.6156\n",
            "Epoch 2/20\n",
            "1563/1563 [==============================] - 16s 10ms/step - loss: 1.0527 - accuracy: 0.6320 - val_loss: 1.3623 - val_accuracy: 0.5802\n",
            "Epoch 3/20\n",
            "1563/1563 [==============================] - 16s 10ms/step - loss: 1.0556 - accuracy: 0.6298 - val_loss: 1.3853 - val_accuracy: 0.5762\n",
            "Epoch 4/20\n",
            "1563/1563 [==============================] - 16s 10ms/step - loss: 1.0397 - accuracy: 0.6367 - val_loss: 1.1789 - val_accuracy: 0.6140\n",
            "Epoch 5/20\n",
            "1563/1563 [==============================] - 16s 10ms/step - loss: 1.0295 - accuracy: 0.6401 - val_loss: 1.2619 - val_accuracy: 0.5975\n",
            "Epoch 6/20\n",
            "1563/1563 [==============================] - 16s 10ms/step - loss: 1.0301 - accuracy: 0.6385 - val_loss: 1.2443 - val_accuracy: 0.5969\n",
            "Epoch 7/20\n",
            "1563/1563 [==============================] - 17s 11ms/step - loss: 1.0238 - accuracy: 0.6423 - val_loss: 1.2481 - val_accuracy: 0.6005\n",
            "Epoch 8/20\n",
            "1563/1563 [==============================] - 16s 10ms/step - loss: 1.0230 - accuracy: 0.6412 - val_loss: 1.2452 - val_accuracy: 0.6043\n",
            "Epoch 9/20\n",
            "1563/1563 [==============================] - 16s 10ms/step - loss: 1.0151 - accuracy: 0.6461 - val_loss: 1.1590 - val_accuracy: 0.6233\n",
            "Epoch 10/20\n",
            "1563/1563 [==============================] - 16s 10ms/step - loss: 1.0195 - accuracy: 0.6426 - val_loss: 1.1622 - val_accuracy: 0.6175\n",
            "Epoch 11/20\n",
            "1563/1563 [==============================] - 16s 10ms/step - loss: 1.0066 - accuracy: 0.6479 - val_loss: 1.3050 - val_accuracy: 0.5918\n",
            "Epoch 12/20\n",
            "1563/1563 [==============================] - 16s 10ms/step - loss: 1.0102 - accuracy: 0.6482 - val_loss: 1.1689 - val_accuracy: 0.6243\n",
            "Epoch 13/20\n",
            "1563/1563 [==============================] - 17s 11ms/step - loss: 1.0065 - accuracy: 0.6476 - val_loss: 1.1680 - val_accuracy: 0.6203\n",
            "Epoch 14/20\n",
            "1563/1563 [==============================] - 16s 10ms/step - loss: 0.9941 - accuracy: 0.6538 - val_loss: 1.1630 - val_accuracy: 0.6315\n",
            "Epoch 15/20\n",
            "1563/1563 [==============================] - 16s 10ms/step - loss: 0.9974 - accuracy: 0.6508 - val_loss: 1.1845 - val_accuracy: 0.6271\n",
            "Epoch 16/20\n",
            "1563/1563 [==============================] - 16s 10ms/step - loss: 0.9964 - accuracy: 0.6520 - val_loss: 1.2244 - val_accuracy: 0.6041\n",
            "Epoch 17/20\n",
            "1563/1563 [==============================] - 15s 10ms/step - loss: 0.9892 - accuracy: 0.6535 - val_loss: 1.1627 - val_accuracy: 0.6239\n",
            "Epoch 18/20\n",
            "1563/1563 [==============================] - 16s 10ms/step - loss: 0.9851 - accuracy: 0.6568 - val_loss: 1.2658 - val_accuracy: 0.6068\n",
            "Epoch 19/20\n",
            "1563/1563 [==============================] - 20s 13ms/step - loss: 0.9811 - accuracy: 0.6580 - val_loss: 1.2591 - val_accuracy: 0.6066\n",
            "Epoch 20/20\n",
            "1563/1563 [==============================] - 23s 15ms/step - loss: 0.9775 - accuracy: 0.6587 - val_loss: 1.2495 - val_accuracy: 0.6101\n"
          ]
        }
      ]
    },
    {
      "cell_type": "code",
      "source": [
        "model_3.evaluate(test_data_pipe)"
      ],
      "metadata": {
        "colab": {
          "base_uri": "https://localhost:8080/"
        },
        "id": "MccPP_MozQ3e",
        "outputId": "eec5dbba-d0df-46c8-d0c1-0279d5e378ac"
      },
      "execution_count": 89,
      "outputs": [
        {
          "output_type": "stream",
          "name": "stdout",
          "text": [
            "313/313 [==============================] - 1s 4ms/step - loss: 1.2495 - accuracy: 0.6101\n"
          ]
        },
        {
          "output_type": "execute_result",
          "data": {
            "text/plain": [
              "[1.249481439590454, 0.6100999712944031]"
            ]
          },
          "metadata": {},
          "execution_count": 89
        }
      ]
    },
    {
      "cell_type": "code",
      "source": [
        "plot_loss_curves(history_3_2)"
      ],
      "metadata": {
        "colab": {
          "base_uri": "https://localhost:8080/",
          "height": 927
        },
        "id": "xoSBIR1R0lr4",
        "outputId": "81f4e48c-59b5-4c5a-dc08-8be8b8626347"
      },
      "execution_count": 90,
      "outputs": [
        {
          "output_type": "display_data",
          "data": {
            "text/plain": [
              "<Figure size 640x480 with 1 Axes>"
            ],
            "image/png": "[encoded data removed]"
          },
          "metadata": {}
        },
        {
          "output_type": "display_data",
          "data": {
            "text/plain": [
              "<Figure size 640x480 with 1 Axes>"
            ],
            "image/png": "[encoded data removed]"
          },
          "metadata": {}
        }
      ]
    },
    {
      "cell_type": "markdown",
      "source": [
        "It seems like our model started to overfit so let's add some dropout to our architecture"
      ],
      "metadata": {
        "id": "jiv6dfWO0u7D"
      }
    },
    {
      "cell_type": "markdown",
      "source": [
        "### Model_4: Adding Dropout to model_3"
      ],
      "metadata": {
        "id": "YrocqyGJ1WKF"
      }
    },
    {
      "cell_type": "code",
      "source": [
        "# Creating model 3 with data augmentaion \"using the funcional api\"\n",
        "from tensorflow.keras.layers import Dropout\n",
        "inputs = layers.Input(shape = (32, 32 , 3) , name = 'input_layer')\n",
        "\n",
        "x = data_augmentation(inputs)\n",
        "\n",
        "x = Conv2D(32 , 3 , padding = 'same' , activation = 'relu')(x)\n",
        "x = Conv2D(32 , 3 , activation = 'relu')(x)\n",
        "x = MaxPooling2D(2)(x)\n",
        "x = Dropout(0.25)(x)\n",
        "\n",
        "x = Conv2D(64 , 3 , padding = 'same' , activation = 'relu')(x)\n",
        "x = Conv2D(64 , 3 , activation = 'relu')(x)\n",
        "x = MaxPooling2D(2)(x)\n",
        "x = Dropout(0.25)(x)\n",
        "\n",
        "x = Flatten()(x)\n",
        "outputs = Dense(10 , activation = 'softmax')(x)\n",
        "model_4 = tf.keras.Model(inputs , outputs)\n",
        "\n",
        "model_4.compile(loss = 'categorical_crossentropy',\n",
        "                optimizer = tf.keras.optimizers.Adam(),\n",
        "                metrics = ['accuracy'])"
      ],
      "metadata": {
        "id": "YPeoFDna04Fl"
      },
      "execution_count": 92,
      "outputs": []
    },
    {
      "cell_type": "code",
      "source": [
        "# Training for an extra 15 epochs to compare with model 0\n",
        "history_4 = model_4.fit(train_data_pipe,\n",
        "                        epochs = 40,\n",
        "                        steps_per_epoch = len(train_data_pipe),\n",
        "                        validation_data = test_data_pipe,\n",
        "                        validation_steps = len(test_data_pipe))"
      ],
      "metadata": {
        "colab": {
          "base_uri": "https://localhost:8080/"
        },
        "id": "KCYpYJUW1LRU",
        "outputId": "7793a644-10d2-4974-faed-9fdfe01c0080"
      },
      "execution_count": 93,
      "outputs": [
        {
          "output_type": "stream",
          "name": "stdout",
          "text": [
            "Epoch 1/40\n",
            "1563/1563 [==============================] - 26s 13ms/step - loss: 1.8302 - accuracy: 0.3321 - val_loss: 1.7567 - val_accuracy: 0.3713\n",
            "Epoch 2/40\n",
            "1563/1563 [==============================] - 16s 10ms/step - loss: 1.6110 - accuracy: 0.4178 - val_loss: 1.6291 - val_accuracy: 0.4127\n",
            "Epoch 3/40\n",
            "1563/1563 [==============================] - 16s 10ms/step - loss: 1.5373 - accuracy: 0.4463 - val_loss: 1.4803 - val_accuracy: 0.4730\n",
            "Epoch 4/40\n",
            "1563/1563 [==============================] - 17s 11ms/step - loss: 1.4832 - accuracy: 0.4667 - val_loss: 1.4422 - val_accuracy: 0.4862\n",
            "Epoch 5/40\n",
            "1563/1563 [==============================] - 19s 12ms/step - loss: 1.4445 - accuracy: 0.4844 - val_loss: 1.4191 - val_accuracy: 0.5041\n",
            "Epoch 6/40\n",
            "1563/1563 [==============================] - 16s 10ms/step - loss: 1.4089 - accuracy: 0.4985 - val_loss: 1.4450 - val_accuracy: 0.5025\n",
            "Epoch 7/40\n",
            "1563/1563 [==============================] - 16s 10ms/step - loss: 1.3717 - accuracy: 0.5127 - val_loss: 1.4265 - val_accuracy: 0.5079\n",
            "Epoch 8/40\n",
            "1563/1563 [==============================] - 18s 11ms/step - loss: 1.3482 - accuracy: 0.5206 - val_loss: 1.4142 - val_accuracy: 0.5125\n",
            "Epoch 9/40\n",
            "1563/1563 [==============================] - 17s 11ms/step - loss: 1.3228 - accuracy: 0.5287 - val_loss: 1.3681 - val_accuracy: 0.5345\n",
            "Epoch 10/40\n",
            "1563/1563 [==============================] - 16s 10ms/step - loss: 1.3039 - accuracy: 0.5379 - val_loss: 1.3830 - val_accuracy: 0.5217\n",
            "Epoch 11/40\n",
            "1563/1563 [==============================] - 18s 11ms/step - loss: 1.2914 - accuracy: 0.5412 - val_loss: 1.4048 - val_accuracy: 0.5245\n",
            "Epoch 12/40\n",
            "1563/1563 [==============================] - 16s 10ms/step - loss: 1.2790 - accuracy: 0.5492 - val_loss: 1.4665 - val_accuracy: 0.5146\n",
            "Epoch 13/40\n",
            "1563/1563 [==============================] - 18s 12ms/step - loss: 1.2648 - accuracy: 0.5515 - val_loss: 1.4741 - val_accuracy: 0.5075\n",
            "Epoch 14/40\n",
            "1563/1563 [==============================] - 16s 10ms/step - loss: 1.2484 - accuracy: 0.5561 - val_loss: 1.4281 - val_accuracy: 0.5257\n",
            "Epoch 15/40\n",
            "1563/1563 [==============================] - 20s 13ms/step - loss: 1.2402 - accuracy: 0.5587 - val_loss: 1.4800 - val_accuracy: 0.5222\n",
            "Epoch 16/40\n",
            "1563/1563 [==============================] - 23s 15ms/step - loss: 1.2304 - accuracy: 0.5662 - val_loss: 1.4283 - val_accuracy: 0.5265\n",
            "Epoch 17/40\n",
            "1563/1563 [==============================] - 23s 15ms/step - loss: 1.2228 - accuracy: 0.5681 - val_loss: 1.4415 - val_accuracy: 0.5240\n",
            "Epoch 18/40\n",
            "1563/1563 [==============================] - 16s 10ms/step - loss: 1.2188 - accuracy: 0.5708 - val_loss: 1.4982 - val_accuracy: 0.5204\n",
            "Epoch 19/40\n",
            "1563/1563 [==============================] - 18s 12ms/step - loss: 1.2098 - accuracy: 0.5728 - val_loss: 1.3466 - val_accuracy: 0.5472\n",
            "Epoch 20/40\n",
            "1563/1563 [==============================] - 16s 10ms/step - loss: 1.2055 - accuracy: 0.5749 - val_loss: 1.3707 - val_accuracy: 0.5380\n",
            "Epoch 21/40\n",
            "1563/1563 [==============================] - 16s 10ms/step - loss: 1.1951 - accuracy: 0.5777 - val_loss: 1.4398 - val_accuracy: 0.5251\n",
            "Epoch 22/40\n",
            "1563/1563 [==============================] - 16s 10ms/step - loss: 1.1858 - accuracy: 0.5792 - val_loss: 1.3288 - val_accuracy: 0.5596\n",
            "Epoch 23/40\n",
            "1563/1563 [==============================] - 16s 10ms/step - loss: 1.1900 - accuracy: 0.5797 - val_loss: 1.3923 - val_accuracy: 0.5483\n",
            "Epoch 24/40\n",
            "1563/1563 [==============================] - 17s 11ms/step - loss: 1.1841 - accuracy: 0.5791 - val_loss: 1.3808 - val_accuracy: 0.5493\n",
            "Epoch 25/40\n",
            "1563/1563 [==============================] - 18s 11ms/step - loss: 1.1815 - accuracy: 0.5832 - val_loss: 1.4710 - val_accuracy: 0.5263\n",
            "Epoch 26/40\n",
            "1563/1563 [==============================] - 16s 10ms/step - loss: 1.1757 - accuracy: 0.5831 - val_loss: 1.3639 - val_accuracy: 0.5448\n",
            "Epoch 27/40\n",
            "1563/1563 [==============================] - 17s 11ms/step - loss: 1.1677 - accuracy: 0.5905 - val_loss: 1.4125 - val_accuracy: 0.5445\n",
            "Epoch 28/40\n",
            "1563/1563 [==============================] - 21s 14ms/step - loss: 1.1626 - accuracy: 0.5910 - val_loss: 1.4118 - val_accuracy: 0.5476\n",
            "Epoch 29/40\n",
            "1563/1563 [==============================] - 21s 13ms/step - loss: 1.1656 - accuracy: 0.5911 - val_loss: 1.3388 - val_accuracy: 0.5599\n",
            "Epoch 30/40\n",
            "1563/1563 [==============================] - 21s 13ms/step - loss: 1.1550 - accuracy: 0.5919 - val_loss: 1.2640 - val_accuracy: 0.5755\n",
            "Epoch 31/40\n",
            "1563/1563 [==============================] - 21s 13ms/step - loss: 1.1564 - accuracy: 0.5921 - val_loss: 1.3076 - val_accuracy: 0.5670\n",
            "Epoch 32/40\n",
            "1563/1563 [==============================] - 22s 14ms/step - loss: 1.1539 - accuracy: 0.5943 - val_loss: 1.4159 - val_accuracy: 0.5503\n",
            "Epoch 33/40\n",
            "1563/1563 [==============================] - 20s 13ms/step - loss: 1.1513 - accuracy: 0.5953 - val_loss: 1.3768 - val_accuracy: 0.5568\n",
            "Epoch 34/40\n",
            "1563/1563 [==============================] - 22s 14ms/step - loss: 1.1442 - accuracy: 0.5971 - val_loss: 1.2788 - val_accuracy: 0.5721\n",
            "Epoch 35/40\n",
            "1563/1563 [==============================] - 22s 14ms/step - loss: 1.1460 - accuracy: 0.5964 - val_loss: 1.3143 - val_accuracy: 0.5770\n",
            "Epoch 36/40\n",
            "1563/1563 [==============================] - 16s 10ms/step - loss: 1.1400 - accuracy: 0.5988 - val_loss: 1.3824 - val_accuracy: 0.5577\n",
            "Epoch 37/40\n",
            "1563/1563 [==============================] - 18s 11ms/step - loss: 1.1401 - accuracy: 0.5992 - val_loss: 1.3183 - val_accuracy: 0.5721\n",
            "Epoch 38/40\n",
            "1563/1563 [==============================] - 18s 11ms/step - loss: 1.1403 - accuracy: 0.6010 - val_loss: 1.3802 - val_accuracy: 0.5569\n",
            "Epoch 39/40\n",
            "1563/1563 [==============================] - 16s 10ms/step - loss: 1.1417 - accuracy: 0.5991 - val_loss: 1.3757 - val_accuracy: 0.5635\n",
            "Epoch 40/40\n",
            "1563/1563 [==============================] - 18s 12ms/step - loss: 1.1405 - accuracy: 0.5989 - val_loss: 1.2672 - val_accuracy: 0.5769\n"
          ]
        }
      ]
    },
    {
      "cell_type": "code",
      "source": [
        "model_4.evaluate(test_data_pipe)"
      ],
      "metadata": {
        "colab": {
          "base_uri": "https://localhost:8080/"
        },
        "id": "eTre03Ew2fVa",
        "outputId": "a0aeb450-3149-4745-e0e7-24d55043d909"
      },
      "execution_count": 95,
      "outputs": [
        {
          "output_type": "stream",
          "name": "stdout",
          "text": [
            "313/313 [==============================] - 1s 4ms/step - loss: 1.2672 - accuracy: 0.5769\n"
          ]
        },
        {
          "output_type": "execute_result",
          "data": {
            "text/plain": [
              "[1.267242431640625, 0.5769000053405762]"
            ]
          },
          "metadata": {},
          "execution_count": 95
        }
      ]
    },
    {
      "cell_type": "code",
      "source": [
        "plot_loss_curves(history_4)"
      ],
      "metadata": {
        "colab": {
          "base_uri": "https://localhost:8080/",
          "height": 927
        },
        "id": "7x1xZHiO2ll8",
        "outputId": "edecfcdf-d469-4e83-8601-f5b8ec67a4a4"
      },
      "execution_count": 96,
      "outputs": [
        {
          "output_type": "display_data",
          "data": {
            "text/plain": [
              "<Figure size 640x480 with 1 Axes>"
            ],
            "image/png": "[encoded data removed]"
          },
          "metadata": {}
        },
        {
          "output_type": "display_data",
          "data": {
            "text/plain": [
              "<Figure size 640x480 with 1 Axes>"
            ],
            "image/png": "[encoded data removed]"
          },
          "metadata": {}
        }
      ]
    },
    {
      "cell_type": "code",
      "source": [
        "# Saving model 2\n",
        "import os\n",
        "save_dir = \"drive/MyDrive/ComputerVision/CIFAR10/Model_4\"\n",
        "os.makedirs(save_dir) # Make directory if it doesn't exist\n",
        "\n",
        "# Save model\n",
        "model_4.save(save_dir)\n",
        "# reloding our model and testing\n",
        "load_saved_model = tf.keras.models.load_model(save_dir)\n",
        "load_saved_model.evaluate(test_data_pipe)"
      ],
      "metadata": {
        "colab": {
          "base_uri": "https://localhost:8080/"
        },
        "id": "ovFpLnCs1U3s",
        "outputId": "0db021a0-3d6d-4ccf-9979-a975881c9a2a"
      },
      "execution_count": 94,
      "outputs": [
        {
          "output_type": "stream",
          "name": "stderr",
          "text": [
            "WARNING:absl:Found untraced functions such as _jit_compiled_convolution_op, _jit_compiled_convolution_op, _jit_compiled_convolution_op, _jit_compiled_convolution_op while saving (showing 4 of 4). These functions will not be directly callable after loading.\n"
          ]
        },
        {
          "output_type": "stream",
          "name": "stdout",
          "text": [
            "313/313 [==============================] - 1s 4ms/step - loss: 1.2672 - accuracy: 0.5769\n"
          ]
        },
        {
          "output_type": "execute_result",
          "data": {
            "text/plain": [
              "[1.267242431640625, 0.5769000053405762]"
            ]
          },
          "metadata": {},
          "execution_count": 94
        }
      ]
    },
    {
      "cell_type": "markdown",
      "source": [
        "After a lot of experiments and enhancing our tiny VGG architecture it seems like the max we can reach is ~62% accuracy\n",
        "\n",
        "Things we can try:\n",
        "1. Change learning rates and optimizer\n",
        "2. Adding batch normalization\n",
        "3. Change model Architecture"
      ],
      "metadata": {
        "id": "qz2hJPBQ1wBQ"
      }
    },
    {
      "cell_type": "markdown",
      "source": [
        "## More Complex Architecture\n",
        "In this architecture we will have:\n",
        "1. convolutional layers\n",
        "2. pooling layers\n",
        "3. dense layers\n",
        "4. Batchnormalization\n",
        "5. dropout\n",
        "6. dense layers\n",
        "7. earlystopping callback\n",
        "8. reduce learning rate on plateau callback\n",
        "9. Data Augmentation layer\n"
      ],
      "metadata": {
        "id": "NIwWgBH53zbz"
      }
    },
    {
      "cell_type": "code",
      "source": [
        "# Creating model 3 with data augmentaion \"using the funcional api\"\n",
        "from tensorflow.keras.layers import Dropout , BatchNormalization\n",
        "inputs = layers.Input(shape = (32, 32 , 3) , name = 'input_layer')\n",
        "\n",
        "x = data_augmentation(inputs)\n",
        "\n",
        "x = Conv2D(64 , 5 , padding = 'same' , activation = 'relu')(x)\n",
        "x = Conv2D(128 , 3 , padding = 'same' , activation = 'relu')(x)\n",
        "x = BatchNormalization()(x)\n",
        "x = MaxPooling2D(2 , strides = 2)(x)\n",
        "x = Dropout(0.2)(x)\n",
        "\n",
        "x = Conv2D(128 , 3 , padding = 'same' , activation = 'relu')(x)\n",
        "x = Conv2D(128 , 3 , padding = 'same' , activation = 'relu')(x)\n",
        "x = BatchNormalization()(x)\n",
        "x = MaxPooling2D(2)(x)\n",
        "x = Dropout(0.2)(x)\n",
        "\n",
        "x = Conv2D(128 , 3 , padding = 'same' , activation = 'relu')(x)\n",
        "x = Conv2D(128 , 3 , padding = 'same' , activation = 'relu')(x)\n",
        "x = BatchNormalization()(x)\n",
        "x = MaxPooling2D(2)(x)\n",
        "x = Dropout(0.2)(x)\n",
        "\n",
        "x = Flatten()(x)\n",
        "x = Dense(256 , activation = 'relu')(x)\n",
        "outputs = Dense(10 , activation = 'softmax')(x)\n",
        "model_5 = tf.keras.Model(inputs , outputs)\n",
        "\n",
        "model_5.compile(loss = 'categorical_crossentropy',\n",
        "                optimizer = tf.keras.optimizers.Adam(),\n",
        "                metrics = ['accuracy'])"
      ],
      "metadata": {
        "id": "38y4jAZu4VSE"
      },
      "execution_count": 103,
      "outputs": []
    },
    {
      "cell_type": "code",
      "source": [
        "model_5.summary()"
      ],
      "metadata": {
        "colab": {
          "base_uri": "https://localhost:8080/"
        },
        "id": "eX3bsMEn6_r-",
        "outputId": "130e20d0-338c-4bdc-a8be-4559bb9107cc"
      },
      "execution_count": 104,
      "outputs": [
        {
          "output_type": "stream",
          "name": "stdout",
          "text": [
            "Model: \"model_16\"\n",
            "_________________________________________________________________\n",
            " Layer (type)                Output Shape              Param #   \n",
            "=================================================================\n",
            " input_layer (InputLayer)    [(None, 32, 32, 3)]       0         \n",
            "                                                                 \n",
            " data_augmentation (Sequenti  (None, 32, 32, 3)        0         \n",
            " al)                                                             \n",
            "                                                                 \n",
            " conv2d_123 (Conv2D)         (None, 32, 32, 64)        4864      \n",
            "                                                                 \n",
            " conv2d_124 (Conv2D)         (None, 32, 32, 128)       73856     \n",
            "                                                                 \n",
            " batch_normalization_7 (Batc  (None, 32, 32, 128)      512       \n",
            " hNormalization)                                                 \n",
            "                                                                 \n",
            " max_pooling2d_60 (MaxPoolin  (None, 16, 16, 128)      0         \n",
            " g2D)                                                            \n",
            "                                                                 \n",
            " dropout_10 (Dropout)        (None, 16, 16, 128)       0         \n",
            "                                                                 \n",
            " conv2d_125 (Conv2D)         (None, 16, 16, 128)       147584    \n",
            "                                                                 \n",
            " conv2d_126 (Conv2D)         (None, 16, 16, 128)       147584    \n",
            "                                                                 \n",
            " batch_normalization_8 (Batc  (None, 16, 16, 128)      512       \n",
            " hNormalization)                                                 \n",
            "                                                                 \n",
            " max_pooling2d_61 (MaxPoolin  (None, 8, 8, 128)        0         \n",
            " g2D)                                                            \n",
            "                                                                 \n",
            " dropout_11 (Dropout)        (None, 8, 8, 128)         0         \n",
            "                                                                 \n",
            " conv2d_127 (Conv2D)         (None, 8, 8, 128)         147584    \n",
            "                                                                 \n",
            " conv2d_128 (Conv2D)         (None, 8, 8, 128)         147584    \n",
            "                                                                 \n",
            " batch_normalization_9 (Batc  (None, 8, 8, 128)        512       \n",
            " hNormalization)                                                 \n",
            "                                                                 \n",
            " max_pooling2d_62 (MaxPoolin  (None, 4, 4, 128)        0         \n",
            " g2D)                                                            \n",
            "                                                                 \n",
            " dropout_12 (Dropout)        (None, 4, 4, 128)         0         \n",
            "                                                                 \n",
            " flatten_26 (Flatten)        (None, 2048)              0         \n",
            "                                                                 \n",
            " dense_33 (Dense)            (None, 256)               524544    \n",
            "                                                                 \n",
            " dense_34 (Dense)            (None, 10)                2570      \n",
            "                                                                 \n",
            "=================================================================\n",
            "Total params: 1,197,706\n",
            "Trainable params: 1,196,938\n",
            "Non-trainable params: 768\n",
            "_________________________________________________________________\n"
          ]
        }
      ]
    },
    {
      "cell_type": "markdown",
      "source": [
        "about a million parameters , that is a huge increase from previous models"
      ],
      "metadata": {
        "id": "U65wtQZU7JW_"
      }
    },
    {
      "cell_type": "code",
      "source": [
        "# Creating our callbacks\n",
        "early_stopping = tf.keras.callbacks.EarlyStopping(monitor = 'val_accuracy' , patience = 10)\n",
        "reduce_lr = tf.keras.callbacks.ReduceLROnPlateau(monitor='val_accuracy',\n",
        "                                                 factor=0.5,\n",
        "                                                 patience=5,\n",
        "                                                 verbose=1,\n",
        "                                                 mode='max',\n",
        "                                                 min_lr=0.00001)"
      ],
      "metadata": {
        "id": "rRX_4n0n7U3Z"
      },
      "execution_count": 105,
      "outputs": []
    },
    {
      "cell_type": "code",
      "source": [
        "# Training model\n",
        "history_5 = model_5.fit(train_data_pipe,\n",
        "                        epochs = 40,\n",
        "                        steps_per_epoch = len(train_data_pipe),\n",
        "                        validation_data = test_data_pipe,\n",
        "                        validation_steps = len(test_data_pipe),\n",
        "                        callbacks = [early_stopping , reduce_lr])"
      ],
      "metadata": {
        "colab": {
          "base_uri": "https://localhost:8080/"
        },
        "id": "DgqIG1kb77tL",
        "outputId": "a94e04ed-9f28-423b-fd2a-8d636152ef80"
      },
      "execution_count": 106,
      "outputs": [
        {
          "output_type": "stream",
          "name": "stdout",
          "text": [
            "Epoch 1/40\n",
            "1563/1563 [==============================] - 41s 23ms/step - loss: 1.7996 - accuracy: 0.3577 - val_loss: 1.6617 - val_accuracy: 0.4163 - lr: 0.0010\n",
            "Epoch 2/40\n",
            "1563/1563 [==============================] - 32s 20ms/step - loss: 1.5307 - accuracy: 0.4456 - val_loss: 1.5341 - val_accuracy: 0.4500 - lr: 0.0010\n",
            "Epoch 3/40\n",
            "1563/1563 [==============================] - 29s 19ms/step - loss: 1.3869 - accuracy: 0.5055 - val_loss: 1.4010 - val_accuracy: 0.5050 - lr: 0.0010\n",
            "Epoch 4/40\n",
            "1563/1563 [==============================] - 30s 19ms/step - loss: 1.2759 - accuracy: 0.5472 - val_loss: 1.3178 - val_accuracy: 0.5311 - lr: 0.0010\n",
            "Epoch 5/40\n",
            "1563/1563 [==============================] - 30s 19ms/step - loss: 1.1964 - accuracy: 0.5754 - val_loss: 1.2156 - val_accuracy: 0.5837 - lr: 0.0010\n",
            "Epoch 6/40\n",
            "1563/1563 [==============================] - 29s 19ms/step - loss: 1.1380 - accuracy: 0.5986 - val_loss: 1.2524 - val_accuracy: 0.5782 - lr: 0.0010\n",
            "Epoch 7/40\n",
            "1563/1563 [==============================] - 30s 19ms/step - loss: 1.0857 - accuracy: 0.6195 - val_loss: 1.1186 - val_accuracy: 0.6177 - lr: 0.0010\n",
            "Epoch 8/40\n",
            "1563/1563 [==============================] - 30s 19ms/step - loss: 1.0439 - accuracy: 0.6322 - val_loss: 1.1188 - val_accuracy: 0.6226 - lr: 0.0010\n",
            "Epoch 9/40\n",
            "1563/1563 [==============================] - 29s 18ms/step - loss: 1.0124 - accuracy: 0.6468 - val_loss: 1.1425 - val_accuracy: 0.6130 - lr: 0.0010\n",
            "Epoch 10/40\n",
            "1563/1563 [==============================] - 28s 18ms/step - loss: 0.9767 - accuracy: 0.6586 - val_loss: 1.1945 - val_accuracy: 0.6120 - lr: 0.0010\n",
            "Epoch 11/40\n",
            "1563/1563 [==============================] - 30s 19ms/step - loss: 0.9520 - accuracy: 0.6670 - val_loss: 1.1309 - val_accuracy: 0.6273 - lr: 0.0010\n",
            "Epoch 12/40\n",
            "1563/1563 [==============================] - 30s 19ms/step - loss: 0.9316 - accuracy: 0.6742 - val_loss: 1.1826 - val_accuracy: 0.6199 - lr: 0.0010\n",
            "Epoch 13/40\n",
            "1563/1563 [==============================] - 28s 18ms/step - loss: 0.8987 - accuracy: 0.6863 - val_loss: 1.0147 - val_accuracy: 0.6654 - lr: 0.0010\n",
            "Epoch 14/40\n",
            "1563/1563 [==============================] - 28s 18ms/step - loss: 0.8864 - accuracy: 0.6917 - val_loss: 1.1251 - val_accuracy: 0.6348 - lr: 0.0010\n",
            "Epoch 15/40\n",
            "1563/1563 [==============================] - 29s 19ms/step - loss: 0.8651 - accuracy: 0.6996 - val_loss: 1.0758 - val_accuracy: 0.6548 - lr: 0.0010\n",
            "Epoch 16/40\n",
            "1563/1563 [==============================] - 28s 18ms/step - loss: 0.8459 - accuracy: 0.7072 - val_loss: 1.0969 - val_accuracy: 0.6535 - lr: 0.0010\n",
            "Epoch 17/40\n",
            "1563/1563 [==============================] - 29s 19ms/step - loss: 0.8346 - accuracy: 0.7110 - val_loss: 1.0266 - val_accuracy: 0.6755 - lr: 0.0010\n",
            "Epoch 18/40\n",
            "1563/1563 [==============================] - 29s 18ms/step - loss: 0.8095 - accuracy: 0.7189 - val_loss: 1.0441 - val_accuracy: 0.6686 - lr: 0.0010\n",
            "Epoch 19/40\n",
            "1563/1563 [==============================] - 29s 18ms/step - loss: 0.7989 - accuracy: 0.7241 - val_loss: 0.8732 - val_accuracy: 0.7128 - lr: 0.0010\n",
            "Epoch 20/40\n",
            "1563/1563 [==============================] - 30s 19ms/step - loss: 0.7935 - accuracy: 0.7236 - val_loss: 0.9312 - val_accuracy: 0.7001 - lr: 0.0010\n",
            "Epoch 21/40\n",
            "1563/1563 [==============================] - 30s 19ms/step - loss: 0.7734 - accuracy: 0.7300 - val_loss: 0.8907 - val_accuracy: 0.7029 - lr: 0.0010\n",
            "Epoch 22/40\n",
            "1563/1563 [==============================] - 28s 18ms/step - loss: 0.7545 - accuracy: 0.7376 - val_loss: 0.9259 - val_accuracy: 0.7030 - lr: 0.0010\n",
            "Epoch 23/40\n",
            "1563/1563 [==============================] - 30s 19ms/step - loss: 0.7508 - accuracy: 0.7393 - val_loss: 1.0682 - val_accuracy: 0.6704 - lr: 0.0010\n",
            "Epoch 24/40\n",
            "1562/1563 [============================>.] - ETA: 0s - loss: 0.7431 - accuracy: 0.7416\n",
            "Epoch 24: ReduceLROnPlateau reducing learning rate to 0.0005000000237487257.\n",
            "1563/1563 [==============================] - 32s 20ms/step - loss: 0.7430 - accuracy: 0.7416 - val_loss: 0.9896 - val_accuracy: 0.6831 - lr: 0.0010\n",
            "Epoch 25/40\n",
            "1563/1563 [==============================] - 32s 21ms/step - loss: 0.6854 - accuracy: 0.7627 - val_loss: 0.9165 - val_accuracy: 0.7066 - lr: 5.0000e-04\n",
            "Epoch 26/40\n",
            "1563/1563 [==============================] - 29s 18ms/step - loss: 0.6672 - accuracy: 0.7675 - val_loss: 0.9000 - val_accuracy: 0.7166 - lr: 5.0000e-04\n",
            "Epoch 27/40\n",
            "1563/1563 [==============================] - 29s 19ms/step - loss: 0.6584 - accuracy: 0.7701 - val_loss: 0.8381 - val_accuracy: 0.7296 - lr: 5.0000e-04\n",
            "Epoch 28/40\n",
            "1563/1563 [==============================] - 30s 19ms/step - loss: 0.6408 - accuracy: 0.7776 - val_loss: 1.0209 - val_accuracy: 0.6905 - lr: 5.0000e-04\n",
            "Epoch 29/40\n",
            "1563/1563 [==============================] - 30s 19ms/step - loss: 0.6419 - accuracy: 0.7769 - val_loss: 1.0116 - val_accuracy: 0.6894 - lr: 5.0000e-04\n",
            "Epoch 30/40\n",
            "1563/1563 [==============================] - 29s 18ms/step - loss: 0.6329 - accuracy: 0.7807 - val_loss: 0.9571 - val_accuracy: 0.7039 - lr: 5.0000e-04\n",
            "Epoch 31/40\n",
            "1563/1563 [==============================] - 29s 18ms/step - loss: 0.6304 - accuracy: 0.7806 - val_loss: 0.8886 - val_accuracy: 0.7171 - lr: 5.0000e-04\n",
            "Epoch 32/40\n",
            "1563/1563 [==============================] - ETA: 0s - loss: 0.6238 - accuracy: 0.7838\n",
            "Epoch 32: ReduceLROnPlateau reducing learning rate to 0.0002500000118743628.\n",
            "1563/1563 [==============================] - 29s 19ms/step - loss: 0.6238 - accuracy: 0.7838 - val_loss: 0.9048 - val_accuracy: 0.7202 - lr: 5.0000e-04\n",
            "Epoch 33/40\n",
            "1563/1563 [==============================] - 30s 19ms/step - loss: 0.5952 - accuracy: 0.7922 - val_loss: 0.8466 - val_accuracy: 0.7326 - lr: 2.5000e-04\n",
            "Epoch 34/40\n",
            "1563/1563 [==============================] - 29s 19ms/step - loss: 0.5908 - accuracy: 0.7957 - val_loss: 0.9361 - val_accuracy: 0.7162 - lr: 2.5000e-04\n",
            "Epoch 35/40\n",
            "1563/1563 [==============================] - 30s 19ms/step - loss: 0.5730 - accuracy: 0.8009 - val_loss: 0.8377 - val_accuracy: 0.7380 - lr: 2.5000e-04\n",
            "Epoch 36/40\n",
            "1563/1563 [==============================] - 29s 19ms/step - loss: 0.5755 - accuracy: 0.7991 - val_loss: 0.8642 - val_accuracy: 0.7337 - lr: 2.5000e-04\n",
            "Epoch 37/40\n",
            "1563/1563 [==============================] - 29s 18ms/step - loss: 0.5725 - accuracy: 0.8007 - val_loss: 0.8179 - val_accuracy: 0.7425 - lr: 2.5000e-04\n",
            "Epoch 38/40\n",
            "1563/1563 [==============================] - 31s 20ms/step - loss: 0.5625 - accuracy: 0.8049 - val_loss: 0.9206 - val_accuracy: 0.7243 - lr: 2.5000e-04\n",
            "Epoch 39/40\n",
            "1563/1563 [==============================] - 29s 18ms/step - loss: 0.5616 - accuracy: 0.8048 - val_loss: 0.8669 - val_accuracy: 0.7359 - lr: 2.5000e-04\n",
            "Epoch 40/40\n",
            "1563/1563 [==============================] - 28s 18ms/step - loss: 0.5604 - accuracy: 0.8049 - val_loss: 0.8404 - val_accuracy: 0.7385 - lr: 2.5000e-04\n"
          ]
        }
      ]
    },
    {
      "cell_type": "code",
      "source": [
        "# Evaluating our model\n",
        "model_5.evaluate(test_data_pipe)"
      ],
      "metadata": {
        "colab": {
          "base_uri": "https://localhost:8080/"
        },
        "id": "ule7gVAf8UaJ",
        "outputId": "76ba5a7c-4130-4e67-ab00-16a5ef726311"
      },
      "execution_count": 109,
      "outputs": [
        {
          "output_type": "stream",
          "name": "stdout",
          "text": [
            "313/313 [==============================] - 2s 5ms/step - loss: 0.8404 - accuracy: 0.7385\n"
          ]
        },
        {
          "output_type": "execute_result",
          "data": {
            "text/plain": [
              "[0.8403673768043518, 0.7384999990463257]"
            ]
          },
          "metadata": {},
          "execution_count": 109
        }
      ]
    },
    {
      "cell_type": "code",
      "source": [
        "# Plotting loss curves\n",
        "plot_loss_curves(history_5)"
      ],
      "metadata": {
        "colab": {
          "base_uri": "https://localhost:8080/",
          "height": 927
        },
        "id": "ZNSvv5j68fSD",
        "outputId": "6f64ac44-1668-47db-ce6b-d290e70a1724"
      },
      "execution_count": 107,
      "outputs": [
        {
          "output_type": "display_data",
          "data": {
            "text/plain": [
              "<Figure size 640x480 with 1 Axes>"
            ],
            "image/png": "[encoded data removed]"
          },
          "metadata": {}
        },
        {
          "output_type": "display_data",
          "data": {
            "text/plain": [
              "<Figure size 640x480 with 1 Axes>"
            ],
            "image/png": "[encoded data removed]"
          },
          "metadata": {}
        }
      ]
    },
    {
      "cell_type": "code",
      "source": [
        "# Saving our model\n",
        "# Saving model 2\n",
        "import os\n",
        "save_dir = \"drive/MyDrive/ComputerVision/CIFAR10/Model_5\"\n",
        "os.makedirs(save_dir) # Make directory if it doesn't exist\n",
        "\n",
        "# Save model\n",
        "model_5.save(save_dir)\n",
        "# reloding our model and testing\n",
        "load_saved_model = tf.keras.models.load_model(save_dir)\n",
        "load_saved_model.evaluate(test_data_pipe)"
      ],
      "metadata": {
        "colab": {
          "base_uri": "https://localhost:8080/"
        },
        "id": "kJ9Pshaj8x2q",
        "outputId": "c5e3d0eb-c856-485e-b672-d1cc1c498d6f"
      },
      "execution_count": 108,
      "outputs": [
        {
          "output_type": "stream",
          "name": "stderr",
          "text": [
            "WARNING:absl:Found untraced functions such as _jit_compiled_convolution_op, _jit_compiled_convolution_op, _jit_compiled_convolution_op, _jit_compiled_convolution_op, _jit_compiled_convolution_op while saving (showing 5 of 6). These functions will not be directly callable after loading.\n"
          ]
        },
        {
          "output_type": "stream",
          "name": "stdout",
          "text": [
            "313/313 [==============================] - 2s 6ms/step - loss: 0.8404 - accuracy: 0.7385\n"
          ]
        },
        {
          "output_type": "execute_result",
          "data": {
            "text/plain": [
              "[0.8403673768043518, 0.7384999990463257]"
            ]
          },
          "metadata": {},
          "execution_count": 108
        }
      ]
    },
    {
      "cell_type": "markdown",
      "source": [
        "It seems is model is overfitting but there is a chance of improvement as the general trend is going upwards"
      ],
      "metadata": {
        "id": "U_m4ewqqHuR-"
      }
    },
    {
      "cell_type": "code",
      "source": [
        "# create a model checkpoint\n",
        "model_checkpoint_callback = create_model_checkpoint('model_5_2')\n",
        "# Training model for another 160 epochs trying to reach 80% Validation accuracy\n",
        "history_5 = model_5.fit(train_data_pipe,\n",
        "                        epochs = 160,\n",
        "                        steps_per_epoch = len(train_data_pipe),\n",
        "                        validation_data = test_data_pipe,\n",
        "                        validation_steps = len(test_data_pipe),\n",
        "                        callbacks = [early_stopping , reduce_lr , model_checkpoint_callback])"
      ],
      "metadata": {
        "colab": {
          "base_uri": "https://localhost:8080/"
        },
        "id": "lIuTMbWW83lZ",
        "outputId": "6758eaaa-e251-4763-b81c-ae20e97967b5"
      },
      "execution_count": 111,
      "outputs": [
        {
          "output_type": "stream",
          "name": "stdout",
          "text": [
            "Epoch 1/160\n",
            "1563/1563 [==============================] - 31s 20ms/step - loss: 0.5532 - accuracy: 0.8062 - val_loss: 0.8405 - val_accuracy: 0.7396 - lr: 2.5000e-04\n",
            "Epoch 2/160\n",
            "1563/1563 [==============================] - 30s 19ms/step - loss: 0.5503 - accuracy: 0.8093 - val_loss: 0.9266 - val_accuracy: 0.7182 - lr: 2.5000e-04\n",
            "Epoch 3/160\n",
            "1563/1563 [==============================] - 30s 19ms/step - loss: 0.5499 - accuracy: 0.8090 - val_loss: 0.8636 - val_accuracy: 0.7359 - lr: 2.5000e-04\n",
            "Epoch 4/160\n",
            "1563/1563 [==============================] - 30s 19ms/step - loss: 0.5460 - accuracy: 0.8086 - val_loss: 0.8211 - val_accuracy: 0.7463 - lr: 2.5000e-04\n",
            "Epoch 5/160\n",
            "1563/1563 [==============================] - 28s 18ms/step - loss: 0.5423 - accuracy: 0.8114 - val_loss: 0.8689 - val_accuracy: 0.7338 - lr: 2.5000e-04\n",
            "Epoch 6/160\n",
            "1563/1563 [==============================] - 30s 19ms/step - loss: 0.5368 - accuracy: 0.8129 - val_loss: 0.8200 - val_accuracy: 0.7451 - lr: 2.5000e-04\n",
            "Epoch 7/160\n",
            "1563/1563 [==============================] - 29s 18ms/step - loss: 0.5404 - accuracy: 0.8120 - val_loss: 0.8624 - val_accuracy: 0.7332 - lr: 2.5000e-04\n",
            "Epoch 8/160\n",
            "1563/1563 [==============================] - 30s 19ms/step - loss: 0.5328 - accuracy: 0.8140 - val_loss: 0.8375 - val_accuracy: 0.7416 - lr: 2.5000e-04\n",
            "Epoch 9/160\n",
            "1562/1563 [============================>.] - ETA: 0s - loss: 0.5321 - accuracy: 0.8138\n",
            "Epoch 9: ReduceLROnPlateau reducing learning rate to 0.0001250000059371814.\n",
            "1563/1563 [==============================] - 30s 19ms/step - loss: 0.5320 - accuracy: 0.8138 - val_loss: 0.8262 - val_accuracy: 0.7453 - lr: 2.5000e-04\n",
            "Epoch 10/160\n",
            "1563/1563 [==============================] - 29s 19ms/step - loss: 0.5233 - accuracy: 0.8198 - val_loss: 0.8182 - val_accuracy: 0.7473 - lr: 1.2500e-04\n",
            "Epoch 11/160\n",
            "1563/1563 [==============================] - 29s 19ms/step - loss: 0.5147 - accuracy: 0.8203 - val_loss: 0.8514 - val_accuracy: 0.7394 - lr: 1.2500e-04\n",
            "Epoch 12/160\n",
            "1563/1563 [==============================] - 30s 19ms/step - loss: 0.5106 - accuracy: 0.8238 - val_loss: 0.8114 - val_accuracy: 0.7511 - lr: 1.2500e-04\n",
            "Epoch 13/160\n",
            "1563/1563 [==============================] - 30s 19ms/step - loss: 0.5072 - accuracy: 0.8213 - val_loss: 0.8578 - val_accuracy: 0.7400 - lr: 1.2500e-04\n",
            "Epoch 14/160\n",
            "1563/1563 [==============================] - 30s 19ms/step - loss: 0.5047 - accuracy: 0.8234 - val_loss: 0.7867 - val_accuracy: 0.7569 - lr: 1.2500e-04\n",
            "Epoch 15/160\n",
            "1563/1563 [==============================] - 29s 18ms/step - loss: 0.5055 - accuracy: 0.8226 - val_loss: 0.8309 - val_accuracy: 0.7471 - lr: 1.2500e-04\n",
            "Epoch 16/160\n",
            "1563/1563 [==============================] - 30s 19ms/step - loss: 0.5018 - accuracy: 0.8248 - val_loss: 0.8181 - val_accuracy: 0.7489 - lr: 1.2500e-04\n",
            "Epoch 17/160\n",
            "1563/1563 [==============================] - 31s 20ms/step - loss: 0.5014 - accuracy: 0.8245 - val_loss: 0.8428 - val_accuracy: 0.7451 - lr: 1.2500e-04\n",
            "Epoch 18/160\n",
            "1563/1563 [==============================] - 28s 18ms/step - loss: 0.4917 - accuracy: 0.8288 - val_loss: 0.8461 - val_accuracy: 0.7462 - lr: 1.2500e-04\n",
            "Epoch 19/160\n",
            "1563/1563 [==============================] - 30s 19ms/step - loss: 0.4971 - accuracy: 0.8256 - val_loss: 0.7821 - val_accuracy: 0.7584 - lr: 1.2500e-04\n",
            "Epoch 20/160\n",
            "1563/1563 [==============================] - 30s 19ms/step - loss: 0.4952 - accuracy: 0.8255 - val_loss: 0.8603 - val_accuracy: 0.7408 - lr: 1.2500e-04\n",
            "Epoch 21/160\n",
            "1563/1563 [==============================] - 29s 18ms/step - loss: 0.4878 - accuracy: 0.8298 - val_loss: 0.8171 - val_accuracy: 0.7510 - lr: 1.2500e-04\n",
            "Epoch 22/160\n",
            "1563/1563 [==============================] - 29s 19ms/step - loss: 0.4887 - accuracy: 0.8282 - val_loss: 0.7964 - val_accuracy: 0.7579 - lr: 1.2500e-04\n",
            "Epoch 23/160\n",
            "1563/1563 [==============================] - 28s 18ms/step - loss: 0.4901 - accuracy: 0.8287 - val_loss: 0.8231 - val_accuracy: 0.7474 - lr: 1.2500e-04\n",
            "Epoch 24/160\n",
            "1561/1563 [============================>.] - ETA: 0s - loss: 0.4934 - accuracy: 0.8277\n",
            "Epoch 24: ReduceLROnPlateau reducing learning rate to 6.25000029685907e-05.\n",
            "1563/1563 [==============================] - 30s 19ms/step - loss: 0.4933 - accuracy: 0.8277 - val_loss: 0.8038 - val_accuracy: 0.7496 - lr: 1.2500e-04\n",
            "Epoch 25/160\n",
            "1563/1563 [==============================] - 31s 20ms/step - loss: 0.4821 - accuracy: 0.8311 - val_loss: 0.8104 - val_accuracy: 0.7506 - lr: 6.2500e-05\n",
            "Epoch 26/160\n",
            "1563/1563 [==============================] - 29s 18ms/step - loss: 0.4763 - accuracy: 0.8339 - val_loss: 0.7988 - val_accuracy: 0.7565 - lr: 6.2500e-05\n",
            "Epoch 27/160\n",
            "1563/1563 [==============================] - 29s 18ms/step - loss: 0.4760 - accuracy: 0.8334 - val_loss: 0.7974 - val_accuracy: 0.7578 - lr: 6.2500e-05\n",
            "Epoch 28/160\n",
            "1563/1563 [==============================] - 29s 19ms/step - loss: 0.4781 - accuracy: 0.8338 - val_loss: 0.7774 - val_accuracy: 0.7611 - lr: 6.2500e-05\n",
            "Epoch 29/160\n",
            "1563/1563 [==============================] - 30s 19ms/step - loss: 0.4766 - accuracy: 0.8322 - val_loss: 0.8021 - val_accuracy: 0.7548 - lr: 6.2500e-05\n",
            "Epoch 30/160\n",
            "1563/1563 [==============================] - 29s 18ms/step - loss: 0.4724 - accuracy: 0.8349 - val_loss: 0.8156 - val_accuracy: 0.7513 - lr: 6.2500e-05\n",
            "Epoch 31/160\n",
            "1563/1563 [==============================] - 29s 19ms/step - loss: 0.4728 - accuracy: 0.8349 - val_loss: 0.8021 - val_accuracy: 0.7535 - lr: 6.2500e-05\n",
            "Epoch 32/160\n",
            "1563/1563 [==============================] - 28s 18ms/step - loss: 0.4774 - accuracy: 0.8330 - val_loss: 0.8092 - val_accuracy: 0.7530 - lr: 6.2500e-05\n",
            "Epoch 33/160\n",
            "1562/1563 [============================>.] - ETA: 0s - loss: 0.4699 - accuracy: 0.8363\n",
            "Epoch 33: ReduceLROnPlateau reducing learning rate to 3.125000148429535e-05.\n",
            "1563/1563 [==============================] - 29s 19ms/step - loss: 0.4698 - accuracy: 0.8363 - val_loss: 0.7935 - val_accuracy: 0.7587 - lr: 6.2500e-05\n",
            "Epoch 34/160\n",
            "1563/1563 [==============================] - 30s 19ms/step - loss: 0.4698 - accuracy: 0.8360 - val_loss: 0.7953 - val_accuracy: 0.7614 - lr: 3.1250e-05\n",
            "Epoch 35/160\n",
            "1563/1563 [==============================] - 30s 19ms/step - loss: 0.4648 - accuracy: 0.8373 - val_loss: 0.7779 - val_accuracy: 0.7622 - lr: 3.1250e-05\n",
            "Epoch 36/160\n",
            "1563/1563 [==============================] - 30s 19ms/step - loss: 0.4659 - accuracy: 0.8355 - val_loss: 0.8043 - val_accuracy: 0.7577 - lr: 3.1250e-05\n",
            "Epoch 37/160\n",
            "1563/1563 [==============================] - 30s 19ms/step - loss: 0.4629 - accuracy: 0.8366 - val_loss: 0.7885 - val_accuracy: 0.7621 - lr: 3.1250e-05\n",
            "Epoch 38/160\n",
            "1563/1563 [==============================] - 29s 19ms/step - loss: 0.4663 - accuracy: 0.8385 - val_loss: 0.7872 - val_accuracy: 0.7616 - lr: 3.1250e-05\n",
            "Epoch 39/160\n",
            "1563/1563 [==============================] - 29s 19ms/step - loss: 0.4651 - accuracy: 0.8380 - val_loss: 0.7971 - val_accuracy: 0.7597 - lr: 3.1250e-05\n",
            "Epoch 40/160\n",
            "1560/1563 [============================>.] - ETA: 0s - loss: 0.4632 - accuracy: 0.8360\n",
            "Epoch 40: ReduceLROnPlateau reducing learning rate to 1.5625000742147677e-05.\n",
            "1563/1563 [==============================] - 30s 19ms/step - loss: 0.4631 - accuracy: 0.8361 - val_loss: 0.7852 - val_accuracy: 0.7605 - lr: 3.1250e-05\n",
            "Epoch 41/160\n",
            "1563/1563 [==============================] - 29s 18ms/step - loss: 0.4661 - accuracy: 0.8357 - val_loss: 0.7909 - val_accuracy: 0.7604 - lr: 1.5625e-05\n",
            "Epoch 42/160\n",
            "1563/1563 [==============================] - 28s 18ms/step - loss: 0.4624 - accuracy: 0.8370 - val_loss: 0.7892 - val_accuracy: 0.7616 - lr: 1.5625e-05\n",
            "Epoch 43/160\n",
            "1563/1563 [==============================] - 30s 19ms/step - loss: 0.4587 - accuracy: 0.8389 - val_loss: 0.7884 - val_accuracy: 0.7620 - lr: 1.5625e-05\n",
            "Epoch 44/160\n",
            "1563/1563 [==============================] - 30s 19ms/step - loss: 0.4564 - accuracy: 0.8397 - val_loss: 0.7981 - val_accuracy: 0.7611 - lr: 1.5625e-05\n",
            "Epoch 45/160\n",
            "1563/1563 [==============================] - 28s 18ms/step - loss: 0.4609 - accuracy: 0.8387 - val_loss: 0.7787 - val_accuracy: 0.7647 - lr: 1.5625e-05\n",
            "Epoch 46/160\n",
            "1563/1563 [==============================] - 28s 18ms/step - loss: 0.4603 - accuracy: 0.8372 - val_loss: 0.7908 - val_accuracy: 0.7625 - lr: 1.5625e-05\n",
            "Epoch 47/160\n",
            "1563/1563 [==============================] - 29s 19ms/step - loss: 0.4621 - accuracy: 0.8385 - val_loss: 0.7921 - val_accuracy: 0.7603 - lr: 1.5625e-05\n",
            "Epoch 48/160\n",
            "1563/1563 [==============================] - 29s 19ms/step - loss: 0.4641 - accuracy: 0.8376 - val_loss: 0.7881 - val_accuracy: 0.7618 - lr: 1.5625e-05\n",
            "Epoch 49/160\n",
            "1563/1563 [==============================] - 29s 19ms/step - loss: 0.4635 - accuracy: 0.8380 - val_loss: 0.7993 - val_accuracy: 0.7604 - lr: 1.5625e-05\n",
            "Epoch 50/160\n",
            "1560/1563 [============================>.] - ETA: 0s - loss: 0.4589 - accuracy: 0.8391\n",
            "Epoch 50: ReduceLROnPlateau reducing learning rate to 1e-05.\n",
            "1563/1563 [==============================] - 28s 18ms/step - loss: 0.4588 - accuracy: 0.8391 - val_loss: 0.7983 - val_accuracy: 0.7609 - lr: 1.5625e-05\n",
            "Epoch 51/160\n",
            "1563/1563 [==============================] - 29s 18ms/step - loss: 0.4535 - accuracy: 0.8417 - val_loss: 0.7851 - val_accuracy: 0.7641 - lr: 1.0000e-05\n",
            "Epoch 52/160\n",
            "1563/1563 [==============================] - 30s 19ms/step - loss: 0.4612 - accuracy: 0.8381 - val_loss: 0.7817 - val_accuracy: 0.7643 - lr: 1.0000e-05\n",
            "Epoch 53/160\n",
            "1563/1563 [==============================] - 29s 19ms/step - loss: 0.4551 - accuracy: 0.8395 - val_loss: 0.7922 - val_accuracy: 0.7613 - lr: 1.0000e-05\n",
            "Epoch 54/160\n",
            "1563/1563 [==============================] - 28s 18ms/step - loss: 0.4579 - accuracy: 0.8401 - val_loss: 0.7891 - val_accuracy: 0.7623 - lr: 1.0000e-05\n",
            "Epoch 55/160\n",
            "1563/1563 [==============================] - 29s 19ms/step - loss: 0.4529 - accuracy: 0.8400 - val_loss: 0.7962 - val_accuracy: 0.7605 - lr: 1.0000e-05\n"
          ]
        }
      ]
    },
    {
      "cell_type": "markdown",
      "source": [
        "It seems like the model plateued and early stopping callback stopped the training process after 40 epochs in the first training and 55 epochs in the seccond one"
      ],
      "metadata": {
        "id": "nP4K5613IV39"
      }
    },
    {
      "cell_type": "code",
      "source": [
        "# Loading best weights from checkpoint\n",
        "model_5.load_weights('model_5_2/cp.cpkt')\n",
        "model_5.evaluate(test_data_pipe)"
      ],
      "metadata": {
        "colab": {
          "base_uri": "https://localhost:8080/"
        },
        "id": "Md5RR2gfQA5V",
        "outputId": "7bba16b0-dec0-45cb-dc7e-48b6de5e1be5"
      },
      "execution_count": 112,
      "outputs": [
        {
          "output_type": "stream",
          "name": "stdout",
          "text": [
            "313/313 [==============================] - 3s 9ms/step - loss: 0.7774 - accuracy: 0.7611\n"
          ]
        },
        {
          "output_type": "execute_result",
          "data": {
            "text/plain": [
              "[0.7773957252502441, 0.7610999941825867]"
            ]
          },
          "metadata": {},
          "execution_count": 112
        }
      ]
    },
    {
      "cell_type": "markdown",
      "source": [
        "So model_5 gained about 14% increase validation accuracy from previous models"
      ],
      "metadata": {
        "id": "waBUfifdQfxt"
      }
    },
    {
      "cell_type": "code",
      "source": [
        "import os\n",
        "save_dir = \"drive/MyDrive/ComputerVision/CIFAR10/Model_5_best\"\n",
        "os.makedirs(save_dir) # Make directory if it doesn't exist\n",
        "\n",
        "# Save model\n",
        "model_5.save(save_dir)\n",
        "# reloding our model and testing\n",
        "load_saved_model = tf.keras.models.load_model(save_dir)\n",
        "load_saved_model.evaluate(test_data_pipe)"
      ],
      "metadata": {
        "colab": {
          "base_uri": "https://localhost:8080/"
        },
        "id": "0n8GzAMxQ9jS",
        "outputId": "34b5efa1-fb1d-4adb-9d46-8896af515f08"
      },
      "execution_count": 113,
      "outputs": [
        {
          "output_type": "stream",
          "name": "stderr",
          "text": [
            "WARNING:absl:Found untraced functions such as _jit_compiled_convolution_op, _jit_compiled_convolution_op, _jit_compiled_convolution_op, _jit_compiled_convolution_op, _jit_compiled_convolution_op while saving (showing 5 of 6). These functions will not be directly callable after loading.\n"
          ]
        },
        {
          "output_type": "stream",
          "name": "stdout",
          "text": [
            "313/313 [==============================] - 3s 8ms/step - loss: 0.7774 - accuracy: 0.7611\n"
          ]
        },
        {
          "output_type": "execute_result",
          "data": {
            "text/plain": [
              "[0.7773957252502441, 0.7610999941825867]"
            ]
          },
          "metadata": {},
          "execution_count": 113
        }
      ]
    },
    {
      "cell_type": "markdown",
      "source": [
        "What we can do next?\n",
        "* Try more complex architectures\n",
        "* Try to get more data\n",
        "* Try transfer learning as according to papers with code there are a several models that can score ~99% accuracy on cifar10"
      ],
      "metadata": {
        "id": "654HoYdpTUBf"
      }
    },
    {
      "cell_type": "code",
      "source": [],
      "metadata": {
        "id": "a-gyGM-WTnik"
      },
      "execution_count": null,
      "outputs": []
    }
  ]
}